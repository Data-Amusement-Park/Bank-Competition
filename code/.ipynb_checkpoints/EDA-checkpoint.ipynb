{
 "cells": [
  {
   "cell_type": "markdown",
   "metadata": {},
   "source": [
    "## 探索性数据分析"
   ]
  },
  {
   "cell_type": "code",
   "execution_count": 38,
   "metadata": {
    "ExecuteTime": {
     "end_time": "2019-11-15T01:26:44.928319Z",
     "start_time": "2019-11-15T01:26:44.913214Z"
    }
   },
   "outputs": [],
   "source": [
    "import pandas as pd\n",
    "import seaborn as sns\n",
    "import matplotlib.pyplot as plt\n",
    "import matplotlib as mpl\n",
    "import numpy as np\n",
    "from matplotlib.ticker import PercentFormatter\n",
    "%matplotlib inline"
   ]
  },
  {
   "cell_type": "code",
   "execution_count": 39,
   "metadata": {
    "ExecuteTime": {
     "end_time": "2019-11-15T01:26:45.099662Z",
     "start_time": "2019-11-15T01:26:45.095500Z"
    }
   },
   "outputs": [],
   "source": [
    "from sklearn.decomposition import SparsePCA, PCA"
   ]
  },
  {
   "cell_type": "code",
   "execution_count": 40,
   "metadata": {
    "ExecuteTime": {
     "end_time": "2019-11-15T01:26:45.264654Z",
     "start_time": "2019-11-15T01:26:45.261188Z"
    }
   },
   "outputs": [],
   "source": [
    "mpl.style.use('fivethirtyeight')"
   ]
  },
  {
   "cell_type": "code",
   "execution_count": 41,
   "metadata": {
    "ExecuteTime": {
     "end_time": "2019-11-15T01:26:47.548552Z",
     "start_time": "2019-11-15T01:26:45.431346Z"
    }
   },
   "outputs": [],
   "source": [
    "# import data\n",
    "trainX = pd.read_csv('../data/train.csv')\n",
    "trainy = pd.read_csv('../data/train_target.csv')\n",
    "testX = pd.read_csv('../data/test.csv')"
   ]
  },
  {
   "cell_type": "markdown",
   "metadata": {},
   "source": [
    "### 数据预处理"
   ]
  },
  {
   "cell_type": "markdown",
   "metadata": {},
   "source": [
    "#### 数据格式"
   ]
  },
  {
   "cell_type": "code",
   "execution_count": 42,
   "metadata": {
    "ExecuteTime": {
     "end_time": "2019-11-15T01:26:47.567106Z",
     "start_time": "2019-11-15T01:26:47.550771Z"
    }
   },
   "outputs": [
    {
     "name": "stdout",
     "output_type": "stream",
     "text": [
      "<class 'pandas.core.frame.DataFrame'>\n",
      "RangeIndex: 132029 entries, 0 to 132028\n",
      "Columns: 104 entries, id to isNew\n",
      "dtypes: float64(3), int64(101)\n",
      "memory usage: 104.8 MB\n"
     ]
    }
   ],
   "source": [
    "trainX.info()"
   ]
  },
  {
   "cell_type": "code",
   "execution_count": 43,
   "metadata": {
    "ExecuteTime": {
     "end_time": "2019-11-15T01:26:47.644132Z",
     "start_time": "2019-11-15T01:26:47.571031Z"
    }
   },
   "outputs": [
    {
     "data": {
      "text/plain": [
       "Index(['id', 'certId', 'loanProduct', 'gender', 'age', 'dist', 'edu', 'job',\n",
       "       'lmt', 'basicLevel',\n",
       "       ...\n",
       "       'highestEdu', 'linkRela', 'setupHour', 'weekday', 'ncloseCreditCard',\n",
       "       'unpayIndvLoan', 'unpayOtherLoan', 'unpayNormalLoan', '5yearBadloan',\n",
       "       'isNew'],\n",
       "      dtype='object', length=104)"
      ]
     },
     "execution_count": 43,
     "metadata": {},
     "output_type": "execute_result"
    }
   ],
   "source": [
    "trainX.columns"
   ]
  },
  {
   "cell_type": "code",
   "execution_count": 44,
   "metadata": {
    "ExecuteTime": {
     "end_time": "2019-11-15T01:26:47.762994Z",
     "start_time": "2019-11-15T01:26:47.646683Z"
    }
   },
   "outputs": [
    {
     "name": "stdout",
     "output_type": "stream",
     "text": [
      "<class 'pandas.core.frame.DataFrame'>\n",
      "RangeIndex: 23561 entries, 0 to 23560\n",
      "Columns: 104 entries, id to isNew\n",
      "dtypes: float64(2), int64(102)\n",
      "memory usage: 18.7 MB\n"
     ]
    }
   ],
   "source": [
    "testX.info()"
   ]
  },
  {
   "cell_type": "code",
   "execution_count": 45,
   "metadata": {
    "ExecuteTime": {
     "end_time": "2019-11-15T01:26:47.863490Z",
     "start_time": "2019-11-15T01:26:47.766131Z"
    }
   },
   "outputs": [
    {
     "name": "stdout",
     "output_type": "stream",
     "text": [
      "<class 'pandas.core.frame.DataFrame'>\n",
      "RangeIndex: 132029 entries, 0 to 132028\n",
      "Data columns (total 2 columns):\n",
      "id        132029 non-null int64\n",
      "target    132029 non-null int64\n",
      "dtypes: int64(2)\n",
      "memory usage: 2.0 MB\n"
     ]
    }
   ],
   "source": [
    "trainy.info()"
   ]
  },
  {
   "cell_type": "markdown",
   "metadata": {},
   "source": [
    "#### 类别不平衡问题"
   ]
  },
  {
   "cell_type": "code",
   "execution_count": 46,
   "metadata": {
    "ExecuteTime": {
     "end_time": "2019-11-15T01:26:48.014718Z",
     "start_time": "2019-11-15T01:26:47.868317Z"
    }
   },
   "outputs": [
    {
     "data": {
      "text/plain": [
       "136.67361835245046"
      ]
     },
     "execution_count": 46,
     "metadata": {},
     "output_type": "execute_result"
    }
   ],
   "source": [
    "sum(trainy.target == 0) / sum(trainy.target == 1)"
   ]
  },
  {
   "cell_type": "markdown",
   "metadata": {},
   "source": [
    "#### 数据重复值与缺失值"
   ]
  },
  {
   "cell_type": "code",
   "execution_count": 49,
   "metadata": {
    "ExecuteTime": {
     "end_time": "2019-11-15T01:26:48.358528Z",
     "start_time": "2019-11-15T01:26:48.235339Z"
    }
   },
   "outputs": [],
   "source": [
    "# copy，update\n",
    "X = trainX.copy(deep=True)\n",
    "y = trainy.copy(deep=True)"
   ]
  },
  {
   "cell_type": "code",
   "execution_count": 50,
   "metadata": {
    "ExecuteTime": {
     "end_time": "2019-11-15T01:26:48.626519Z",
     "start_time": "2019-11-15T01:26:48.362115Z"
    }
   },
   "outputs": [
    {
     "data": {
      "text/plain": [
       "Index(['bankCard'], dtype='object')"
      ]
     },
     "execution_count": 50,
     "metadata": {},
     "output_type": "execute_result"
    }
   ],
   "source": [
    "# 含有缺失值的列\n",
    "trainX.columns[trainX.isna().sum(axis=0) != 0]"
   ]
  },
  {
   "cell_type": "code",
   "execution_count": 51,
   "metadata": {
    "ExecuteTime": {
     "end_time": "2019-11-15T01:26:48.638937Z",
     "start_time": "2019-11-15T01:26:48.629376Z"
    }
   },
   "outputs": [
    {
     "data": {
      "text/plain": [
       "0         -999.0\n",
       "1    622848079.0\n",
       "2         -999.0\n",
       "3         -999.0\n",
       "4    622700392.0\n",
       "Name: bankCard, dtype: float64"
      ]
     },
     "execution_count": 51,
     "metadata": {},
     "output_type": "execute_result"
    }
   ],
   "source": [
    "trainX.bankCard.head()"
   ]
  },
  {
   "cell_type": "code",
   "execution_count": 52,
   "metadata": {
    "ExecuteTime": {
     "end_time": "2019-11-15T01:26:48.729833Z",
     "start_time": "2019-11-15T01:26:48.642758Z"
    }
   },
   "outputs": [
    {
     "data": {
      "text/plain": [
       "20152"
      ]
     },
     "execution_count": 52,
     "metadata": {},
     "output_type": "execute_result"
    }
   ],
   "source": [
    "trainX.bankCard.isna().sum()"
   ]
  },
  {
   "cell_type": "code",
   "execution_count": 53,
   "metadata": {
    "ExecuteTime": {
     "end_time": "2019-11-15T01:26:48.848974Z",
     "start_time": "2019-11-15T01:26:48.732253Z"
    }
   },
   "outputs": [
    {
     "data": {
      "text/plain": [
       "30753"
      ]
     },
     "execution_count": 53,
     "metadata": {},
     "output_type": "execute_result"
    }
   ],
   "source": [
    "sum(trainX.bankCard == -999)"
   ]
  },
  {
   "cell_type": "code",
   "execution_count": 54,
   "metadata": {
    "ExecuteTime": {
     "end_time": "2019-11-15T01:26:48.975721Z",
     "start_time": "2019-11-15T01:26:48.852928Z"
    }
   },
   "outputs": [],
   "source": [
    "# \"bad\" samples\n",
    "X.bankCard.replace(-999, 1, inplace=True)\n",
    "X.bankCard.fillna(1, inplace=True)"
   ]
  },
  {
   "cell_type": "code",
   "execution_count": 55,
   "metadata": {
    "ExecuteTime": {
     "end_time": "2019-11-15T01:26:49.063630Z",
     "start_time": "2019-11-15T01:26:48.978643Z"
    }
   },
   "outputs": [],
   "source": [
    "# \"god\" samples\n",
    "X.loc[X.bankCard > 1, 'bankCard'] = 0"
   ]
  },
  {
   "cell_type": "code",
   "execution_count": 56,
   "metadata": {
    "ExecuteTime": {
     "end_time": "2019-11-15T01:26:49.839758Z",
     "start_time": "2019-11-15T01:26:49.825507Z"
    }
   },
   "outputs": [],
   "source": [
    "# test data\n",
    "testX.bankCard.replace(-999, 1, inplace=True)\n",
    "testX.bankCard.fillna(1, inplace=True)\n",
    "testX.loc[testX.bankCard > 1, 'bankCard'] = 0"
   ]
  },
  {
   "cell_type": "code",
   "execution_count": 57,
   "metadata": {
    "ExecuteTime": {
     "end_time": "2019-11-15T01:26:50.754412Z",
     "start_time": "2019-11-15T01:26:50.496564Z"
    }
   },
   "outputs": [
    {
     "data": {
      "text/plain": [
       "0"
      ]
     },
     "execution_count": 57,
     "metadata": {},
     "output_type": "execute_result"
    }
   ],
   "source": [
    "X.duplicated().sum()"
   ]
  },
  {
   "cell_type": "markdown",
   "metadata": {},
   "source": [
    "至此，我们将仅有的含有缺失值的列进行了处理,且数据没有重复数据。"
   ]
  },
  {
   "cell_type": "markdown",
   "metadata": {},
   "source": [
    "### 可视化分析"
   ]
  },
  {
   "cell_type": "code",
   "execution_count": 58,
   "metadata": {
    "ExecuteTime": {
     "end_time": "2019-11-15T01:26:52.652033Z",
     "start_time": "2019-11-15T01:26:52.647523Z"
    }
   },
   "outputs": [
    {
     "data": {
      "text/plain": [
       "Index(['id', 'certId', 'loanProduct', 'gender', 'age', 'dist', 'edu', 'job',\n",
       "       'lmt', 'basicLevel', 'x_0', 'x_1', 'x_2', 'x_3', 'x_4', 'x_5', 'x_6',\n",
       "       'x_7', 'x_8', 'x_9'],\n",
       "      dtype='object')"
      ]
     },
     "execution_count": 58,
     "metadata": {},
     "output_type": "execute_result"
    }
   ],
   "source": [
    "X.columns[:20]"
   ]
  },
  {
   "cell_type": "code",
   "execution_count": 59,
   "metadata": {
    "ExecuteTime": {
     "end_time": "2019-11-15T01:26:53.100499Z",
     "start_time": "2019-11-15T01:26:53.094858Z"
    }
   },
   "outputs": [
    {
     "data": {
      "text/plain": [
       "Index(['x_70', 'x_71', 'x_72', 'x_73', 'x_74', 'x_75', 'x_76', 'x_77', 'x_78',\n",
       "       'certValidBegin', 'certValidStop', 'bankCard', 'ethnic', 'residentAddr',\n",
       "       'highestEdu', 'linkRela', 'setupHour', 'weekday', 'ncloseCreditCard',\n",
       "       'unpayIndvLoan', 'unpayOtherLoan', 'unpayNormalLoan', '5yearBadloan',\n",
       "       'isNew'],\n",
       "      dtype='object')"
      ]
     },
     "execution_count": 59,
     "metadata": {},
     "output_type": "execute_result"
    }
   ],
   "source": [
    "X.columns[80:]"
   ]
  },
  {
   "cell_type": "code",
   "execution_count": 60,
   "metadata": {
    "ExecuteTime": {
     "end_time": "2019-11-15T01:26:54.545950Z",
     "start_time": "2019-11-15T01:26:54.538661Z"
    }
   },
   "outputs": [
    {
     "data": {
      "text/plain": [
       "['id',\n",
       " 'certId',\n",
       " 'loanProduct',\n",
       " 'gender',\n",
       " 'age',\n",
       " 'dist',\n",
       " 'edu',\n",
       " 'job',\n",
       " 'lmt',\n",
       " 'basicLevel',\n",
       " 'certValidBegin',\n",
       " 'certValidStop',\n",
       " 'bankCard',\n",
       " 'ethnic',\n",
       " 'residentAddr',\n",
       " 'highestEdu',\n",
       " 'linkRela',\n",
       " 'setupHour',\n",
       " 'weekday',\n",
       " 'ncloseCreditCard',\n",
       " 'unpayIndvLoan',\n",
       " 'unpayOtherLoan',\n",
       " 'unpayNormalLoan',\n",
       " '5yearBadloan',\n",
       " 'isNew']"
      ]
     },
     "execution_count": 60,
     "metadata": {},
     "output_type": "execute_result"
    }
   ],
   "source": [
    "[col for col in X.columns if 'x_' not in col]"
   ]
  },
  {
   "cell_type": "code",
   "execution_count": 61,
   "metadata": {
    "ExecuteTime": {
     "end_time": "2019-11-15T01:26:55.334273Z",
     "start_time": "2019-11-15T01:26:55.265716Z"
    }
   },
   "outputs": [],
   "source": [
    "df = pd.concat([X, y.target], axis=1)"
   ]
  },
  {
   "cell_type": "code",
   "execution_count": 62,
   "metadata": {
    "ExecuteTime": {
     "end_time": "2019-11-15T01:26:57.091052Z",
     "start_time": "2019-11-15T01:26:56.841751Z"
    }
   },
   "outputs": [],
   "source": [
    "# id\n",
    "# testX的id要暂时保留，用于输出数据结果，但是在进入预测时要再去掉\n",
    "df.drop(['id'], axis=1, inplace=True)"
   ]
  },
  {
   "cell_type": "code",
   "execution_count": 63,
   "metadata": {
    "ExecuteTime": {
     "end_time": "2019-11-15T01:26:58.189712Z",
     "start_time": "2019-11-15T01:26:58.087760Z"
    }
   },
   "outputs": [
    {
     "data": {
      "text/plain": [
       "640582    953\n",
       "645281    732\n",
       "645224    504\n",
       "640923    459\n",
       "640882    414\n",
       "641522    400\n",
       "640881    385\n",
       "550521    360\n",
       "641424    332\n",
       "640981    325\n",
       "Name: certId, dtype: int64"
      ]
     },
     "execution_count": 63,
     "metadata": {},
     "output_type": "execute_result"
    }
   ],
   "source": [
    "# certId\n",
    "df[df.target==0].certId.value_counts().head(10)"
   ]
  },
  {
   "cell_type": "code",
   "execution_count": 64,
   "metadata": {
    "ExecuteTime": {
     "end_time": "2019-11-15T01:26:58.790037Z",
     "start_time": "2019-11-15T01:26:58.698615Z"
    }
   },
   "outputs": [],
   "source": [
    "# 暂时去掉certId\n",
    "df.drop(['certId'], axis=1, inplace=True)\n",
    "testX.drop(['certId'], axis=1, inplace=True)"
   ]
  },
  {
   "cell_type": "code",
   "execution_count": 108,
   "metadata": {
    "ExecuteTime": {
     "end_time": "2019-11-15T01:55:21.647171Z",
     "start_time": "2019-11-15T01:55:21.631508Z"
    }
   },
   "outputs": [],
   "source": [
    "def catPlot(feature, save=False, bins=None):\n",
    "    N = len(df[feature][df.target==0])\n",
    "    P = len(df[feature][df.target==1])\n",
    "    fig, axs = plt.subplots(1, 2, tight_layout=True, figsize=(8, 4))\n",
    "    axs[0].hist(df.loc[df.target == 0, feature], weights=np.ones(N) / N, bins=bins)\n",
    "    axs[0].yaxis.set_major_formatter(PercentFormatter(xmax=1))\n",
    "    axs[0].set_xlabel('Negative')\n",
    "    axs[1].hist(df.loc[df.target == 1, feature], weights=np.ones(P) / P, bins=bins)\n",
    "    axs[1].yaxis.set_major_formatter(PercentFormatter(xmax=1))\n",
    "    axs[1].set_xlabel('Positive')\n",
    "    plt.suptitle(feature)\n",
    "    if save:\n",
    "        plt.savefig(f'../pics/{feature}.png', bbox_inches='tight', dpi=300)\n",
    "    plt.show()"
   ]
  },
  {
   "cell_type": "code",
   "execution_count": 66,
   "metadata": {
    "ExecuteTime": {
     "end_time": "2019-11-15T01:27:17.230186Z",
     "start_time": "2019-11-15T01:27:15.485034Z"
    }
   },
   "outputs": [
    {
     "data": {
      "image/png": "[encoded data removed]",
      "text/plain": [
       "<Figure size 576x288 with 2 Axes>"
      ]
     },
     "metadata": {},
     "output_type": "display_data"
    }
   ],
   "source": [
    "# loanProduct\n",
    "catPlot('loanProduct', save=True)"
   ]
  },
  {
   "cell_type": "code",
   "execution_count": 75,
   "metadata": {
    "ExecuteTime": {
     "end_time": "2019-11-15T01:36:24.355181Z",
     "start_time": "2019-11-15T01:36:24.342534Z"
    }
   },
   "outputs": [],
   "source": [
    "products = pd.get_dummies(pd.concat([df.loanProduct, testX.loanProduct],axis=0), \n",
    "                          prefix='product')\n",
    "df = df.join(products.iloc[0:len(df), :])\n",
    "df.drop(['loanProduct'], axis=1, inplace=True)\n",
    "# test data\n",
    "testX = testX.join(products.iloc[len(df):, :])\n",
    "testX.drop(['loanProduct'], axis=1, inplace=True)"
   ]
  },
  {
   "cell_type": "code",
   "execution_count": 79,
   "metadata": {
    "ExecuteTime": {
     "end_time": "2019-11-15T01:37:45.962467Z",
     "start_time": "2019-11-15T01:37:44.144916Z"
    }
   },
   "outputs": [
    {
     "data": {
      "image/png": "[encoded data removed]",
      "text/plain": [
       "<Figure size 576x288 with 2 Axes>"
      ]
     },
     "metadata": {},
     "output_type": "display_data"
    }
   ],
   "source": [
    "# gender\n",
    "catPlot('gender', save=True)"
   ]
  },
  {
   "cell_type": "code",
   "execution_count": 34,
   "metadata": {
    "ExecuteTime": {
     "end_time": "2019-11-09T01:19:43.411346Z",
     "start_time": "2019-11-09T01:19:43.408191Z"
    }
   },
   "outputs": [],
   "source": [
    "# df.drop(['gender'], axis=1, inplace=True)\n",
    "# test data\n",
    "# testX.drop(['gender'], axis=1, inplace=True)"
   ]
  },
  {
   "cell_type": "code",
   "execution_count": 166,
   "metadata": {
    "ExecuteTime": {
     "end_time": "2019-11-15T02:15:22.847750Z",
     "start_time": "2019-11-15T02:15:22.819785Z"
    }
   },
   "outputs": [],
   "source": [
    "def numPlot(feature, save=False, filename=None):\n",
    "    fig, axs = plt.subplots(1, 2, tight_layout=True, figsize=(8, 4))\n",
    "    axs[0].boxplot(df.loc[df.target == 0, feature])\n",
    "    axs[0].set_xlabel('Negative')\n",
    "    axs[1].boxplot(df.loc[df.target == 1, feature])\n",
    "    axs[1].set_xlabel('Positive')\n",
    "    plt.suptitle(feature)\n",
    "    if save:\n",
    "        plt.savefig(f'../pics/{filename}.png', bbox_inches='tight', dpi=300)\n",
    "    plt.show()"
   ]
  },
  {
   "cell_type": "code",
   "execution_count": 35,
   "metadata": {
    "ExecuteTime": {
     "end_time": "2019-11-09T01:19:51.873522Z",
     "start_time": "2019-11-09T01:19:51.521024Z"
    }
   },
   "outputs": [
    {
     "data": {
      "image/png": "[encoded data removed]",
      "text/plain": [
       "<Figure size 576x288 with 2 Axes>"
      ]
     },
     "metadata": {},
     "output_type": "display_data"
    }
   ],
   "source": [
    "# age\n",
    "fig = plt.figure(figsize=(8, 4))\n",
    "plt.subplot(1, 2, 1)\n",
    "plt.hist(df.age[df.target == 0], bins=10)\n",
    "plt.grid()\n",
    "plt.subplot(1, 2, 2)\n",
    "plt.hist(df.age[df.target == 1], bins=10)\n",
    "plt.grid()\n",
    "plt.show()"
   ]
  },
  {
   "cell_type": "code",
   "execution_count": 83,
   "metadata": {
    "ExecuteTime": {
     "end_time": "2019-11-15T01:39:48.311771Z",
     "start_time": "2019-11-15T01:39:47.962728Z"
    }
   },
   "outputs": [
    {
     "data": {
      "image/png": "[encoded data removed]",
      "text/plain": [
       "<Figure size 576x288 with 2 Axes>"
      ]
     },
     "metadata": {},
     "output_type": "display_data"
    }
   ],
   "source": [
    "numPlot('age', save=True, filename='age[before]')"
   ]
  },
  {
   "cell_type": "code",
   "execution_count": 85,
   "metadata": {
    "ExecuteTime": {
     "end_time": "2019-11-15T01:42:19.621731Z",
     "start_time": "2019-11-15T01:42:19.373279Z"
    }
   },
   "outputs": [],
   "source": [
    "df.drop(df.index[df.age > 100], inplace=True)"
   ]
  },
  {
   "cell_type": "markdown",
   "metadata": {},
   "source": [
    "因为大于100岁的人属于多数类，且数量极少，对与我们的模型拟合没有正向作用，作为异常值去除。"
   ]
  },
  {
   "cell_type": "code",
   "execution_count": 86,
   "metadata": {
    "ExecuteTime": {
     "end_time": "2019-11-15T01:42:20.548800Z",
     "start_time": "2019-11-15T01:42:20.206958Z"
    }
   },
   "outputs": [
    {
     "data": {
      "image/png": "[encoded data removed]",
      "text/plain": [
       "<Figure size 576x288 with 2 Axes>"
      ]
     },
     "metadata": {},
     "output_type": "display_data"
    }
   ],
   "source": [
    "numPlot('age', save=True, filename='age[after]')"
   ]
  },
  {
   "cell_type": "code",
   "execution_count": 116,
   "metadata": {
    "ExecuteTime": {
     "end_time": "2019-11-06T13:55:49.153281Z",
     "start_time": "2019-11-06T13:55:49.149235Z"
    }
   },
   "outputs": [],
   "source": [
    "# df.drop(['age'], axis=1, inplace=True)\n",
    "# # test data\n",
    "# testX.drop(['age'], axis=1, inplace=True)"
   ]
  },
  {
   "cell_type": "code",
   "execution_count": 87,
   "metadata": {
    "ExecuteTime": {
     "end_time": "2019-11-15T01:43:09.884480Z",
     "start_time": "2019-11-15T01:43:09.494587Z"
    }
   },
   "outputs": [],
   "source": [
    "# 标准化\n",
    "age_mean = df.age.mean()\n",
    "age_std = df.age.std()\n",
    "# training data\n",
    "df.age = (df.age - age_mean) / age_std\n",
    "# test data\n",
    "testX.age = (testX.age - age_mean) / age_std"
   ]
  },
  {
   "cell_type": "markdown",
   "metadata": {},
   "source": [
    "在标准化的时候注意要用训练集的统计量（均值，方差）对测试集的数据进行标准化，这是为了防止信息泄漏。\n",
    "参考[stackoverflow1](https://stats.stackexchange.com/questions/327294/data-standardization-for-training-and-testing-sets-for-different-scenarios), [stackoverflow2](https://stats.stackexchange.com/questions/174823/how-to-apply-standardization-normalization-to-train-and-testset-if-prediction-i)"
   ]
  },
  {
   "cell_type": "code",
   "execution_count": 111,
   "metadata": {
    "ExecuteTime": {
     "end_time": "2019-11-15T01:56:06.935984Z",
     "start_time": "2019-11-15T01:56:06.163240Z"
    }
   },
   "outputs": [
    {
     "data": {
      "image/png": "[encoded data removed]",
      "text/plain": [
       "<Figure size 576x288 with 2 Axes>"
      ]
     },
     "metadata": {},
     "output_type": "display_data"
    }
   ],
   "source": [
    "catPlot('dist',save=False, bins=100)"
   ]
  },
  {
   "cell_type": "code",
   "execution_count": 112,
   "metadata": {
    "ExecuteTime": {
     "end_time": "2019-11-15T01:56:38.583076Z",
     "start_time": "2019-11-15T01:56:38.413656Z"
    }
   },
   "outputs": [
    {
     "data": {
      "text/html": [
       "<div>\n",
       "<style scoped>\n",
       "    .dataframe tbody tr th:only-of-type {\n",
       "        vertical-align: middle;\n",
       "    }\n",
       "\n",
       "    .dataframe tbody tr th {\n",
       "        vertical-align: top;\n",
       "    }\n",
       "\n",
       "    .dataframe thead th {\n",
       "        text-align: right;\n",
       "    }\n",
       "</style>\n",
       "<table border=\"1\" class=\"dataframe\">\n",
       "  <thead>\n",
       "    <tr style=\"text-align: right;\">\n",
       "      <th></th>\n",
       "      <th>loanProduct</th>\n",
       "      <th>gender</th>\n",
       "      <th>age</th>\n",
       "      <th>dist</th>\n",
       "      <th>edu</th>\n",
       "      <th>job</th>\n",
       "      <th>lmt</th>\n",
       "      <th>basicLevel</th>\n",
       "      <th>x_0</th>\n",
       "      <th>x_1</th>\n",
       "      <th>...</th>\n",
       "      <th>ncloseCreditCard</th>\n",
       "      <th>unpayIndvLoan</th>\n",
       "      <th>unpayOtherLoan</th>\n",
       "      <th>unpayNormalLoan</th>\n",
       "      <th>5yearBadloan</th>\n",
       "      <th>isNew</th>\n",
       "      <th>target</th>\n",
       "      <th>product_1</th>\n",
       "      <th>product_2</th>\n",
       "      <th>product_3</th>\n",
       "    </tr>\n",
       "  </thead>\n",
       "  <tbody>\n",
       "    <tr>\n",
       "      <th>56558</th>\n",
       "      <td>1</td>\n",
       "      <td>2</td>\n",
       "      <td>-0.397463</td>\n",
       "      <td>1100000</td>\n",
       "      <td>0</td>\n",
       "      <td>4</td>\n",
       "      <td>2.963</td>\n",
       "      <td>3</td>\n",
       "      <td>0</td>\n",
       "      <td>0</td>\n",
       "      <td>...</td>\n",
       "      <td>1</td>\n",
       "      <td>0</td>\n",
       "      <td>0</td>\n",
       "      <td>0</td>\n",
       "      <td>0</td>\n",
       "      <td>0</td>\n",
       "      <td>0</td>\n",
       "      <td>1</td>\n",
       "      <td>0</td>\n",
       "      <td>0</td>\n",
       "    </tr>\n",
       "    <tr>\n",
       "      <th>83126</th>\n",
       "      <td>1</td>\n",
       "      <td>2</td>\n",
       "      <td>2.536434</td>\n",
       "      <td>1100000</td>\n",
       "      <td>0</td>\n",
       "      <td>16</td>\n",
       "      <td>9.630</td>\n",
       "      <td>1</td>\n",
       "      <td>0</td>\n",
       "      <td>0</td>\n",
       "      <td>...</td>\n",
       "      <td>1</td>\n",
       "      <td>0</td>\n",
       "      <td>1</td>\n",
       "      <td>1</td>\n",
       "      <td>0</td>\n",
       "      <td>0</td>\n",
       "      <td>0</td>\n",
       "      <td>1</td>\n",
       "      <td>0</td>\n",
       "      <td>0</td>\n",
       "    </tr>\n",
       "    <tr>\n",
       "      <th>87517</th>\n",
       "      <td>1</td>\n",
       "      <td>2</td>\n",
       "      <td>0.042622</td>\n",
       "      <td>1100000</td>\n",
       "      <td>0</td>\n",
       "      <td>4</td>\n",
       "      <td>0.996</td>\n",
       "      <td>-999</td>\n",
       "      <td>0</td>\n",
       "      <td>0</td>\n",
       "      <td>...</td>\n",
       "      <td>0</td>\n",
       "      <td>0</td>\n",
       "      <td>0</td>\n",
       "      <td>0</td>\n",
       "      <td>0</td>\n",
       "      <td>0</td>\n",
       "      <td>0</td>\n",
       "      <td>1</td>\n",
       "      <td>0</td>\n",
       "      <td>0</td>\n",
       "    </tr>\n",
       "    <tr>\n",
       "      <th>93401</th>\n",
       "      <td>1</td>\n",
       "      <td>2</td>\n",
       "      <td>-0.104073</td>\n",
       "      <td>1100000</td>\n",
       "      <td>0</td>\n",
       "      <td>4</td>\n",
       "      <td>8.963</td>\n",
       "      <td>1</td>\n",
       "      <td>0</td>\n",
       "      <td>0</td>\n",
       "      <td>...</td>\n",
       "      <td>1</td>\n",
       "      <td>0</td>\n",
       "      <td>1</td>\n",
       "      <td>1</td>\n",
       "      <td>0</td>\n",
       "      <td>0</td>\n",
       "      <td>0</td>\n",
       "      <td>1</td>\n",
       "      <td>0</td>\n",
       "      <td>0</td>\n",
       "    </tr>\n",
       "    <tr>\n",
       "      <th>94368</th>\n",
       "      <td>1</td>\n",
       "      <td>2</td>\n",
       "      <td>0.336012</td>\n",
       "      <td>1100000</td>\n",
       "      <td>0</td>\n",
       "      <td>16</td>\n",
       "      <td>72.963</td>\n",
       "      <td>1</td>\n",
       "      <td>0</td>\n",
       "      <td>0</td>\n",
       "      <td>...</td>\n",
       "      <td>1</td>\n",
       "      <td>0</td>\n",
       "      <td>1</td>\n",
       "      <td>1</td>\n",
       "      <td>0</td>\n",
       "      <td>0</td>\n",
       "      <td>0</td>\n",
       "      <td>1</td>\n",
       "      <td>0</td>\n",
       "      <td>0</td>\n",
       "    </tr>\n",
       "    <tr>\n",
       "      <th>109260</th>\n",
       "      <td>1</td>\n",
       "      <td>2</td>\n",
       "      <td>-0.397463</td>\n",
       "      <td>1100000</td>\n",
       "      <td>0</td>\n",
       "      <td>2</td>\n",
       "      <td>0.996</td>\n",
       "      <td>3</td>\n",
       "      <td>0</td>\n",
       "      <td>0</td>\n",
       "      <td>...</td>\n",
       "      <td>1</td>\n",
       "      <td>0</td>\n",
       "      <td>1</td>\n",
       "      <td>0</td>\n",
       "      <td>0</td>\n",
       "      <td>0</td>\n",
       "      <td>0</td>\n",
       "      <td>1</td>\n",
       "      <td>0</td>\n",
       "      <td>0</td>\n",
       "    </tr>\n",
       "    <tr>\n",
       "      <th>123094</th>\n",
       "      <td>1</td>\n",
       "      <td>2</td>\n",
       "      <td>0.482707</td>\n",
       "      <td>1100000</td>\n",
       "      <td>0</td>\n",
       "      <td>4</td>\n",
       "      <td>3.130</td>\n",
       "      <td>1</td>\n",
       "      <td>0</td>\n",
       "      <td>0</td>\n",
       "      <td>...</td>\n",
       "      <td>1</td>\n",
       "      <td>1</td>\n",
       "      <td>0</td>\n",
       "      <td>0</td>\n",
       "      <td>0</td>\n",
       "      <td>0</td>\n",
       "      <td>0</td>\n",
       "      <td>1</td>\n",
       "      <td>0</td>\n",
       "      <td>0</td>\n",
       "    </tr>\n",
       "  </tbody>\n",
       "</table>\n",
       "<p>7 rows × 106 columns</p>\n",
       "</div>"
      ],
      "text/plain": [
       "        loanProduct  gender       age     dist  edu  job     lmt  basicLevel  \\\n",
       "56558             1       2 -0.397463  1100000    0    4   2.963           3   \n",
       "83126             1       2  2.536434  1100000    0   16   9.630           1   \n",
       "87517             1       2  0.042622  1100000    0    4   0.996        -999   \n",
       "93401             1       2 -0.104073  1100000    0    4   8.963           1   \n",
       "94368             1       2  0.336012  1100000    0   16  72.963           1   \n",
       "109260            1       2 -0.397463  1100000    0    2   0.996           3   \n",
       "123094            1       2  0.482707  1100000    0    4   3.130           1   \n",
       "\n",
       "        x_0  x_1  ...  ncloseCreditCard  unpayIndvLoan  unpayOtherLoan  \\\n",
       "56558     0    0  ...                 1              0               0   \n",
       "83126     0    0  ...                 1              0               1   \n",
       "87517     0    0  ...                 0              0               0   \n",
       "93401     0    0  ...                 1              0               1   \n",
       "94368     0    0  ...                 1              0               1   \n",
       "109260    0    0  ...                 1              0               1   \n",
       "123094    0    0  ...                 1              1               0   \n",
       "\n",
       "        unpayNormalLoan  5yearBadloan  isNew  target  product_1  product_2  \\\n",
       "56558                 0             0      0       0          1          0   \n",
       "83126                 1             0      0       0          1          0   \n",
       "87517                 0             0      0       0          1          0   \n",
       "93401                 1             0      0       0          1          0   \n",
       "94368                 1             0      0       0          1          0   \n",
       "109260                0             0      0       0          1          0   \n",
       "123094                0             0      0       0          1          0   \n",
       "\n",
       "        product_3  \n",
       "56558           0  \n",
       "83126           0  \n",
       "87517           0  \n",
       "93401           0  \n",
       "94368           0  \n",
       "109260          0  \n",
       "123094          0  \n",
       "\n",
       "[7 rows x 106 columns]"
      ]
     },
     "execution_count": 112,
     "metadata": {},
     "output_type": "execute_result"
    }
   ],
   "source": [
    "df[df.dist > 900000]"
   ]
  },
  {
   "cell_type": "code",
   "execution_count": 113,
   "metadata": {
    "ExecuteTime": {
     "end_time": "2019-11-15T01:56:40.593502Z",
     "start_time": "2019-11-15T01:56:40.491481Z"
    }
   },
   "outputs": [],
   "source": [
    "df.drop(df.index[df.dist > 900000], inplace=True)"
   ]
  },
  {
   "cell_type": "code",
   "execution_count": 114,
   "metadata": {
    "ExecuteTime": {
     "end_time": "2019-11-15T01:56:44.351355Z",
     "start_time": "2019-11-15T01:56:44.244945Z"
    }
   },
   "outputs": [
    {
     "data": {
      "text/plain": [
       "640300    1994\n",
       "640100    1856\n",
       "710100    1809\n",
       "310100    1673\n",
       "510100    1421\n",
       "700100     974\n",
       "641900     893\n",
       "530100     875\n",
       "630100     802\n",
       "810100     768\n",
       "Name: dist, dtype: int64"
      ]
     },
     "execution_count": 114,
     "metadata": {},
     "output_type": "execute_result"
    }
   ],
   "source": [
    "df[df.target==0].dist.value_counts().head(10)"
   ]
  },
  {
   "cell_type": "code",
   "execution_count": 115,
   "metadata": {
    "ExecuteTime": {
     "end_time": "2019-11-15T01:56:44.701413Z",
     "start_time": "2019-11-15T01:56:44.689482Z"
    }
   },
   "outputs": [
    {
     "data": {
      "text/plain": [
       "640300    35\n",
       "710100    20\n",
       "640100    17\n",
       "700100    14\n",
       "310100    14\n",
       "730100    10\n",
       "641900     9\n",
       "640600     9\n",
       "810100     9\n",
       "510100     8\n",
       "Name: dist, dtype: int64"
      ]
     },
     "execution_count": 115,
     "metadata": {},
     "output_type": "execute_result"
    }
   ],
   "source": [
    "df[df.target==1].dist.value_counts().head(10)"
   ]
  },
  {
   "cell_type": "code",
   "execution_count": 116,
   "metadata": {
    "ExecuteTime": {
     "end_time": "2019-11-15T01:56:49.917355Z",
     "start_time": "2019-11-15T01:56:49.825834Z"
    }
   },
   "outputs": [],
   "source": [
    "df.drop(['dist'], axis=1, inplace=True)\n",
    "# test data\n",
    "testX.drop(['dist'], axis=1, inplace=True)"
   ]
  },
  {
   "cell_type": "code",
   "execution_count": 117,
   "metadata": {
    "ExecuteTime": {
     "end_time": "2019-11-15T01:57:56.923942Z",
     "start_time": "2019-11-15T01:57:56.460471Z"
    }
   },
   "outputs": [
    {
     "data": {
      "image/png": "[encoded data removed]",
      "text/plain": [
       "<Figure size 576x288 with 2 Axes>"
      ]
     },
     "metadata": {},
     "output_type": "display_data"
    }
   ],
   "source": [
    "# edu\n",
    "catPlot('edu')"
   ]
  },
  {
   "cell_type": "code",
   "execution_count": 118,
   "metadata": {
    "ExecuteTime": {
     "end_time": "2019-11-15T01:58:53.840534Z",
     "start_time": "2019-11-15T01:58:53.830199Z"
    }
   },
   "outputs": [
    {
     "data": {
      "text/plain": [
       "array([   0,   70,   30,   40,   20,   10,   60, -999,   47])"
      ]
     },
     "execution_count": 118,
     "metadata": {},
     "output_type": "execute_result"
    }
   ],
   "source": [
    "pd.unique(df.edu)"
   ]
  },
  {
   "cell_type": "code",
   "execution_count": 119,
   "metadata": {
    "ExecuteTime": {
     "end_time": "2019-11-15T01:58:54.581242Z",
     "start_time": "2019-11-15T01:58:54.543698Z"
    }
   },
   "outputs": [
    {
     "data": {
      "text/html": [
       "<div>\n",
       "<style scoped>\n",
       "    .dataframe tbody tr th:only-of-type {\n",
       "        vertical-align: middle;\n",
       "    }\n",
       "\n",
       "    .dataframe tbody tr th {\n",
       "        vertical-align: top;\n",
       "    }\n",
       "\n",
       "    .dataframe thead th {\n",
       "        text-align: right;\n",
       "    }\n",
       "</style>\n",
       "<table border=\"1\" class=\"dataframe\">\n",
       "  <thead>\n",
       "    <tr style=\"text-align: right;\">\n",
       "      <th></th>\n",
       "      <th>loanProduct</th>\n",
       "      <th>gender</th>\n",
       "      <th>age</th>\n",
       "      <th>edu</th>\n",
       "      <th>job</th>\n",
       "      <th>lmt</th>\n",
       "      <th>basicLevel</th>\n",
       "      <th>x_0</th>\n",
       "      <th>x_1</th>\n",
       "      <th>x_2</th>\n",
       "      <th>...</th>\n",
       "      <th>ncloseCreditCard</th>\n",
       "      <th>unpayIndvLoan</th>\n",
       "      <th>unpayOtherLoan</th>\n",
       "      <th>unpayNormalLoan</th>\n",
       "      <th>5yearBadloan</th>\n",
       "      <th>isNew</th>\n",
       "      <th>target</th>\n",
       "      <th>product_1</th>\n",
       "      <th>product_2</th>\n",
       "      <th>product_3</th>\n",
       "    </tr>\n",
       "  </thead>\n",
       "  <tbody>\n",
       "    <tr>\n",
       "      <th>3149</th>\n",
       "      <td>3</td>\n",
       "      <td>2</td>\n",
       "      <td>-1.277632</td>\n",
       "      <td>-999</td>\n",
       "      <td>4</td>\n",
       "      <td>2.233</td>\n",
       "      <td>2</td>\n",
       "      <td>0</td>\n",
       "      <td>0</td>\n",
       "      <td>0</td>\n",
       "      <td>...</td>\n",
       "      <td>0</td>\n",
       "      <td>0</td>\n",
       "      <td>1</td>\n",
       "      <td>0</td>\n",
       "      <td>0</td>\n",
       "      <td>1</td>\n",
       "      <td>0</td>\n",
       "      <td>0</td>\n",
       "      <td>0</td>\n",
       "      <td>1</td>\n",
       "    </tr>\n",
       "    <tr>\n",
       "      <th>4613</th>\n",
       "      <td>2</td>\n",
       "      <td>1</td>\n",
       "      <td>0.042622</td>\n",
       "      <td>-999</td>\n",
       "      <td>3</td>\n",
       "      <td>4.067</td>\n",
       "      <td>1</td>\n",
       "      <td>0</td>\n",
       "      <td>0</td>\n",
       "      <td>0</td>\n",
       "      <td>...</td>\n",
       "      <td>1</td>\n",
       "      <td>0</td>\n",
       "      <td>0</td>\n",
       "      <td>0</td>\n",
       "      <td>0</td>\n",
       "      <td>1</td>\n",
       "      <td>0</td>\n",
       "      <td>0</td>\n",
       "      <td>1</td>\n",
       "      <td>0</td>\n",
       "    </tr>\n",
       "    <tr>\n",
       "      <th>4861</th>\n",
       "      <td>3</td>\n",
       "      <td>2</td>\n",
       "      <td>0.482707</td>\n",
       "      <td>-999</td>\n",
       "      <td>4</td>\n",
       "      <td>8.000</td>\n",
       "      <td>3</td>\n",
       "      <td>0</td>\n",
       "      <td>0</td>\n",
       "      <td>0</td>\n",
       "      <td>...</td>\n",
       "      <td>1</td>\n",
       "      <td>0</td>\n",
       "      <td>1</td>\n",
       "      <td>0</td>\n",
       "      <td>0</td>\n",
       "      <td>1</td>\n",
       "      <td>0</td>\n",
       "      <td>0</td>\n",
       "      <td>0</td>\n",
       "      <td>1</td>\n",
       "    </tr>\n",
       "    <tr>\n",
       "      <th>5124</th>\n",
       "      <td>2</td>\n",
       "      <td>2</td>\n",
       "      <td>0.042622</td>\n",
       "      <td>-999</td>\n",
       "      <td>6</td>\n",
       "      <td>2.133</td>\n",
       "      <td>1</td>\n",
       "      <td>0</td>\n",
       "      <td>0</td>\n",
       "      <td>0</td>\n",
       "      <td>...</td>\n",
       "      <td>1</td>\n",
       "      <td>0</td>\n",
       "      <td>1</td>\n",
       "      <td>0</td>\n",
       "      <td>0</td>\n",
       "      <td>1</td>\n",
       "      <td>0</td>\n",
       "      <td>0</td>\n",
       "      <td>1</td>\n",
       "      <td>0</td>\n",
       "    </tr>\n",
       "    <tr>\n",
       "      <th>11221</th>\n",
       "      <td>1</td>\n",
       "      <td>1</td>\n",
       "      <td>0.629401</td>\n",
       "      <td>-999</td>\n",
       "      <td>4</td>\n",
       "      <td>5.963</td>\n",
       "      <td>1</td>\n",
       "      <td>0</td>\n",
       "      <td>0</td>\n",
       "      <td>0</td>\n",
       "      <td>...</td>\n",
       "      <td>1</td>\n",
       "      <td>0</td>\n",
       "      <td>1</td>\n",
       "      <td>0</td>\n",
       "      <td>0</td>\n",
       "      <td>1</td>\n",
       "      <td>0</td>\n",
       "      <td>1</td>\n",
       "      <td>0</td>\n",
       "      <td>0</td>\n",
       "    </tr>\n",
       "    <tr>\n",
       "      <th>15476</th>\n",
       "      <td>1</td>\n",
       "      <td>2</td>\n",
       "      <td>0.336012</td>\n",
       "      <td>-999</td>\n",
       "      <td>4</td>\n",
       "      <td>1.796</td>\n",
       "      <td>1</td>\n",
       "      <td>0</td>\n",
       "      <td>0</td>\n",
       "      <td>0</td>\n",
       "      <td>...</td>\n",
       "      <td>1</td>\n",
       "      <td>0</td>\n",
       "      <td>1</td>\n",
       "      <td>0</td>\n",
       "      <td>0</td>\n",
       "      <td>1</td>\n",
       "      <td>0</td>\n",
       "      <td>1</td>\n",
       "      <td>0</td>\n",
       "      <td>0</td>\n",
       "    </tr>\n",
       "    <tr>\n",
       "      <th>16086</th>\n",
       "      <td>3</td>\n",
       "      <td>2</td>\n",
       "      <td>-0.250768</td>\n",
       "      <td>-999</td>\n",
       "      <td>4</td>\n",
       "      <td>1.267</td>\n",
       "      <td>2</td>\n",
       "      <td>0</td>\n",
       "      <td>0</td>\n",
       "      <td>0</td>\n",
       "      <td>...</td>\n",
       "      <td>1</td>\n",
       "      <td>0</td>\n",
       "      <td>1</td>\n",
       "      <td>0</td>\n",
       "      <td>0</td>\n",
       "      <td>1</td>\n",
       "      <td>0</td>\n",
       "      <td>0</td>\n",
       "      <td>0</td>\n",
       "      <td>1</td>\n",
       "    </tr>\n",
       "    <tr>\n",
       "      <th>23615</th>\n",
       "      <td>2</td>\n",
       "      <td>2</td>\n",
       "      <td>-0.837547</td>\n",
       "      <td>-999</td>\n",
       "      <td>4</td>\n",
       "      <td>5.400</td>\n",
       "      <td>3</td>\n",
       "      <td>0</td>\n",
       "      <td>0</td>\n",
       "      <td>0</td>\n",
       "      <td>...</td>\n",
       "      <td>0</td>\n",
       "      <td>0</td>\n",
       "      <td>1</td>\n",
       "      <td>0</td>\n",
       "      <td>0</td>\n",
       "      <td>1</td>\n",
       "      <td>0</td>\n",
       "      <td>0</td>\n",
       "      <td>1</td>\n",
       "      <td>0</td>\n",
       "    </tr>\n",
       "    <tr>\n",
       "      <th>24331</th>\n",
       "      <td>2</td>\n",
       "      <td>2</td>\n",
       "      <td>-1.424326</td>\n",
       "      <td>-999</td>\n",
       "      <td>4</td>\n",
       "      <td>6.533</td>\n",
       "      <td>1</td>\n",
       "      <td>0</td>\n",
       "      <td>0</td>\n",
       "      <td>0</td>\n",
       "      <td>...</td>\n",
       "      <td>0</td>\n",
       "      <td>0</td>\n",
       "      <td>1</td>\n",
       "      <td>0</td>\n",
       "      <td>0</td>\n",
       "      <td>1</td>\n",
       "      <td>0</td>\n",
       "      <td>0</td>\n",
       "      <td>1</td>\n",
       "      <td>0</td>\n",
       "    </tr>\n",
       "    <tr>\n",
       "      <th>26402</th>\n",
       "      <td>2</td>\n",
       "      <td>2</td>\n",
       "      <td>-0.837547</td>\n",
       "      <td>-999</td>\n",
       "      <td>4</td>\n",
       "      <td>5.200</td>\n",
       "      <td>3</td>\n",
       "      <td>0</td>\n",
       "      <td>0</td>\n",
       "      <td>0</td>\n",
       "      <td>...</td>\n",
       "      <td>1</td>\n",
       "      <td>0</td>\n",
       "      <td>1</td>\n",
       "      <td>0</td>\n",
       "      <td>0</td>\n",
       "      <td>1</td>\n",
       "      <td>0</td>\n",
       "      <td>0</td>\n",
       "      <td>1</td>\n",
       "      <td>0</td>\n",
       "    </tr>\n",
       "    <tr>\n",
       "      <th>27704</th>\n",
       "      <td>3</td>\n",
       "      <td>2</td>\n",
       "      <td>0.776096</td>\n",
       "      <td>-999</td>\n",
       "      <td>4</td>\n",
       "      <td>7.033</td>\n",
       "      <td>3</td>\n",
       "      <td>0</td>\n",
       "      <td>0</td>\n",
       "      <td>0</td>\n",
       "      <td>...</td>\n",
       "      <td>1</td>\n",
       "      <td>0</td>\n",
       "      <td>1</td>\n",
       "      <td>0</td>\n",
       "      <td>0</td>\n",
       "      <td>1</td>\n",
       "      <td>0</td>\n",
       "      <td>0</td>\n",
       "      <td>0</td>\n",
       "      <td>1</td>\n",
       "    </tr>\n",
       "    <tr>\n",
       "      <th>27713</th>\n",
       "      <td>2</td>\n",
       "      <td>1</td>\n",
       "      <td>1.216181</td>\n",
       "      <td>-999</td>\n",
       "      <td>4</td>\n",
       "      <td>3.333</td>\n",
       "      <td>3</td>\n",
       "      <td>0</td>\n",
       "      <td>0</td>\n",
       "      <td>0</td>\n",
       "      <td>...</td>\n",
       "      <td>1</td>\n",
       "      <td>1</td>\n",
       "      <td>1</td>\n",
       "      <td>0</td>\n",
       "      <td>0</td>\n",
       "      <td>1</td>\n",
       "      <td>0</td>\n",
       "      <td>0</td>\n",
       "      <td>1</td>\n",
       "      <td>0</td>\n",
       "    </tr>\n",
       "    <tr>\n",
       "      <th>29755</th>\n",
       "      <td>3</td>\n",
       "      <td>2</td>\n",
       "      <td>-0.837547</td>\n",
       "      <td>-999</td>\n",
       "      <td>4</td>\n",
       "      <td>5.367</td>\n",
       "      <td>2</td>\n",
       "      <td>0</td>\n",
       "      <td>0</td>\n",
       "      <td>0</td>\n",
       "      <td>...</td>\n",
       "      <td>1</td>\n",
       "      <td>0</td>\n",
       "      <td>1</td>\n",
       "      <td>0</td>\n",
       "      <td>0</td>\n",
       "      <td>1</td>\n",
       "      <td>0</td>\n",
       "      <td>0</td>\n",
       "      <td>0</td>\n",
       "      <td>1</td>\n",
       "    </tr>\n",
       "    <tr>\n",
       "      <th>34326</th>\n",
       "      <td>2</td>\n",
       "      <td>2</td>\n",
       "      <td>-0.397463</td>\n",
       "      <td>-999</td>\n",
       "      <td>3</td>\n",
       "      <td>8.167</td>\n",
       "      <td>2</td>\n",
       "      <td>0</td>\n",
       "      <td>0</td>\n",
       "      <td>0</td>\n",
       "      <td>...</td>\n",
       "      <td>0</td>\n",
       "      <td>0</td>\n",
       "      <td>1</td>\n",
       "      <td>0</td>\n",
       "      <td>0</td>\n",
       "      <td>1</td>\n",
       "      <td>0</td>\n",
       "      <td>0</td>\n",
       "      <td>1</td>\n",
       "      <td>0</td>\n",
       "    </tr>\n",
       "    <tr>\n",
       "      <th>34794</th>\n",
       "      <td>1</td>\n",
       "      <td>2</td>\n",
       "      <td>0.042622</td>\n",
       "      <td>-999</td>\n",
       "      <td>3</td>\n",
       "      <td>16.963</td>\n",
       "      <td>1</td>\n",
       "      <td>0</td>\n",
       "      <td>0</td>\n",
       "      <td>0</td>\n",
       "      <td>...</td>\n",
       "      <td>1</td>\n",
       "      <td>0</td>\n",
       "      <td>1</td>\n",
       "      <td>1</td>\n",
       "      <td>0</td>\n",
       "      <td>1</td>\n",
       "      <td>0</td>\n",
       "      <td>1</td>\n",
       "      <td>0</td>\n",
       "      <td>0</td>\n",
       "    </tr>\n",
       "    <tr>\n",
       "      <th>35698</th>\n",
       "      <td>3</td>\n",
       "      <td>2</td>\n",
       "      <td>0.776096</td>\n",
       "      <td>-999</td>\n",
       "      <td>4</td>\n",
       "      <td>2.100</td>\n",
       "      <td>3</td>\n",
       "      <td>0</td>\n",
       "      <td>0</td>\n",
       "      <td>0</td>\n",
       "      <td>...</td>\n",
       "      <td>1</td>\n",
       "      <td>1</td>\n",
       "      <td>1</td>\n",
       "      <td>0</td>\n",
       "      <td>0</td>\n",
       "      <td>1</td>\n",
       "      <td>0</td>\n",
       "      <td>0</td>\n",
       "      <td>0</td>\n",
       "      <td>1</td>\n",
       "    </tr>\n",
       "    <tr>\n",
       "      <th>40600</th>\n",
       "      <td>3</td>\n",
       "      <td>2</td>\n",
       "      <td>1.509570</td>\n",
       "      <td>-999</td>\n",
       "      <td>4</td>\n",
       "      <td>3.133</td>\n",
       "      <td>2</td>\n",
       "      <td>0</td>\n",
       "      <td>0</td>\n",
       "      <td>0</td>\n",
       "      <td>...</td>\n",
       "      <td>1</td>\n",
       "      <td>1</td>\n",
       "      <td>1</td>\n",
       "      <td>0</td>\n",
       "      <td>0</td>\n",
       "      <td>1</td>\n",
       "      <td>0</td>\n",
       "      <td>0</td>\n",
       "      <td>0</td>\n",
       "      <td>1</td>\n",
       "    </tr>\n",
       "    <tr>\n",
       "      <th>46441</th>\n",
       "      <td>3</td>\n",
       "      <td>2</td>\n",
       "      <td>0.042622</td>\n",
       "      <td>-999</td>\n",
       "      <td>4</td>\n",
       "      <td>2.000</td>\n",
       "      <td>3</td>\n",
       "      <td>0</td>\n",
       "      <td>0</td>\n",
       "      <td>0</td>\n",
       "      <td>...</td>\n",
       "      <td>1</td>\n",
       "      <td>0</td>\n",
       "      <td>0</td>\n",
       "      <td>0</td>\n",
       "      <td>0</td>\n",
       "      <td>1</td>\n",
       "      <td>0</td>\n",
       "      <td>0</td>\n",
       "      <td>0</td>\n",
       "      <td>1</td>\n",
       "    </tr>\n",
       "  </tbody>\n",
       "</table>\n",
       "<p>18 rows × 105 columns</p>\n",
       "</div>"
      ],
      "text/plain": [
       "       loanProduct  gender       age  edu  job     lmt  basicLevel  x_0  x_1  \\\n",
       "3149             3       2 -1.277632 -999    4   2.233           2    0    0   \n",
       "4613             2       1  0.042622 -999    3   4.067           1    0    0   \n",
       "4861             3       2  0.482707 -999    4   8.000           3    0    0   \n",
       "5124             2       2  0.042622 -999    6   2.133           1    0    0   \n",
       "11221            1       1  0.629401 -999    4   5.963           1    0    0   \n",
       "15476            1       2  0.336012 -999    4   1.796           1    0    0   \n",
       "16086            3       2 -0.250768 -999    4   1.267           2    0    0   \n",
       "23615            2       2 -0.837547 -999    4   5.400           3    0    0   \n",
       "24331            2       2 -1.424326 -999    4   6.533           1    0    0   \n",
       "26402            2       2 -0.837547 -999    4   5.200           3    0    0   \n",
       "27704            3       2  0.776096 -999    4   7.033           3    0    0   \n",
       "27713            2       1  1.216181 -999    4   3.333           3    0    0   \n",
       "29755            3       2 -0.837547 -999    4   5.367           2    0    0   \n",
       "34326            2       2 -0.397463 -999    3   8.167           2    0    0   \n",
       "34794            1       2  0.042622 -999    3  16.963           1    0    0   \n",
       "35698            3       2  0.776096 -999    4   2.100           3    0    0   \n",
       "40600            3       2  1.509570 -999    4   3.133           2    0    0   \n",
       "46441            3       2  0.042622 -999    4   2.000           3    0    0   \n",
       "\n",
       "       x_2  ...  ncloseCreditCard  unpayIndvLoan  unpayOtherLoan  \\\n",
       "3149     0  ...                 0              0               1   \n",
       "4613     0  ...                 1              0               0   \n",
       "4861     0  ...                 1              0               1   \n",
       "5124     0  ...                 1              0               1   \n",
       "11221    0  ...                 1              0               1   \n",
       "15476    0  ...                 1              0               1   \n",
       "16086    0  ...                 1              0               1   \n",
       "23615    0  ...                 0              0               1   \n",
       "24331    0  ...                 0              0               1   \n",
       "26402    0  ...                 1              0               1   \n",
       "27704    0  ...                 1              0               1   \n",
       "27713    0  ...                 1              1               1   \n",
       "29755    0  ...                 1              0               1   \n",
       "34326    0  ...                 0              0               1   \n",
       "34794    0  ...                 1              0               1   \n",
       "35698    0  ...                 1              1               1   \n",
       "40600    0  ...                 1              1               1   \n",
       "46441    0  ...                 1              0               0   \n",
       "\n",
       "       unpayNormalLoan  5yearBadloan  isNew  target  product_1  product_2  \\\n",
       "3149                 0             0      1       0          0          0   \n",
       "4613                 0             0      1       0          0          1   \n",
       "4861                 0             0      1       0          0          0   \n",
       "5124                 0             0      1       0          0          1   \n",
       "11221                0             0      1       0          1          0   \n",
       "15476                0             0      1       0          1          0   \n",
       "16086                0             0      1       0          0          0   \n",
       "23615                0             0      1       0          0          1   \n",
       "24331                0             0      1       0          0          1   \n",
       "26402                0             0      1       0          0          1   \n",
       "27704                0             0      1       0          0          0   \n",
       "27713                0             0      1       0          0          1   \n",
       "29755                0             0      1       0          0          0   \n",
       "34326                0             0      1       0          0          1   \n",
       "34794                1             0      1       0          1          0   \n",
       "35698                0             0      1       0          0          0   \n",
       "40600                0             0      1       0          0          0   \n",
       "46441                0             0      1       0          0          0   \n",
       "\n",
       "       product_3  \n",
       "3149           1  \n",
       "4613           0  \n",
       "4861           1  \n",
       "5124           0  \n",
       "11221          0  \n",
       "15476          0  \n",
       "16086          1  \n",
       "23615          0  \n",
       "24331          0  \n",
       "26402          0  \n",
       "27704          1  \n",
       "27713          0  \n",
       "29755          1  \n",
       "34326          0  \n",
       "34794          0  \n",
       "35698          1  \n",
       "40600          1  \n",
       "46441          1  \n",
       "\n",
       "[18 rows x 105 columns]"
      ]
     },
     "execution_count": 119,
     "metadata": {},
     "output_type": "execute_result"
    }
   ],
   "source": [
    "df[df.edu == -999]"
   ]
  },
  {
   "cell_type": "code",
   "execution_count": 120,
   "metadata": {
    "ExecuteTime": {
     "end_time": "2019-11-15T01:59:02.014392Z",
     "start_time": "2019-11-15T01:59:01.905785Z"
    }
   },
   "outputs": [],
   "source": [
    "df.drop(df.index[df.edu == -999], inplace=True)"
   ]
  },
  {
   "cell_type": "code",
   "execution_count": 121,
   "metadata": {
    "ExecuteTime": {
     "end_time": "2019-11-15T01:59:03.942057Z",
     "start_time": "2019-11-15T01:59:03.852614Z"
    }
   },
   "outputs": [
    {
     "data": {
      "text/plain": [
       "0     128756\n",
       "40       873\n",
       "30       741\n",
       "20       312\n",
       "70       272\n",
       "60        51\n",
       "10        34\n",
       "47         3\n",
       "Name: edu, dtype: int64"
      ]
     },
     "execution_count": 121,
     "metadata": {},
     "output_type": "execute_result"
    }
   ],
   "source": [
    "df[df.target==0].edu.value_counts().head(10)"
   ]
  },
  {
   "cell_type": "code",
   "execution_count": 122,
   "metadata": {
    "ExecuteTime": {
     "end_time": "2019-11-15T01:59:06.059265Z",
     "start_time": "2019-11-15T01:59:06.036041Z"
    }
   },
   "outputs": [
    {
     "data": {
      "text/plain": [
       "0     956\n",
       "30      2\n",
       "70      1\n",
       "Name: edu, dtype: int64"
      ]
     },
     "execution_count": 122,
     "metadata": {},
     "output_type": "execute_result"
    }
   ],
   "source": [
    "df[df.target==1].edu.value_counts().head(10)"
   ]
  },
  {
   "cell_type": "code",
   "execution_count": 123,
   "metadata": {
    "ExecuteTime": {
     "end_time": "2019-11-15T01:59:15.142800Z",
     "start_time": "2019-11-15T01:59:14.977182Z"
    }
   },
   "outputs": [],
   "source": [
    "# 标准化\n",
    "edu_mean = df.edu.mean()\n",
    "edu_std = df.edu.std()\n",
    "# training data\n",
    "df.edu = (df.edu - edu_mean) / edu_std\n",
    "# test data\n",
    "testX.edu = (testX.edu - edu_mean) / edu_std"
   ]
  },
  {
   "cell_type": "code",
   "execution_count": 55,
   "metadata": {
    "ExecuteTime": {
     "end_time": "2019-11-09T01:28:40.328776Z",
     "start_time": "2019-11-09T01:28:39.902994Z"
    }
   },
   "outputs": [
    {
     "data": {
      "image/png": "[encoded data removed]",
      "text/plain": [
       "<Figure size 576x288 with 2 Axes>"
      ]
     },
     "metadata": {},
     "output_type": "display_data"
    }
   ],
   "source": [
    "# job\n",
    "fig = plt.figure(figsize=(8, 4))\n",
    "plt.subplot(1, 2, 1)\n",
    "sns.countplot(df.job[df.target == 0])\n",
    "plt.subplot(1, 2, 2)\n",
    "sns.countplot(df.job[df.target == 1])\n",
    "plt.grid()\n",
    "plt.show()"
   ]
  },
  {
   "cell_type": "code",
   "execution_count": 127,
   "metadata": {
    "ExecuteTime": {
     "end_time": "2019-11-15T02:05:13.524104Z",
     "start_time": "2019-11-15T02:05:13.519490Z"
    }
   },
   "outputs": [],
   "source": [
    "# 共15种工作\n",
    "job_names = ['job_' + str(i) for i in range(1, 16)]"
   ]
  },
  {
   "cell_type": "code",
   "execution_count": 128,
   "metadata": {
    "ExecuteTime": {
     "end_time": "2019-11-15T02:05:13.813638Z",
     "start_time": "2019-11-15T02:05:13.735073Z"
    }
   },
   "outputs": [],
   "source": [
    "df[job_names] = pd.get_dummies(pd.concat([df.job, testX.job], axis=0)).iloc[0:len(df), :]\n",
    "testX[job_names] = pd.get_dummies(pd.concat([df.job, testX.job], axis=0)).iloc[len(df):, :]"
   ]
  },
  {
   "cell_type": "code",
   "execution_count": 129,
   "metadata": {
    "ExecuteTime": {
     "end_time": "2019-11-15T02:05:14.317018Z",
     "start_time": "2019-11-15T02:05:14.286477Z"
    }
   },
   "outputs": [
    {
     "data": {
      "text/html": [
       "<div>\n",
       "<style scoped>\n",
       "    .dataframe tbody tr th:only-of-type {\n",
       "        vertical-align: middle;\n",
       "    }\n",
       "\n",
       "    .dataframe tbody tr th {\n",
       "        vertical-align: top;\n",
       "    }\n",
       "\n",
       "    .dataframe thead th {\n",
       "        text-align: right;\n",
       "    }\n",
       "</style>\n",
       "<table border=\"1\" class=\"dataframe\">\n",
       "  <thead>\n",
       "    <tr style=\"text-align: right;\">\n",
       "      <th></th>\n",
       "      <th>loanProduct</th>\n",
       "      <th>gender</th>\n",
       "      <th>age</th>\n",
       "      <th>edu</th>\n",
       "      <th>job</th>\n",
       "      <th>lmt</th>\n",
       "      <th>basicLevel</th>\n",
       "      <th>x_0</th>\n",
       "      <th>x_1</th>\n",
       "      <th>x_2</th>\n",
       "      <th>...</th>\n",
       "      <th>job_6</th>\n",
       "      <th>job_7</th>\n",
       "      <th>job_8</th>\n",
       "      <th>job_9</th>\n",
       "      <th>job_10</th>\n",
       "      <th>job_11</th>\n",
       "      <th>job_12</th>\n",
       "      <th>job_13</th>\n",
       "      <th>job_14</th>\n",
       "      <th>job_15</th>\n",
       "    </tr>\n",
       "  </thead>\n",
       "  <tbody>\n",
       "    <tr>\n",
       "      <th>0</th>\n",
       "      <td>1</td>\n",
       "      <td>2</td>\n",
       "      <td>-0.250768</td>\n",
       "      <td>-0.123781</td>\n",
       "      <td>8</td>\n",
       "      <td>5.963</td>\n",
       "      <td>3</td>\n",
       "      <td>0</td>\n",
       "      <td>0</td>\n",
       "      <td>0</td>\n",
       "      <td>...</td>\n",
       "      <td>0</td>\n",
       "      <td>0</td>\n",
       "      <td>1</td>\n",
       "      <td>0</td>\n",
       "      <td>0</td>\n",
       "      <td>0</td>\n",
       "      <td>0</td>\n",
       "      <td>0</td>\n",
       "      <td>0</td>\n",
       "      <td>0</td>\n",
       "    </tr>\n",
       "    <tr>\n",
       "      <th>1</th>\n",
       "      <td>2</td>\n",
       "      <td>2</td>\n",
       "      <td>-0.544157</td>\n",
       "      <td>-0.123781</td>\n",
       "      <td>3</td>\n",
       "      <td>6.467</td>\n",
       "      <td>3</td>\n",
       "      <td>0</td>\n",
       "      <td>0</td>\n",
       "      <td>0</td>\n",
       "      <td>...</td>\n",
       "      <td>0</td>\n",
       "      <td>0</td>\n",
       "      <td>0</td>\n",
       "      <td>0</td>\n",
       "      <td>0</td>\n",
       "      <td>0</td>\n",
       "      <td>0</td>\n",
       "      <td>0</td>\n",
       "      <td>0</td>\n",
       "      <td>0</td>\n",
       "    </tr>\n",
       "    <tr>\n",
       "      <th>2</th>\n",
       "      <td>1</td>\n",
       "      <td>2</td>\n",
       "      <td>1.216181</td>\n",
       "      <td>13.159961</td>\n",
       "      <td>5</td>\n",
       "      <td>0.596</td>\n",
       "      <td>1</td>\n",
       "      <td>0</td>\n",
       "      <td>0</td>\n",
       "      <td>0</td>\n",
       "      <td>...</td>\n",
       "      <td>0</td>\n",
       "      <td>0</td>\n",
       "      <td>0</td>\n",
       "      <td>0</td>\n",
       "      <td>0</td>\n",
       "      <td>0</td>\n",
       "      <td>0</td>\n",
       "      <td>0</td>\n",
       "      <td>0</td>\n",
       "      <td>0</td>\n",
       "    </tr>\n",
       "    <tr>\n",
       "      <th>3</th>\n",
       "      <td>3</td>\n",
       "      <td>2</td>\n",
       "      <td>0.042622</td>\n",
       "      <td>-0.123781</td>\n",
       "      <td>4</td>\n",
       "      <td>6.300</td>\n",
       "      <td>3</td>\n",
       "      <td>0</td>\n",
       "      <td>0</td>\n",
       "      <td>0</td>\n",
       "      <td>...</td>\n",
       "      <td>0</td>\n",
       "      <td>0</td>\n",
       "      <td>0</td>\n",
       "      <td>0</td>\n",
       "      <td>0</td>\n",
       "      <td>0</td>\n",
       "      <td>0</td>\n",
       "      <td>0</td>\n",
       "      <td>0</td>\n",
       "      <td>0</td>\n",
       "    </tr>\n",
       "    <tr>\n",
       "      <th>4</th>\n",
       "      <td>2</td>\n",
       "      <td>2</td>\n",
       "      <td>-0.984242</td>\n",
       "      <td>-0.123781</td>\n",
       "      <td>2</td>\n",
       "      <td>6.700</td>\n",
       "      <td>2</td>\n",
       "      <td>0</td>\n",
       "      <td>0</td>\n",
       "      <td>0</td>\n",
       "      <td>...</td>\n",
       "      <td>0</td>\n",
       "      <td>0</td>\n",
       "      <td>0</td>\n",
       "      <td>0</td>\n",
       "      <td>0</td>\n",
       "      <td>0</td>\n",
       "      <td>0</td>\n",
       "      <td>0</td>\n",
       "      <td>0</td>\n",
       "      <td>0</td>\n",
       "    </tr>\n",
       "  </tbody>\n",
       "</table>\n",
       "<p>5 rows × 120 columns</p>\n",
       "</div>"
      ],
      "text/plain": [
       "   loanProduct  gender       age        edu  job    lmt  basicLevel  x_0  x_1  \\\n",
       "0            1       2 -0.250768  -0.123781    8  5.963           3    0    0   \n",
       "1            2       2 -0.544157  -0.123781    3  6.467           3    0    0   \n",
       "2            1       2  1.216181  13.159961    5  0.596           1    0    0   \n",
       "3            3       2  0.042622  -0.123781    4  6.300           3    0    0   \n",
       "4            2       2 -0.984242  -0.123781    2  6.700           2    0    0   \n",
       "\n",
       "   x_2  ...  job_6  job_7  job_8  job_9  job_10  job_11  job_12  job_13  \\\n",
       "0    0  ...      0      0      1      0       0       0       0       0   \n",
       "1    0  ...      0      0      0      0       0       0       0       0   \n",
       "2    0  ...      0      0      0      0       0       0       0       0   \n",
       "3    0  ...      0      0      0      0       0       0       0       0   \n",
       "4    0  ...      0      0      0      0       0       0       0       0   \n",
       "\n",
       "   job_14  job_15  \n",
       "0       0       0  \n",
       "1       0       0  \n",
       "2       0       0  \n",
       "3       0       0  \n",
       "4       0       0  \n",
       "\n",
       "[5 rows x 120 columns]"
      ]
     },
     "execution_count": 129,
     "metadata": {},
     "output_type": "execute_result"
    }
   ],
   "source": [
    "df.head()"
   ]
  },
  {
   "cell_type": "code",
   "execution_count": 130,
   "metadata": {
    "ExecuteTime": {
     "end_time": "2019-11-15T02:05:17.036115Z",
     "start_time": "2019-11-15T02:05:16.929520Z"
    }
   },
   "outputs": [],
   "source": [
    "df.drop(['job'], axis=1, inplace=True)\n",
    "testX.drop(['job'], axis=1, inplace=True)"
   ]
  },
  {
   "cell_type": "code",
   "execution_count": 131,
   "metadata": {
    "ExecuteTime": {
     "end_time": "2019-11-15T02:05:25.306972Z",
     "start_time": "2019-11-15T02:05:24.962759Z"
    }
   },
   "outputs": [
    {
     "data": {
      "image/png": "[encoded data removed]",
      "text/plain": [
       "<Figure size 576x288 with 2 Axes>"
      ]
     },
     "metadata": {},
     "output_type": "display_data"
    }
   ],
   "source": [
    "# lmt\n",
    "numPlot('lmt')"
   ]
  },
  {
   "cell_type": "code",
   "execution_count": 132,
   "metadata": {
    "ExecuteTime": {
     "end_time": "2019-11-15T02:05:31.749796Z",
     "start_time": "2019-11-15T02:05:31.736702Z"
    }
   },
   "outputs": [],
   "source": [
    "# 标准化\n",
    "lmt_mean = df.lmt.mean()\n",
    "lmt_std = df.lmt.std()\n",
    "df.lmt = (df.lmt - lmt_mean) / lmt_std\n",
    "testX.lmt = (testX.lmt - lmt_mean) / lmt_std"
   ]
  },
  {
   "cell_type": "code",
   "execution_count": 133,
   "metadata": {
    "ExecuteTime": {
     "end_time": "2019-11-15T02:05:33.722511Z",
     "start_time": "2019-11-15T02:05:33.305567Z"
    }
   },
   "outputs": [
    {
     "name": "stderr",
     "output_type": "stream",
     "text": [
      "/home/shensir/anaconda3/lib/python3.6/site-packages/seaborn/categorical.py:1428: FutureWarning: remove_na is deprecated and is a private function. Do not use.\n",
      "  stat_data = remove_na(group_data)\n"
     ]
    },
    {
     "data": {
      "image/png": "[encoded data removed]",
      "text/plain": [
       "<Figure size 576x288 with 2 Axes>"
      ]
     },
     "metadata": {},
     "output_type": "display_data"
    }
   ],
   "source": [
    "# basicLevel\n",
    "fig = plt.figure(figsize=(8, 4))\n",
    "plt.subplot(1, 2, 1)\n",
    "sns.countplot(df.basicLevel[df.target == 0])\n",
    "plt.subplot(1, 2, 2)\n",
    "sns.countplot(df.basicLevel[df.target == 1])\n",
    "plt.grid()\n",
    "plt.show()"
   ]
  },
  {
   "cell_type": "code",
   "execution_count": 135,
   "metadata": {
    "ExecuteTime": {
     "end_time": "2019-11-15T02:08:25.242893Z",
     "start_time": "2019-11-15T02:08:25.235515Z"
    }
   },
   "outputs": [],
   "source": [
    "df.basicLevel.replace(-999, -3, inplace=True)\n",
    "testX.basicLevel.replace(-999, -3, inplace=True)"
   ]
  },
  {
   "cell_type": "code",
   "execution_count": 136,
   "metadata": {
    "ExecuteTime": {
     "end_time": "2019-11-15T02:08:25.790244Z",
     "start_time": "2019-11-15T02:08:25.698809Z"
    }
   },
   "outputs": [],
   "source": [
    "# 标准化\n",
    "basicLevel_mean = df.basicLevel.mean()\n",
    "basicLevel_std = df.basicLevel.std()\n",
    "df.basicLevel = (df.basicLevel - basicLevel_mean) / basicLevel_std\n",
    "testX.basicLevel = (testX.basicLevel - basicLevel_mean) / basicLevel_std"
   ]
  },
  {
   "cell_type": "code",
   "execution_count": 137,
   "metadata": {
    "ExecuteTime": {
     "end_time": "2019-11-15T02:08:27.587560Z",
     "start_time": "2019-11-15T02:08:27.453256Z"
    }
   },
   "outputs": [],
   "source": [
    "# certValidBegin, certValidStop\n",
    "# 暂时去除\n",
    "df.drop(['certValidBegin', 'certValidStop'], axis=1, inplace=True)\n",
    "testX.drop(['certValidBegin', 'certValidStop'], axis=1, inplace=True)"
   ]
  },
  {
   "cell_type": "code",
   "execution_count": 138,
   "metadata": {
    "ExecuteTime": {
     "end_time": "2019-11-15T02:08:32.577229Z",
     "start_time": "2019-11-15T02:08:31.746410Z"
    }
   },
   "outputs": [
    {
     "name": "stderr",
     "output_type": "stream",
     "text": [
      "/home/shensir/anaconda3/lib/python3.6/site-packages/seaborn/categorical.py:1428: FutureWarning: remove_na is deprecated and is a private function. Do not use.\n",
      "  stat_data = remove_na(group_data)\n"
     ]
    },
    {
     "data": {
      "image/png": "[encoded data removed]",
      "text/plain": [
       "<Figure size 576x288 with 2 Axes>"
      ]
     },
     "metadata": {},
     "output_type": "display_data"
    }
   ],
   "source": [
    "# ethnic\n",
    "fig = plt.figure(figsize=(8, 4))\n",
    "plt.subplot(1, 2, 1)\n",
    "# 不显示汉族\n",
    "sns.countplot(df.ethnic[(df.target == 0) & (df.ethnic != 0)])\n",
    "plt.subplot(1, 2, 2)\n",
    "sns.countplot(df.ethnic[(df.target == 1) & (df.ethnic != 0)])\n",
    "plt.grid()\n",
    "plt.show()"
   ]
  },
  {
   "cell_type": "code",
   "execution_count": 139,
   "metadata": {
    "ExecuteTime": {
     "end_time": "2019-11-15T02:09:13.344055Z",
     "start_time": "2019-11-15T02:09:13.309237Z"
    }
   },
   "outputs": [],
   "source": [
    "# 汉族为0，其他为1\n",
    "df.loc[df.ethnic == 0, 'ethnic'] = 0\n",
    "df.loc[df.ethnic != 0, 'ethnic'] = 1"
   ]
  },
  {
   "cell_type": "code",
   "execution_count": 140,
   "metadata": {
    "ExecuteTime": {
     "end_time": "2019-11-15T02:09:13.816870Z",
     "start_time": "2019-11-15T02:09:13.795524Z"
    }
   },
   "outputs": [],
   "source": [
    "testX.loc[testX.ethnic == 0, 'ethnic'] = 0\n",
    "testX.loc[testX.ethnic != 0, 'ethnic'] = 1"
   ]
  },
  {
   "cell_type": "code",
   "execution_count": 141,
   "metadata": {
    "ExecuteTime": {
     "end_time": "2019-11-15T02:09:25.080407Z",
     "start_time": "2019-11-15T02:09:24.647620Z"
    }
   },
   "outputs": [
    {
     "data": {
      "image/png": "[encoded data removed]",
      "text/plain": [
       "<Figure size 576x288 with 2 Axes>"
      ]
     },
     "metadata": {},
     "output_type": "display_data"
    }
   ],
   "source": [
    "# residentAddr\n",
    "fig = plt.figure(figsize=(8, 4))\n",
    "plt.subplot(1, 2, 1)\n",
    "plt.hist(df.residentAddr[df.target == 0], bins=10)\n",
    "plt.grid()\n",
    "plt.subplot(1, 2, 2)\n",
    "plt.hist(df.residentAddr[df.target == 1], bins=10)\n",
    "plt.grid()\n",
    "plt.show()"
   ]
  },
  {
   "cell_type": "code",
   "execution_count": 142,
   "metadata": {
    "ExecuteTime": {
     "end_time": "2019-11-15T02:09:25.193232Z",
     "start_time": "2019-11-15T02:09:25.083582Z"
    }
   },
   "outputs": [],
   "source": [
    "df.drop(['residentAddr'], axis=1, inplace=True)\n",
    "testX.drop(['residentAddr'], axis=1, inplace=True)"
   ]
  },
  {
   "cell_type": "code",
   "execution_count": 143,
   "metadata": {
    "ExecuteTime": {
     "end_time": "2019-11-15T02:09:34.241304Z",
     "start_time": "2019-11-15T02:09:33.847478Z"
    }
   },
   "outputs": [
    {
     "data": {
      "image/png": "[encoded data removed]",
      "text/plain": [
       "<Figure size 576x288 with 2 Axes>"
      ]
     },
     "metadata": {},
     "output_type": "display_data"
    }
   ],
   "source": [
    "# highestEdu\n",
    "fig = plt.figure(figsize=(8, 4))\n",
    "plt.subplot(1, 2, 1)\n",
    "sns.countplot(df.highestEdu[df.target == 0])\n",
    "plt.subplot(1, 2, 2)\n",
    "sns.countplot(df.highestEdu[df.target == 1])\n",
    "plt.grid()\n",
    "plt.show()"
   ]
  },
  {
   "cell_type": "code",
   "execution_count": 144,
   "metadata": {
    "ExecuteTime": {
     "end_time": "2019-11-15T02:09:36.459139Z",
     "start_time": "2019-11-15T02:09:36.447568Z"
    }
   },
   "outputs": [
    {
     "data": {
      "text/plain": [
       "9"
      ]
     },
     "execution_count": 144,
     "metadata": {},
     "output_type": "execute_result"
    }
   ],
   "source": [
    "len(pd.unique(df.highestEdu))"
   ]
  },
  {
   "cell_type": "code",
   "execution_count": 145,
   "metadata": {
    "ExecuteTime": {
     "end_time": "2019-11-15T02:09:36.867920Z",
     "start_time": "2019-11-15T02:09:36.860900Z"
    }
   },
   "outputs": [],
   "source": [
    "df.highestEdu.replace(-999, -90, inplace=True)\n",
    "testX.highestEdu.replace(-999, -90, inplace=True)"
   ]
  },
  {
   "cell_type": "code",
   "execution_count": 146,
   "metadata": {
    "ExecuteTime": {
     "end_time": "2019-11-15T02:09:40.244347Z",
     "start_time": "2019-11-15T02:09:40.158473Z"
    }
   },
   "outputs": [],
   "source": [
    "# 标准化\n",
    "highestEdu_mean = df.highestEdu.mean()\n",
    "highestEdu_std = df.highestEdu.std()\n",
    "# training data\n",
    "df.highestEdu = (df.highestEdu - highestEdu_mean) / highestEdu_std\n",
    "# test data\n",
    "testX.highestEdu = (testX.highestEdu - highestEdu_mean) / highestEdu_std"
   ]
  },
  {
   "cell_type": "code",
   "execution_count": 147,
   "metadata": {
    "ExecuteTime": {
     "end_time": "2019-11-15T02:09:40.823718Z",
     "start_time": "2019-11-15T02:09:40.406703Z"
    }
   },
   "outputs": [
    {
     "data": {
      "image/png": "[encoded data removed]",
      "text/plain": [
       "<Figure size 576x288 with 2 Axes>"
      ]
     },
     "metadata": {},
     "output_type": "display_data"
    }
   ],
   "source": [
    "# linkRela\n",
    "fig = plt.figure(figsize=(8, 4))\n",
    "plt.subplot(1, 2, 1)\n",
    "sns.countplot(df.linkRela[df.target == 0])\n",
    "plt.subplot(1, 2, 2)\n",
    "sns.countplot(df.linkRela[df.target == 1])\n",
    "plt.grid()\n",
    "plt.show()"
   ]
  },
  {
   "cell_type": "code",
   "execution_count": 148,
   "metadata": {
    "ExecuteTime": {
     "end_time": "2019-11-15T02:09:44.292003Z",
     "start_time": "2019-11-15T02:09:44.286388Z"
    }
   },
   "outputs": [
    {
     "data": {
      "text/plain": [
       "9"
      ]
     },
     "execution_count": 148,
     "metadata": {},
     "output_type": "execute_result"
    }
   ],
   "source": [
    "len(pd.unique(df.linkRela))"
   ]
  },
  {
   "cell_type": "code",
   "execution_count": 149,
   "metadata": {
    "ExecuteTime": {
     "end_time": "2019-11-15T02:09:44.752913Z",
     "start_time": "2019-11-15T02:09:44.748207Z"
    }
   },
   "outputs": [],
   "source": [
    "relations = ['relation_' + str(i) for i in range(9)]"
   ]
  },
  {
   "cell_type": "code",
   "execution_count": 150,
   "metadata": {
    "ExecuteTime": {
     "end_time": "2019-11-15T02:09:45.349238Z",
     "start_time": "2019-11-15T02:09:45.303005Z"
    }
   },
   "outputs": [],
   "source": [
    "df[relations] = pd.get_dummies(pd.concat([df.linkRela, testX.linkRela], axis=0)).iloc[0:len(df), :]\n",
    "testX[relations] = pd.get_dummies(pd.concat([df.linkRela, testX.linkRela], axis=0)).iloc[len(df):, :]"
   ]
  },
  {
   "cell_type": "code",
   "execution_count": 151,
   "metadata": {
    "ExecuteTime": {
     "end_time": "2019-11-15T02:09:47.168716Z",
     "start_time": "2019-11-15T02:09:47.079629Z"
    }
   },
   "outputs": [],
   "source": [
    "df.drop(['linkRela'], axis=1, inplace=True)\n",
    "testX.drop(['linkRela'], axis=1, inplace=True)"
   ]
  },
  {
   "cell_type": "code",
   "execution_count": 152,
   "metadata": {
    "ExecuteTime": {
     "end_time": "2019-11-15T02:09:48.840733Z",
     "start_time": "2019-11-15T02:09:48.813354Z"
    }
   },
   "outputs": [
    {
     "data": {
      "text/html": [
       "<div>\n",
       "<style scoped>\n",
       "    .dataframe tbody tr th:only-of-type {\n",
       "        vertical-align: middle;\n",
       "    }\n",
       "\n",
       "    .dataframe tbody tr th {\n",
       "        vertical-align: top;\n",
       "    }\n",
       "\n",
       "    .dataframe thead th {\n",
       "        text-align: right;\n",
       "    }\n",
       "</style>\n",
       "<table border=\"1\" class=\"dataframe\">\n",
       "  <thead>\n",
       "    <tr style=\"text-align: right;\">\n",
       "      <th></th>\n",
       "      <th>loanProduct</th>\n",
       "      <th>gender</th>\n",
       "      <th>age</th>\n",
       "      <th>edu</th>\n",
       "      <th>lmt</th>\n",
       "      <th>basicLevel</th>\n",
       "      <th>x_0</th>\n",
       "      <th>x_1</th>\n",
       "      <th>x_2</th>\n",
       "      <th>x_3</th>\n",
       "      <th>...</th>\n",
       "      <th>job_15</th>\n",
       "      <th>relation_0</th>\n",
       "      <th>relation_1</th>\n",
       "      <th>relation_2</th>\n",
       "      <th>relation_3</th>\n",
       "      <th>relation_4</th>\n",
       "      <th>relation_5</th>\n",
       "      <th>relation_6</th>\n",
       "      <th>relation_7</th>\n",
       "      <th>relation_8</th>\n",
       "    </tr>\n",
       "  </thead>\n",
       "  <tbody>\n",
       "    <tr>\n",
       "      <th>0</th>\n",
       "      <td>1</td>\n",
       "      <td>2</td>\n",
       "      <td>-0.250768</td>\n",
       "      <td>-0.123781</td>\n",
       "      <td>-0.006773</td>\n",
       "      <td>1.042762</td>\n",
       "      <td>0</td>\n",
       "      <td>0</td>\n",
       "      <td>0</td>\n",
       "      <td>0</td>\n",
       "      <td>...</td>\n",
       "      <td>0</td>\n",
       "      <td>0</td>\n",
       "      <td>1</td>\n",
       "      <td>0</td>\n",
       "      <td>0</td>\n",
       "      <td>0</td>\n",
       "      <td>0</td>\n",
       "      <td>0</td>\n",
       "      <td>0</td>\n",
       "      <td>0</td>\n",
       "    </tr>\n",
       "    <tr>\n",
       "      <th>1</th>\n",
       "      <td>2</td>\n",
       "      <td>2</td>\n",
       "      <td>-0.544157</td>\n",
       "      <td>-0.123781</td>\n",
       "      <td>0.070240</td>\n",
       "      <td>1.042762</td>\n",
       "      <td>0</td>\n",
       "      <td>0</td>\n",
       "      <td>0</td>\n",
       "      <td>0</td>\n",
       "      <td>...</td>\n",
       "      <td>0</td>\n",
       "      <td>0</td>\n",
       "      <td>0</td>\n",
       "      <td>0</td>\n",
       "      <td>0</td>\n",
       "      <td>0</td>\n",
       "      <td>1</td>\n",
       "      <td>0</td>\n",
       "      <td>0</td>\n",
       "      <td>0</td>\n",
       "    </tr>\n",
       "    <tr>\n",
       "      <th>2</th>\n",
       "      <td>1</td>\n",
       "      <td>2</td>\n",
       "      <td>1.216181</td>\n",
       "      <td>13.159961</td>\n",
       "      <td>-0.826871</td>\n",
       "      <td>-0.859446</td>\n",
       "      <td>0</td>\n",
       "      <td>0</td>\n",
       "      <td>0</td>\n",
       "      <td>0</td>\n",
       "      <td>...</td>\n",
       "      <td>0</td>\n",
       "      <td>0</td>\n",
       "      <td>1</td>\n",
       "      <td>0</td>\n",
       "      <td>0</td>\n",
       "      <td>0</td>\n",
       "      <td>0</td>\n",
       "      <td>0</td>\n",
       "      <td>0</td>\n",
       "      <td>0</td>\n",
       "    </tr>\n",
       "    <tr>\n",
       "      <th>3</th>\n",
       "      <td>3</td>\n",
       "      <td>2</td>\n",
       "      <td>0.042622</td>\n",
       "      <td>-0.123781</td>\n",
       "      <td>0.044722</td>\n",
       "      <td>1.042762</td>\n",
       "      <td>0</td>\n",
       "      <td>0</td>\n",
       "      <td>0</td>\n",
       "      <td>0</td>\n",
       "      <td>...</td>\n",
       "      <td>0</td>\n",
       "      <td>1</td>\n",
       "      <td>0</td>\n",
       "      <td>0</td>\n",
       "      <td>0</td>\n",
       "      <td>0</td>\n",
       "      <td>0</td>\n",
       "      <td>0</td>\n",
       "      <td>0</td>\n",
       "      <td>0</td>\n",
       "    </tr>\n",
       "    <tr>\n",
       "      <th>4</th>\n",
       "      <td>2</td>\n",
       "      <td>2</td>\n",
       "      <td>-0.984242</td>\n",
       "      <td>-0.123781</td>\n",
       "      <td>0.105843</td>\n",
       "      <td>0.091658</td>\n",
       "      <td>0</td>\n",
       "      <td>0</td>\n",
       "      <td>0</td>\n",
       "      <td>0</td>\n",
       "      <td>...</td>\n",
       "      <td>0</td>\n",
       "      <td>0</td>\n",
       "      <td>0</td>\n",
       "      <td>0</td>\n",
       "      <td>0</td>\n",
       "      <td>0</td>\n",
       "      <td>1</td>\n",
       "      <td>0</td>\n",
       "      <td>0</td>\n",
       "      <td>0</td>\n",
       "    </tr>\n",
       "  </tbody>\n",
       "</table>\n",
       "<p>5 rows × 124 columns</p>\n",
       "</div>"
      ],
      "text/plain": [
       "   loanProduct  gender       age        edu       lmt  basicLevel  x_0  x_1  \\\n",
       "0            1       2 -0.250768  -0.123781 -0.006773    1.042762    0    0   \n",
       "1            2       2 -0.544157  -0.123781  0.070240    1.042762    0    0   \n",
       "2            1       2  1.216181  13.159961 -0.826871   -0.859446    0    0   \n",
       "3            3       2  0.042622  -0.123781  0.044722    1.042762    0    0   \n",
       "4            2       2 -0.984242  -0.123781  0.105843    0.091658    0    0   \n",
       "\n",
       "   x_2  x_3  ...  job_15  relation_0  relation_1  relation_2  relation_3  \\\n",
       "0    0    0  ...       0           0           1           0           0   \n",
       "1    0    0  ...       0           0           0           0           0   \n",
       "2    0    0  ...       0           0           1           0           0   \n",
       "3    0    0  ...       0           1           0           0           0   \n",
       "4    0    0  ...       0           0           0           0           0   \n",
       "\n",
       "   relation_4  relation_5  relation_6  relation_7  relation_8  \n",
       "0           0           0           0           0           0  \n",
       "1           0           1           0           0           0  \n",
       "2           0           0           0           0           0  \n",
       "3           0           0           0           0           0  \n",
       "4           0           1           0           0           0  \n",
       "\n",
       "[5 rows x 124 columns]"
      ]
     },
     "execution_count": 152,
     "metadata": {},
     "output_type": "execute_result"
    }
   ],
   "source": [
    "df.head()"
   ]
  },
  {
   "cell_type": "code",
   "execution_count": 153,
   "metadata": {
    "ExecuteTime": {
     "end_time": "2019-11-15T02:09:53.863126Z",
     "start_time": "2019-11-15T02:09:53.856021Z"
    }
   },
   "outputs": [
    {
     "data": {
      "text/plain": [
       "24"
      ]
     },
     "execution_count": 153,
     "metadata": {},
     "output_type": "execute_result"
    }
   ],
   "source": [
    "# setupHour\n",
    "len(pd.unique(df.setupHour))"
   ]
  },
  {
   "cell_type": "code",
   "execution_count": 154,
   "metadata": {
    "ExecuteTime": {
     "end_time": "2019-11-15T02:09:55.485874Z",
     "start_time": "2019-11-15T02:09:54.871173Z"
    }
   },
   "outputs": [
    {
     "data": {
      "image/png": "[encoded data removed]",
      "text/plain": [
       "<Figure size 720x360 with 2 Axes>"
      ]
     },
     "metadata": {},
     "output_type": "display_data"
    }
   ],
   "source": [
    "fig = plt.figure(figsize=(10, 5))\n",
    "plt.subplot(1, 2, 1)\n",
    "sns.countplot(df.setupHour[df.target == 0])\n",
    "plt.subplot(1, 2, 2)\n",
    "sns.countplot(df.setupHour[df.target == 1])\n",
    "plt.grid()\n",
    "plt.show()"
   ]
  },
  {
   "cell_type": "code",
   "execution_count": 155,
   "metadata": {
    "ExecuteTime": {
     "end_time": "2019-11-15T02:09:59.647456Z",
     "start_time": "2019-11-15T02:09:59.576358Z"
    }
   },
   "outputs": [],
   "source": [
    "df.loc[(df.setupHour >= 8) & (df.setupHour <= 17), 'setupHour'] = 0\n",
    "df.loc[df.setupHour < 8, 'setupHour'] = 1\n",
    "df.loc[df.setupHour > 17, 'setupHour'] = 1\n",
    "\n",
    "testX.loc[(testX.setupHour >= 8) & (testX.setupHour <= 17), 'setupHour'] = 0\n",
    "testX.loc[testX.setupHour < 8, 'setupHour'] = 1\n",
    "testX.loc[testX.setupHour > 17, 'setupHour'] = 1"
   ]
  },
  {
   "cell_type": "code",
   "execution_count": 156,
   "metadata": {
    "ExecuteTime": {
     "end_time": "2019-11-15T02:10:00.222586Z",
     "start_time": "2019-11-15T02:10:00.130924Z"
    }
   },
   "outputs": [],
   "source": [
    "df.drop(['setupHour'], axis=1, inplace=True)\n",
    "testX.drop(['setupHour'], axis=1, inplace=True)"
   ]
  },
  {
   "cell_type": "code",
   "execution_count": 157,
   "metadata": {
    "ExecuteTime": {
     "end_time": "2019-11-15T02:10:01.222542Z",
     "start_time": "2019-11-15T02:10:00.799792Z"
    }
   },
   "outputs": [
    {
     "data": {
      "image/png": "[encoded data removed]",
      "text/plain": [
       "<Figure size 720x360 with 2 Axes>"
      ]
     },
     "metadata": {},
     "output_type": "display_data"
    }
   ],
   "source": [
    "# weekday\n",
    "fig = plt.figure(figsize=(10, 5))\n",
    "plt.subplot(1, 2, 1)\n",
    "sns.countplot(df.weekday[df.target == 0])\n",
    "plt.subplot(1, 2, 2)\n",
    "sns.countplot(df.weekday[df.target == 1])\n",
    "plt.grid()\n",
    "plt.show()"
   ]
  },
  {
   "cell_type": "code",
   "execution_count": 158,
   "metadata": {
    "ExecuteTime": {
     "end_time": "2019-11-15T02:10:09.687446Z",
     "start_time": "2019-11-15T02:10:09.530972Z"
    }
   },
   "outputs": [
    {
     "data": {
      "text/html": [
       "<div>\n",
       "<style scoped>\n",
       "    .dataframe tbody tr th:only-of-type {\n",
       "        vertical-align: middle;\n",
       "    }\n",
       "\n",
       "    .dataframe tbody tr th {\n",
       "        vertical-align: top;\n",
       "    }\n",
       "\n",
       "    .dataframe thead th {\n",
       "        text-align: right;\n",
       "    }\n",
       "</style>\n",
       "<table border=\"1\" class=\"dataframe\">\n",
       "  <thead>\n",
       "    <tr style=\"text-align: right;\">\n",
       "      <th></th>\n",
       "      <th>loanProduct</th>\n",
       "      <th>gender</th>\n",
       "      <th>age</th>\n",
       "      <th>edu</th>\n",
       "      <th>lmt</th>\n",
       "      <th>basicLevel</th>\n",
       "      <th>x_0</th>\n",
       "      <th>x_1</th>\n",
       "      <th>x_2</th>\n",
       "      <th>x_3</th>\n",
       "      <th>...</th>\n",
       "      <th>job_15</th>\n",
       "      <th>relation_0</th>\n",
       "      <th>relation_1</th>\n",
       "      <th>relation_2</th>\n",
       "      <th>relation_3</th>\n",
       "      <th>relation_4</th>\n",
       "      <th>relation_5</th>\n",
       "      <th>relation_6</th>\n",
       "      <th>relation_7</th>\n",
       "      <th>relation_8</th>\n",
       "    </tr>\n",
       "  </thead>\n",
       "  <tbody>\n",
       "    <tr>\n",
       "      <th>0</th>\n",
       "      <td>1</td>\n",
       "      <td>2</td>\n",
       "      <td>-0.250768</td>\n",
       "      <td>-0.123781</td>\n",
       "      <td>-0.006773</td>\n",
       "      <td>1.042762</td>\n",
       "      <td>0</td>\n",
       "      <td>0</td>\n",
       "      <td>0</td>\n",
       "      <td>0</td>\n",
       "      <td>...</td>\n",
       "      <td>0</td>\n",
       "      <td>0</td>\n",
       "      <td>1</td>\n",
       "      <td>0</td>\n",
       "      <td>0</td>\n",
       "      <td>0</td>\n",
       "      <td>0</td>\n",
       "      <td>0</td>\n",
       "      <td>0</td>\n",
       "      <td>0</td>\n",
       "    </tr>\n",
       "    <tr>\n",
       "      <th>1</th>\n",
       "      <td>2</td>\n",
       "      <td>2</td>\n",
       "      <td>-0.544157</td>\n",
       "      <td>-0.123781</td>\n",
       "      <td>0.070240</td>\n",
       "      <td>1.042762</td>\n",
       "      <td>0</td>\n",
       "      <td>0</td>\n",
       "      <td>0</td>\n",
       "      <td>0</td>\n",
       "      <td>...</td>\n",
       "      <td>0</td>\n",
       "      <td>0</td>\n",
       "      <td>0</td>\n",
       "      <td>0</td>\n",
       "      <td>0</td>\n",
       "      <td>0</td>\n",
       "      <td>1</td>\n",
       "      <td>0</td>\n",
       "      <td>0</td>\n",
       "      <td>0</td>\n",
       "    </tr>\n",
       "    <tr>\n",
       "      <th>2</th>\n",
       "      <td>1</td>\n",
       "      <td>2</td>\n",
       "      <td>1.216181</td>\n",
       "      <td>13.159961</td>\n",
       "      <td>-0.826871</td>\n",
       "      <td>-0.859446</td>\n",
       "      <td>0</td>\n",
       "      <td>0</td>\n",
       "      <td>0</td>\n",
       "      <td>0</td>\n",
       "      <td>...</td>\n",
       "      <td>0</td>\n",
       "      <td>0</td>\n",
       "      <td>1</td>\n",
       "      <td>0</td>\n",
       "      <td>0</td>\n",
       "      <td>0</td>\n",
       "      <td>0</td>\n",
       "      <td>0</td>\n",
       "      <td>0</td>\n",
       "      <td>0</td>\n",
       "    </tr>\n",
       "    <tr>\n",
       "      <th>3</th>\n",
       "      <td>3</td>\n",
       "      <td>2</td>\n",
       "      <td>0.042622</td>\n",
       "      <td>-0.123781</td>\n",
       "      <td>0.044722</td>\n",
       "      <td>1.042762</td>\n",
       "      <td>0</td>\n",
       "      <td>0</td>\n",
       "      <td>0</td>\n",
       "      <td>0</td>\n",
       "      <td>...</td>\n",
       "      <td>0</td>\n",
       "      <td>1</td>\n",
       "      <td>0</td>\n",
       "      <td>0</td>\n",
       "      <td>0</td>\n",
       "      <td>0</td>\n",
       "      <td>0</td>\n",
       "      <td>0</td>\n",
       "      <td>0</td>\n",
       "      <td>0</td>\n",
       "    </tr>\n",
       "    <tr>\n",
       "      <th>4</th>\n",
       "      <td>2</td>\n",
       "      <td>2</td>\n",
       "      <td>-0.984242</td>\n",
       "      <td>-0.123781</td>\n",
       "      <td>0.105843</td>\n",
       "      <td>0.091658</td>\n",
       "      <td>0</td>\n",
       "      <td>0</td>\n",
       "      <td>0</td>\n",
       "      <td>0</td>\n",
       "      <td>...</td>\n",
       "      <td>0</td>\n",
       "      <td>0</td>\n",
       "      <td>0</td>\n",
       "      <td>0</td>\n",
       "      <td>0</td>\n",
       "      <td>0</td>\n",
       "      <td>1</td>\n",
       "      <td>0</td>\n",
       "      <td>0</td>\n",
       "      <td>0</td>\n",
       "    </tr>\n",
       "  </tbody>\n",
       "</table>\n",
       "<p>5 rows × 122 columns</p>\n",
       "</div>"
      ],
      "text/plain": [
       "   loanProduct  gender       age        edu       lmt  basicLevel  x_0  x_1  \\\n",
       "0            1       2 -0.250768  -0.123781 -0.006773    1.042762    0    0   \n",
       "1            2       2 -0.544157  -0.123781  0.070240    1.042762    0    0   \n",
       "2            1       2  1.216181  13.159961 -0.826871   -0.859446    0    0   \n",
       "3            3       2  0.042622  -0.123781  0.044722    1.042762    0    0   \n",
       "4            2       2 -0.984242  -0.123781  0.105843    0.091658    0    0   \n",
       "\n",
       "   x_2  x_3  ...  job_15  relation_0  relation_1  relation_2  relation_3  \\\n",
       "0    0    0  ...       0           0           1           0           0   \n",
       "1    0    0  ...       0           0           0           0           0   \n",
       "2    0    0  ...       0           0           1           0           0   \n",
       "3    0    0  ...       0           1           0           0           0   \n",
       "4    0    0  ...       0           0           0           0           0   \n",
       "\n",
       "   relation_4  relation_5  relation_6  relation_7  relation_8  \n",
       "0           0           0           0           0           0  \n",
       "1           0           1           0           0           0  \n",
       "2           0           0           0           0           0  \n",
       "3           0           0           0           0           0  \n",
       "4           0           1           0           0           0  \n",
       "\n",
       "[5 rows x 122 columns]"
      ]
     },
     "execution_count": 158,
     "metadata": {},
     "output_type": "execute_result"
    }
   ],
   "source": [
    "df.loc[df.weekday <= 5, 'weekday'] = 0\n",
    "df.loc[df.weekday > 5, 'weekday'] = 1\n",
    "\n",
    "testX.loc[testX.weekday <= 5, 'weekday'] = 0\n",
    "testX.loc[testX.weekday > 5, 'weekday'] = 1\n",
    "\n",
    "df.drop(['weekday'], axis=1, inplace=True)\n",
    "testX.drop(['weekday'], axis=1, inplace=True)\n",
    "\n",
    "df.head()"
   ]
  },
  {
   "cell_type": "code",
   "execution_count": 159,
   "metadata": {
    "ExecuteTime": {
     "end_time": "2019-11-15T02:10:10.203142Z",
     "start_time": "2019-11-15T02:10:10.182220Z"
    }
   },
   "outputs": [
    {
     "data": {
      "text/html": [
       "<div>\n",
       "<style scoped>\n",
       "    .dataframe tbody tr th:only-of-type {\n",
       "        vertical-align: middle;\n",
       "    }\n",
       "\n",
       "    .dataframe tbody tr th {\n",
       "        vertical-align: top;\n",
       "    }\n",
       "\n",
       "    .dataframe thead th {\n",
       "        text-align: right;\n",
       "    }\n",
       "</style>\n",
       "<table border=\"1\" class=\"dataframe\">\n",
       "  <thead>\n",
       "    <tr style=\"text-align: right;\">\n",
       "      <th></th>\n",
       "      <th>ncloseCreditCard</th>\n",
       "      <th>unpayIndvLoan</th>\n",
       "      <th>unpayOtherLoan</th>\n",
       "      <th>unpayNormalLoan</th>\n",
       "      <th>5yearBadloan</th>\n",
       "    </tr>\n",
       "  </thead>\n",
       "  <tbody>\n",
       "    <tr>\n",
       "      <th>0</th>\n",
       "      <td>1</td>\n",
       "      <td>0</td>\n",
       "      <td>1</td>\n",
       "      <td>0</td>\n",
       "      <td>0</td>\n",
       "    </tr>\n",
       "    <tr>\n",
       "      <th>1</th>\n",
       "      <td>1</td>\n",
       "      <td>0</td>\n",
       "      <td>1</td>\n",
       "      <td>0</td>\n",
       "      <td>0</td>\n",
       "    </tr>\n",
       "    <tr>\n",
       "      <th>2</th>\n",
       "      <td>0</td>\n",
       "      <td>0</td>\n",
       "      <td>0</td>\n",
       "      <td>0</td>\n",
       "      <td>0</td>\n",
       "    </tr>\n",
       "    <tr>\n",
       "      <th>3</th>\n",
       "      <td>1</td>\n",
       "      <td>0</td>\n",
       "      <td>1</td>\n",
       "      <td>0</td>\n",
       "      <td>0</td>\n",
       "    </tr>\n",
       "    <tr>\n",
       "      <th>4</th>\n",
       "      <td>1</td>\n",
       "      <td>0</td>\n",
       "      <td>1</td>\n",
       "      <td>0</td>\n",
       "      <td>0</td>\n",
       "    </tr>\n",
       "  </tbody>\n",
       "</table>\n",
       "</div>"
      ],
      "text/plain": [
       "   ncloseCreditCard  unpayIndvLoan  unpayOtherLoan  unpayNormalLoan  \\\n",
       "0                 1              0               1                0   \n",
       "1                 1              0               1                0   \n",
       "2                 0              0               0                0   \n",
       "3                 1              0               1                0   \n",
       "4                 1              0               1                0   \n",
       "\n",
       "   5yearBadloan  \n",
       "0             0  \n",
       "1             0  \n",
       "2             0  \n",
       "3             0  \n",
       "4             0  "
      ]
     },
     "execution_count": 159,
     "metadata": {},
     "output_type": "execute_result"
    }
   ],
   "source": [
    "# ncloseCreditCard, ...\n",
    "spe_cols = ['ncloseCreditCard','unpayIndvLoan', 'unpayOtherLoan', \n",
    "            'unpayNormalLoan', '5yearBadloan']\n",
    "df[spe_cols].head()"
   ]
  },
  {
   "cell_type": "code",
   "execution_count": 160,
   "metadata": {
    "ExecuteTime": {
     "end_time": "2019-11-15T02:10:10.901153Z",
     "start_time": "2019-11-15T02:10:10.822144Z"
    }
   },
   "outputs": [],
   "source": [
    "# isNew暂时删除\n",
    "df.drop(['isNew'], axis=1, inplace=True)\n",
    "testX.drop(['isNew'], axis=1, inplace=True)"
   ]
  },
  {
   "cell_type": "code",
   "execution_count": 161,
   "metadata": {
    "ExecuteTime": {
     "end_time": "2019-11-15T02:10:16.592809Z",
     "start_time": "2019-11-15T02:10:16.589421Z"
    }
   },
   "outputs": [],
   "source": [
    "# x1-x78 PCA\n",
    "# df.columns[3:82]\n",
    "\n",
    "# pca = SparsePCA(n_components=1)\n",
    "# pca.fit(df[df.columns[3:82]])\n",
    "\n",
    "# pcaX = pca.transform(df[df.columns[3:82]])\n",
    "# df['pcaX'] = pcaX\n",
    "# df.drop(df.columns[3:82], axis=1, inplace=True)\n",
    "\n",
    "# test data\n",
    "# testX['pcaX'] = pca.transform(testX[testX.columns[4:83]])\n",
    "# testX.drop(testX.columns[4:83], axis=1, inplace=True)"
   ]
  },
  {
   "cell_type": "code",
   "execution_count": 162,
   "metadata": {
    "ExecuteTime": {
     "end_time": "2019-11-15T02:10:17.122823Z",
     "start_time": "2019-11-15T02:10:17.042386Z"
    }
   },
   "outputs": [],
   "source": [
    "y = df.target\n",
    "X = df.drop(['target'], axis=1)"
   ]
  },
  {
   "cell_type": "code",
   "execution_count": 163,
   "metadata": {
    "ExecuteTime": {
     "end_time": "2019-11-15T02:10:17.553204Z",
     "start_time": "2019-11-15T02:10:17.534700Z"
    }
   },
   "outputs": [
    {
     "name": "stdout",
     "output_type": "stream",
     "text": [
      "<class 'pandas.core.frame.DataFrame'>\n",
      "Int64Index: 132001 entries, 0 to 132028\n",
      "Columns: 120 entries, loanProduct to relation_8\n",
      "dtypes: float64(6), int64(87), uint8(27)\n",
      "memory usage: 98.1 MB\n"
     ]
    }
   ],
   "source": [
    "X.info()"
   ]
  },
  {
   "cell_type": "code",
   "execution_count": 164,
   "metadata": {
    "ExecuteTime": {
     "end_time": "2019-11-15T02:10:17.935728Z",
     "start_time": "2019-11-15T02:10:17.896728Z"
    }
   },
   "outputs": [
    {
     "data": {
      "text/html": [
       "<div>\n",
       "<style scoped>\n",
       "    .dataframe tbody tr th:only-of-type {\n",
       "        vertical-align: middle;\n",
       "    }\n",
       "\n",
       "    .dataframe tbody tr th {\n",
       "        vertical-align: top;\n",
       "    }\n",
       "\n",
       "    .dataframe thead th {\n",
       "        text-align: right;\n",
       "    }\n",
       "</style>\n",
       "<table border=\"1\" class=\"dataframe\">\n",
       "  <thead>\n",
       "    <tr style=\"text-align: right;\">\n",
       "      <th></th>\n",
       "      <th>loanProduct</th>\n",
       "      <th>gender</th>\n",
       "      <th>age</th>\n",
       "      <th>edu</th>\n",
       "      <th>lmt</th>\n",
       "      <th>basicLevel</th>\n",
       "      <th>x_0</th>\n",
       "      <th>x_1</th>\n",
       "      <th>x_2</th>\n",
       "      <th>x_3</th>\n",
       "      <th>...</th>\n",
       "      <th>job_15</th>\n",
       "      <th>relation_0</th>\n",
       "      <th>relation_1</th>\n",
       "      <th>relation_2</th>\n",
       "      <th>relation_3</th>\n",
       "      <th>relation_4</th>\n",
       "      <th>relation_5</th>\n",
       "      <th>relation_6</th>\n",
       "      <th>relation_7</th>\n",
       "      <th>relation_8</th>\n",
       "    </tr>\n",
       "  </thead>\n",
       "  <tbody>\n",
       "    <tr>\n",
       "      <th>0</th>\n",
       "      <td>1</td>\n",
       "      <td>2</td>\n",
       "      <td>-0.250768</td>\n",
       "      <td>-0.123781</td>\n",
       "      <td>-0.006773</td>\n",
       "      <td>1.042762</td>\n",
       "      <td>0</td>\n",
       "      <td>0</td>\n",
       "      <td>0</td>\n",
       "      <td>0</td>\n",
       "      <td>...</td>\n",
       "      <td>0</td>\n",
       "      <td>0</td>\n",
       "      <td>1</td>\n",
       "      <td>0</td>\n",
       "      <td>0</td>\n",
       "      <td>0</td>\n",
       "      <td>0</td>\n",
       "      <td>0</td>\n",
       "      <td>0</td>\n",
       "      <td>0</td>\n",
       "    </tr>\n",
       "    <tr>\n",
       "      <th>1</th>\n",
       "      <td>2</td>\n",
       "      <td>2</td>\n",
       "      <td>-0.544157</td>\n",
       "      <td>-0.123781</td>\n",
       "      <td>0.070240</td>\n",
       "      <td>1.042762</td>\n",
       "      <td>0</td>\n",
       "      <td>0</td>\n",
       "      <td>0</td>\n",
       "      <td>0</td>\n",
       "      <td>...</td>\n",
       "      <td>0</td>\n",
       "      <td>0</td>\n",
       "      <td>0</td>\n",
       "      <td>0</td>\n",
       "      <td>0</td>\n",
       "      <td>0</td>\n",
       "      <td>1</td>\n",
       "      <td>0</td>\n",
       "      <td>0</td>\n",
       "      <td>0</td>\n",
       "    </tr>\n",
       "    <tr>\n",
       "      <th>2</th>\n",
       "      <td>1</td>\n",
       "      <td>2</td>\n",
       "      <td>1.216181</td>\n",
       "      <td>13.159961</td>\n",
       "      <td>-0.826871</td>\n",
       "      <td>-0.859446</td>\n",
       "      <td>0</td>\n",
       "      <td>0</td>\n",
       "      <td>0</td>\n",
       "      <td>0</td>\n",
       "      <td>...</td>\n",
       "      <td>0</td>\n",
       "      <td>0</td>\n",
       "      <td>1</td>\n",
       "      <td>0</td>\n",
       "      <td>0</td>\n",
       "      <td>0</td>\n",
       "      <td>0</td>\n",
       "      <td>0</td>\n",
       "      <td>0</td>\n",
       "      <td>0</td>\n",
       "    </tr>\n",
       "    <tr>\n",
       "      <th>3</th>\n",
       "      <td>3</td>\n",
       "      <td>2</td>\n",
       "      <td>0.042622</td>\n",
       "      <td>-0.123781</td>\n",
       "      <td>0.044722</td>\n",
       "      <td>1.042762</td>\n",
       "      <td>0</td>\n",
       "      <td>0</td>\n",
       "      <td>0</td>\n",
       "      <td>0</td>\n",
       "      <td>...</td>\n",
       "      <td>0</td>\n",
       "      <td>1</td>\n",
       "      <td>0</td>\n",
       "      <td>0</td>\n",
       "      <td>0</td>\n",
       "      <td>0</td>\n",
       "      <td>0</td>\n",
       "      <td>0</td>\n",
       "      <td>0</td>\n",
       "      <td>0</td>\n",
       "    </tr>\n",
       "    <tr>\n",
       "      <th>4</th>\n",
       "      <td>2</td>\n",
       "      <td>2</td>\n",
       "      <td>-0.984242</td>\n",
       "      <td>-0.123781</td>\n",
       "      <td>0.105843</td>\n",
       "      <td>0.091658</td>\n",
       "      <td>0</td>\n",
       "      <td>0</td>\n",
       "      <td>0</td>\n",
       "      <td>0</td>\n",
       "      <td>...</td>\n",
       "      <td>0</td>\n",
       "      <td>0</td>\n",
       "      <td>0</td>\n",
       "      <td>0</td>\n",
       "      <td>0</td>\n",
       "      <td>0</td>\n",
       "      <td>1</td>\n",
       "      <td>0</td>\n",
       "      <td>0</td>\n",
       "      <td>0</td>\n",
       "    </tr>\n",
       "  </tbody>\n",
       "</table>\n",
       "<p>5 rows × 120 columns</p>\n",
       "</div>"
      ],
      "text/plain": [
       "   loanProduct  gender       age        edu       lmt  basicLevel  x_0  x_1  \\\n",
       "0            1       2 -0.250768  -0.123781 -0.006773    1.042762    0    0   \n",
       "1            2       2 -0.544157  -0.123781  0.070240    1.042762    0    0   \n",
       "2            1       2  1.216181  13.159961 -0.826871   -0.859446    0    0   \n",
       "3            3       2  0.042622  -0.123781  0.044722    1.042762    0    0   \n",
       "4            2       2 -0.984242  -0.123781  0.105843    0.091658    0    0   \n",
       "\n",
       "   x_2  x_3  ...  job_15  relation_0  relation_1  relation_2  relation_3  \\\n",
       "0    0    0  ...       0           0           1           0           0   \n",
       "1    0    0  ...       0           0           0           0           0   \n",
       "2    0    0  ...       0           0           1           0           0   \n",
       "3    0    0  ...       0           1           0           0           0   \n",
       "4    0    0  ...       0           0           0           0           0   \n",
       "\n",
       "   relation_4  relation_5  relation_6  relation_7  relation_8  \n",
       "0           0           0           0           0           0  \n",
       "1           0           1           0           0           0  \n",
       "2           0           0           0           0           0  \n",
       "3           0           0           0           0           0  \n",
       "4           0           1           0           0           0  \n",
       "\n",
       "[5 rows x 120 columns]"
      ]
     },
     "execution_count": 164,
     "metadata": {},
     "output_type": "execute_result"
    }
   ],
   "source": [
    "X.head()"
   ]
  },
  {
   "cell_type": "code",
   "execution_count": 165,
   "metadata": {
    "ExecuteTime": {
     "end_time": "2019-11-15T02:10:41.642071Z",
     "start_time": "2019-11-15T02:10:18.563627Z"
    }
   },
   "outputs": [
    {
     "name": "stderr",
     "output_type": "stream",
     "text": [
      "/home/shensir/anaconda3/lib/python3.6/site-packages/ipykernel_launcher.py:2: FutureWarning: The signature of `Series.to_csv` was aligned to that of `DataFrame.to_csv`, and argument 'header' will change its default value from False to True: please pass an explicit value to suppress this warning.\n",
      "  \n"
     ]
    }
   ],
   "source": [
    "X.to_csv('../data/features/trainX.csv', index=None)\n",
    "y.to_csv('../data/features/trainY.csv', index=None)\n",
    "testX.to_csv('../data/features/testX.csv', index=None)"
   ]
  },
  {
   "cell_type": "code",
   "execution_count": 167,
   "metadata": {
    "ExecuteTime": {
     "end_time": "2019-11-15T02:44:11.760459Z",
     "start_time": "2019-11-15T02:44:11.753210Z"
    }
   },
   "outputs": [
    {
     "data": {
      "text/plain": [
       "(132001, 120)"
      ]
     },
     "execution_count": 167,
     "metadata": {},
     "output_type": "execute_result"
    }
   ],
   "source": [
    "X.shape"
   ]
  },
  {
   "cell_type": "code",
   "execution_count": 168,
   "metadata": {
    "ExecuteTime": {
     "end_time": "2019-11-15T02:44:26.137302Z",
     "start_time": "2019-11-15T02:44:26.128975Z"
    }
   },
   "outputs": [
    {
     "data": {
      "text/plain": [
       "(132029, 104)"
      ]
     },
     "execution_count": 168,
     "metadata": {},
     "output_type": "execute_result"
    }
   ],
   "source": [
    "trainX.shape"
   ]
  },
  {
   "cell_type": "code",
   "execution_count": null,
   "metadata": {},
   "outputs": [],
   "source": []
  }
 ],
 "metadata": {
  "kernelspec": {
   "display_name": "Python 3",
   "language": "python",
   "name": "python3"
  },
  "language_info": {
   "codemirror_mode": {
    "name": "ipython",
    "version": 3
   },
   "file_extension": ".py",
   "mimetype": "text/x-python",
   "name": "python",
   "nbconvert_exporter": "python",
   "pygments_lexer": "ipython3",
   "version": "3.6.8"
  },
  "toc": {
   "nav_menu": {},
   "number_sections": false,
   "sideBar": true,
   "skip_h1_title": false,
   "title_cell": "Table of Contents",
   "title_sidebar": "Contents",
   "toc_cell": false,
   "toc_position": {
    "height": "calc(100% - 180px)",
    "left": "10px",
    "top": "150px",
    "width": "273.2px"
   },
   "toc_section_display": true,
   "toc_window_display": true
  }
 },
 "nbformat": 4,
 "nbformat_minor": 2
}
