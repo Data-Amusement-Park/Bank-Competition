{
 "cells": [
  {
   "cell_type": "markdown",
   "metadata": {},
   "source": [
    "# 模型拟合"
   ]
  },
  {
   "cell_type": "code",
   "execution_count": 1,
   "metadata": {
    "ExecuteTime": {
     "end_time": "2019-11-15T02:59:50.743516Z",
     "start_time": "2019-11-15T02:59:11.204791Z"
    }
   },
   "outputs": [
    {
     "name": "stderr",
     "output_type": "stream",
     "text": [
      "Using TensorFlow backend.\n"
     ]
    }
   ],
   "source": [
    "# import lib\n",
    "import pandas as pd\n",
    "import numpy as np\n",
    "import xgboost as xgb\n",
    "from sklearn.model_selection import train_test_split, StratifiedKFold, RandomizedSearchCV\n",
    "from sklearn.decomposition import PCA\n",
    "from sklearn.metrics import roc_auc_score, confusion_matrix, roc_curve, auc\n",
    "from sklearn.preprocessing import StandardScaler\n",
    "from sklearn.metrics import balanced_accuracy_score\n",
    "from sklearn.naive_bayes import BernoulliNB\n",
    "from sklearn.tree import DecisionTreeClassifier\n",
    "from sklearn.ensemble import AdaBoostClassifier\n",
    "from sklearn import svm\n",
    "from imblearn.ensemble import EasyEnsembleClassifier, BalancedBaggingClassifier"
   ]
  },
  {
   "cell_type": "code",
   "execution_count": 2,
   "metadata": {
    "ExecuteTime": {
     "end_time": "2019-11-15T02:59:54.162503Z",
     "start_time": "2019-11-15T02:59:50.748130Z"
    }
   },
   "outputs": [],
   "source": [
    "# import data\n",
    "X = pd.read_csv('../data/features/trainX.csv')\n",
    "y = pd.read_csv('../data/features/trainY.csv', header=None)\n",
    "testX = pd.read_csv('../data/features/testX.csv')"
   ]
  },
  {
   "cell_type": "code",
   "execution_count": 3,
   "metadata": {
    "ExecuteTime": {
     "end_time": "2019-11-15T02:59:54.178513Z",
     "start_time": "2019-11-15T02:59:54.165223Z"
    }
   },
   "outputs": [],
   "source": [
    "ids = testX.id\n",
    "testX = testX.drop(['id'], axis=1)"
   ]
  },
  {
   "cell_type": "code",
   "execution_count": 4,
   "metadata": {
    "ExecuteTime": {
     "end_time": "2019-11-15T02:59:55.331553Z",
     "start_time": "2019-11-15T02:59:54.182644Z"
    }
   },
   "outputs": [],
   "source": [
    "# ROC\n",
    "import matplotlib.pyplot as plt\n",
    "def plotROC(y_test, y_score):\n",
    "    fpr = dict()\n",
    "    tpr = dict()\n",
    "    roc_auc = dict()\n",
    "    fpr[2], tpr[2], _ = roc_curve(y_test, y_score)\n",
    "    roc_auc[2] = auc(fpr[2], tpr[2])\n",
    "\n",
    "    # Compute micro-average ROC curve and ROC area\n",
    "    fpr[\"micro\"], tpr[\"micro\"], _ = roc_curve(y_test, y_score)\n",
    "    roc_auc[\"micro\"] = auc(fpr[\"micro\"], tpr[\"micro\"])\n",
    "    # plot it\n",
    "    plt.figure()\n",
    "    lw = 2\n",
    "    plt.plot(fpr[2], tpr[2], color='darkorange',\n",
    "             lw=lw, label='ROC curve (area = %0.2f)' % roc_auc[2])\n",
    "    plt.plot([0, 1], [0, 1], color='navy', lw=lw, linestyle='--')\n",
    "    plt.xlim([0.0, 1.0])\n",
    "    plt.ylim([0.0, 1.05])\n",
    "    plt.xlabel('False Positive Rate')\n",
    "    plt.ylabel('True Positive Rate')\n",
    "    plt.title('Receiver operating characteristic example')\n",
    "    plt.legend(loc=\"lower right\")\n",
    "    plt.show()"
   ]
  },
  {
   "cell_type": "code",
   "execution_count": 5,
   "metadata": {
    "ExecuteTime": {
     "end_time": "2019-11-15T02:59:56.469011Z",
     "start_time": "2019-11-15T02:59:55.334339Z"
    }
   },
   "outputs": [],
   "source": [
    "X_train, X_test, y_train, y_test = train_test_split(\n",
    "    X, y, test_size=0.33, stratify=y, random_state=42)"
   ]
  },
  {
   "cell_type": "markdown",
   "metadata": {},
   "source": [
    "注意这里一定要进行分层抽样，否则会仅有的极少数的正样本大部分出现在训练集或者测试集。"
   ]
  },
  {
   "cell_type": "code",
   "execution_count": 6,
   "metadata": {
    "ExecuteTime": {
     "end_time": "2019-11-15T02:59:56.500138Z",
     "start_time": "2019-11-15T02:59:56.472073Z"
    }
   },
   "outputs": [
    {
     "data": {
      "text/plain": [
       "0    136.542768\n",
       "dtype: float64"
      ]
     },
     "execution_count": 6,
     "metadata": {},
     "output_type": "execute_result"
    }
   ],
   "source": [
    "np.sum(y_train == 0) / np.sum(y_train == 1)"
   ]
  },
  {
   "cell_type": "code",
   "execution_count": 7,
   "metadata": {
    "ExecuteTime": {
     "end_time": "2019-11-15T02:59:56.635931Z",
     "start_time": "2019-11-15T02:59:56.503829Z"
    }
   },
   "outputs": [
    {
     "data": {
      "text/plain": [
       "0    136.851266\n",
       "dtype: float64"
      ]
     },
     "execution_count": 7,
     "metadata": {},
     "output_type": "execute_result"
    }
   ],
   "source": [
    "np.sum(y_test == 0) / np.sum(y_test == 1)"
   ]
  },
  {
   "cell_type": "markdown",
   "metadata": {},
   "source": [
    "## XGBoost[0.774493]"
   ]
  },
  {
   "cell_type": "code",
   "execution_count": 101,
   "metadata": {
    "ExecuteTime": {
     "end_time": "2019-11-09T05:38:48.673793Z",
     "start_time": "2019-11-09T05:37:30.406930Z"
    },
    "scrolled": true
   },
   "outputs": [
    {
     "name": "stdout",
     "output_type": "stream",
     "text": [
      "[0]\tvalidation_0-auc:0.657396\n",
      "[1]\tvalidation_0-auc:0.674652\n",
      "[2]\tvalidation_0-auc:0.688251\n",
      "[3]\tvalidation_0-auc:0.696112\n",
      "[4]\tvalidation_0-auc:0.697364\n",
      "[5]\tvalidation_0-auc:0.698551\n",
      "[6]\tvalidation_0-auc:0.69957\n",
      "[7]\tvalidation_0-auc:0.699136\n",
      "[8]\tvalidation_0-auc:0.700264\n",
      "[9]\tvalidation_0-auc:0.696941\n",
      "[10]\tvalidation_0-auc:0.695588\n",
      "[11]\tvalidation_0-auc:0.696753\n",
      "[12]\tvalidation_0-auc:0.70022\n",
      "[13]\tvalidation_0-auc:0.703759\n",
      "[14]\tvalidation_0-auc:0.705787\n",
      "[15]\tvalidation_0-auc:0.707092\n",
      "[16]\tvalidation_0-auc:0.709031\n",
      "[17]\tvalidation_0-auc:0.708715\n",
      "[18]\tvalidation_0-auc:0.707027\n",
      "[19]\tvalidation_0-auc:0.708112\n",
      "[20]\tvalidation_0-auc:0.710316\n",
      "[21]\tvalidation_0-auc:0.710637\n",
      "[22]\tvalidation_0-auc:0.711806\n",
      "[23]\tvalidation_0-auc:0.712839\n",
      "[24]\tvalidation_0-auc:0.71402\n",
      "[25]\tvalidation_0-auc:0.71403\n",
      "[26]\tvalidation_0-auc:0.715365\n",
      "[27]\tvalidation_0-auc:0.716783\n",
      "[28]\tvalidation_0-auc:0.715875\n",
      "[29]\tvalidation_0-auc:0.716901\n",
      "[30]\tvalidation_0-auc:0.718041\n",
      "[31]\tvalidation_0-auc:0.718429\n",
      "[32]\tvalidation_0-auc:0.719936\n",
      "[33]\tvalidation_0-auc:0.721897\n",
      "[34]\tvalidation_0-auc:0.723479\n",
      "[35]\tvalidation_0-auc:0.725383\n",
      "[36]\tvalidation_0-auc:0.725959\n",
      "[37]\tvalidation_0-auc:0.726663\n",
      "[38]\tvalidation_0-auc:0.72782\n",
      "[39]\tvalidation_0-auc:0.728266\n",
      "[40]\tvalidation_0-auc:0.729962\n",
      "[41]\tvalidation_0-auc:0.729906\n",
      "[42]\tvalidation_0-auc:0.729791\n",
      "[43]\tvalidation_0-auc:0.730609\n",
      "[44]\tvalidation_0-auc:0.731458\n",
      "[45]\tvalidation_0-auc:0.730259\n",
      "[46]\tvalidation_0-auc:0.730634\n",
      "[47]\tvalidation_0-auc:0.730188\n",
      "[48]\tvalidation_0-auc:0.73136\n",
      "[49]\tvalidation_0-auc:0.730424\n",
      "[50]\tvalidation_0-auc:0.730529\n",
      "[51]\tvalidation_0-auc:0.73088\n",
      "[52]\tvalidation_0-auc:0.730627\n",
      "[53]\tvalidation_0-auc:0.730958\n",
      "[54]\tvalidation_0-auc:0.730784\n",
      "[55]\tvalidation_0-auc:0.732541\n",
      "[56]\tvalidation_0-auc:0.732267\n",
      "[57]\tvalidation_0-auc:0.733008\n",
      "[58]\tvalidation_0-auc:0.734311\n",
      "[59]\tvalidation_0-auc:0.734754\n",
      "[60]\tvalidation_0-auc:0.735075\n",
      "[61]\tvalidation_0-auc:0.735866\n",
      "[62]\tvalidation_0-auc:0.735205\n",
      "[63]\tvalidation_0-auc:0.735206\n",
      "[64]\tvalidation_0-auc:0.735915\n",
      "[65]\tvalidation_0-auc:0.736019\n",
      "[66]\tvalidation_0-auc:0.735656\n",
      "[67]\tvalidation_0-auc:0.735366\n",
      "[68]\tvalidation_0-auc:0.734244\n",
      "[69]\tvalidation_0-auc:0.735007\n",
      "[70]\tvalidation_0-auc:0.735941\n",
      "[71]\tvalidation_0-auc:0.736084\n",
      "[72]\tvalidation_0-auc:0.736205\n",
      "[73]\tvalidation_0-auc:0.736024\n",
      "[74]\tvalidation_0-auc:0.736826\n",
      "[75]\tvalidation_0-auc:0.737335\n",
      "[76]\tvalidation_0-auc:0.73848\n",
      "[77]\tvalidation_0-auc:0.738969\n",
      "[78]\tvalidation_0-auc:0.739161\n",
      "[79]\tvalidation_0-auc:0.738796\n",
      "[80]\tvalidation_0-auc:0.738207\n",
      "[81]\tvalidation_0-auc:0.73869\n",
      "[82]\tvalidation_0-auc:0.738706\n",
      "[83]\tvalidation_0-auc:0.737601\n",
      "[84]\tvalidation_0-auc:0.738295\n",
      "[85]\tvalidation_0-auc:0.738537\n",
      "[86]\tvalidation_0-auc:0.738595\n",
      "[87]\tvalidation_0-auc:0.738532\n",
      "[88]\tvalidation_0-auc:0.737982\n",
      "[89]\tvalidation_0-auc:0.737453\n",
      "[90]\tvalidation_0-auc:0.737956\n",
      "[91]\tvalidation_0-auc:0.737765\n",
      "[92]\tvalidation_0-auc:0.737218\n",
      "[93]\tvalidation_0-auc:0.736963\n",
      "[94]\tvalidation_0-auc:0.737127\n",
      "[95]\tvalidation_0-auc:0.737812\n",
      "[96]\tvalidation_0-auc:0.738011\n",
      "[97]\tvalidation_0-auc:0.738399\n",
      "[98]\tvalidation_0-auc:0.738649\n",
      "[99]\tvalidation_0-auc:0.738857\n",
      "[100]\tvalidation_0-auc:0.738667\n",
      "[101]\tvalidation_0-auc:0.7391\n",
      "[102]\tvalidation_0-auc:0.738809\n",
      "[103]\tvalidation_0-auc:0.738478\n",
      "[104]\tvalidation_0-auc:0.738335\n",
      "[105]\tvalidation_0-auc:0.738108\n",
      "[106]\tvalidation_0-auc:0.738413\n",
      "[107]\tvalidation_0-auc:0.73889\n",
      "[108]\tvalidation_0-auc:0.739021\n",
      "[109]\tvalidation_0-auc:0.739135\n",
      "[110]\tvalidation_0-auc:0.739524\n",
      "[111]\tvalidation_0-auc:0.74018\n",
      "[112]\tvalidation_0-auc:0.740036\n",
      "[113]\tvalidation_0-auc:0.740299\n",
      "[114]\tvalidation_0-auc:0.739985\n",
      "[115]\tvalidation_0-auc:0.739468\n",
      "[116]\tvalidation_0-auc:0.739306\n",
      "[117]\tvalidation_0-auc:0.739031\n",
      "[118]\tvalidation_0-auc:0.738991\n",
      "[119]\tvalidation_0-auc:0.739259\n",
      "[120]\tvalidation_0-auc:0.739305\n",
      "[121]\tvalidation_0-auc:0.738765\n",
      "[122]\tvalidation_0-auc:0.73881\n",
      "[123]\tvalidation_0-auc:0.739168\n",
      "[124]\tvalidation_0-auc:0.738775\n",
      "[125]\tvalidation_0-auc:0.738907\n",
      "[126]\tvalidation_0-auc:0.739306\n",
      "[127]\tvalidation_0-auc:0.739459\n",
      "[128]\tvalidation_0-auc:0.739817\n",
      "[129]\tvalidation_0-auc:0.739902\n",
      "[130]\tvalidation_0-auc:0.740295\n",
      "[131]\tvalidation_0-auc:0.740191\n",
      "[132]\tvalidation_0-auc:0.740106\n",
      "[133]\tvalidation_0-auc:0.739627\n",
      "[134]\tvalidation_0-auc:0.739346\n",
      "[135]\tvalidation_0-auc:0.739221\n",
      "[136]\tvalidation_0-auc:0.739075\n",
      "[137]\tvalidation_0-auc:0.738516\n",
      "[138]\tvalidation_0-auc:0.738511\n",
      "[139]\tvalidation_0-auc:0.738131\n",
      "[140]\tvalidation_0-auc:0.737455\n",
      "[141]\tvalidation_0-auc:0.737413\n",
      "[142]\tvalidation_0-auc:0.737475\n",
      "[143]\tvalidation_0-auc:0.73756\n",
      "[144]\tvalidation_0-auc:0.738346\n",
      "[145]\tvalidation_0-auc:0.738632\n",
      "[146]\tvalidation_0-auc:0.738842\n",
      "[147]\tvalidation_0-auc:0.738631\n",
      "[148]\tvalidation_0-auc:0.738681\n",
      "[149]\tvalidation_0-auc:0.738638\n",
      "[150]\tvalidation_0-auc:0.738137\n",
      "[151]\tvalidation_0-auc:0.737858\n",
      "[152]\tvalidation_0-auc:0.737356\n",
      "[153]\tvalidation_0-auc:0.736564\n",
      "[154]\tvalidation_0-auc:0.736588\n",
      "[155]\tvalidation_0-auc:0.736495\n",
      "[156]\tvalidation_0-auc:0.73619\n",
      "[157]\tvalidation_0-auc:0.735782\n",
      "[158]\tvalidation_0-auc:0.735561\n",
      "[159]\tvalidation_0-auc:0.735746\n",
      "[160]\tvalidation_0-auc:0.735696\n",
      "[161]\tvalidation_0-auc:0.735784\n",
      "[162]\tvalidation_0-auc:0.736075\n",
      "[163]\tvalidation_0-auc:0.735166\n",
      "[164]\tvalidation_0-auc:0.735456\n",
      "[165]\tvalidation_0-auc:0.735776\n",
      "[166]\tvalidation_0-auc:0.736286\n",
      "[167]\tvalidation_0-auc:0.73607\n",
      "[168]\tvalidation_0-auc:0.736101\n",
      "[169]\tvalidation_0-auc:0.73577\n",
      "[170]\tvalidation_0-auc:0.736014\n",
      "[171]\tvalidation_0-auc:0.736173\n",
      "[172]\tvalidation_0-auc:0.736169\n",
      "[173]\tvalidation_0-auc:0.736527\n",
      "[174]\tvalidation_0-auc:0.736162\n",
      "[175]\tvalidation_0-auc:0.736033\n",
      "[176]\tvalidation_0-auc:0.736039\n",
      "[177]\tvalidation_0-auc:0.736325\n",
      "[178]\tvalidation_0-auc:0.7366\n",
      "[179]\tvalidation_0-auc:0.736667\n",
      "[180]\tvalidation_0-auc:0.736749\n",
      "[181]\tvalidation_0-auc:0.736908\n",
      "[182]\tvalidation_0-auc:0.737477\n",
      "[183]\tvalidation_0-auc:0.737136\n",
      "[184]\tvalidation_0-auc:0.73733\n",
      "[185]\tvalidation_0-auc:0.737414\n",
      "[186]\tvalidation_0-auc:0.73722\n",
      "[187]\tvalidation_0-auc:0.737204\n",
      "[188]\tvalidation_0-auc:0.73727\n",
      "[189]\tvalidation_0-auc:0.737588\n",
      "[190]\tvalidation_0-auc:0.736869\n",
      "[191]\tvalidation_0-auc:0.737369\n",
      "[192]\tvalidation_0-auc:0.737244\n",
      "[193]\tvalidation_0-auc:0.737851\n",
      "[194]\tvalidation_0-auc:0.737187\n",
      "[195]\tvalidation_0-auc:0.73792\n",
      "[196]\tvalidation_0-auc:0.737387\n",
      "[197]\tvalidation_0-auc:0.737096\n",
      "[198]\tvalidation_0-auc:0.736197\n",
      "[199]\tvalidation_0-auc:0.736378\n",
      "[200]\tvalidation_0-auc:0.736058\n",
      "[201]\tvalidation_0-auc:0.735649\n",
      "[202]\tvalidation_0-auc:0.735633\n",
      "[203]\tvalidation_0-auc:0.735596\n",
      "[204]\tvalidation_0-auc:0.735675\n",
      "[205]\tvalidation_0-auc:0.735683\n",
      "[206]\tvalidation_0-auc:0.735448\n",
      "[207]\tvalidation_0-auc:0.735731\n",
      "[208]\tvalidation_0-auc:0.73496\n",
      "[209]\tvalidation_0-auc:0.734937\n",
      "[210]\tvalidation_0-auc:0.735038\n",
      "[211]\tvalidation_0-auc:0.735223\n",
      "[212]\tvalidation_0-auc:0.73457\n",
      "[213]\tvalidation_0-auc:0.734282\n",
      "[214]\tvalidation_0-auc:0.734452\n",
      "[215]\tvalidation_0-auc:0.734367\n",
      "[216]\tvalidation_0-auc:0.734186\n",
      "[217]\tvalidation_0-auc:0.734396\n",
      "[218]\tvalidation_0-auc:0.733892\n",
      "[219]\tvalidation_0-auc:0.733389\n",
      "[220]\tvalidation_0-auc:0.733539\n",
      "[221]\tvalidation_0-auc:0.734259\n",
      "[222]\tvalidation_0-auc:0.734661\n",
      "[223]\tvalidation_0-auc:0.7346\n",
      "[224]\tvalidation_0-auc:0.733598\n",
      "[225]\tvalidation_0-auc:0.733494\n",
      "[226]\tvalidation_0-auc:0.733968\n",
      "[227]\tvalidation_0-auc:0.733367\n",
      "[228]\tvalidation_0-auc:0.7336\n",
      "[229]\tvalidation_0-auc:0.73379\n",
      "[230]\tvalidation_0-auc:0.733978\n",
      "[231]\tvalidation_0-auc:0.733212\n",
      "[232]\tvalidation_0-auc:0.733301\n",
      "[233]\tvalidation_0-auc:0.73327\n",
      "[234]\tvalidation_0-auc:0.733418\n",
      "[235]\tvalidation_0-auc:0.733231\n",
      "[236]\tvalidation_0-auc:0.733257\n",
      "[237]\tvalidation_0-auc:0.733112\n",
      "[238]\tvalidation_0-auc:0.732501\n",
      "[239]\tvalidation_0-auc:0.732715\n",
      "[240]\tvalidation_0-auc:0.732978\n",
      "[241]\tvalidation_0-auc:0.733175\n",
      "[242]\tvalidation_0-auc:0.733076\n",
      "[243]\tvalidation_0-auc:0.733023\n",
      "[244]\tvalidation_0-auc:0.732936\n",
      "[245]\tvalidation_0-auc:0.732396\n",
      "[246]\tvalidation_0-auc:0.732757\n",
      "[247]\tvalidation_0-auc:0.733021\n",
      "[248]\tvalidation_0-auc:0.733017\n",
      "[249]\tvalidation_0-auc:0.733536\n",
      "[250]\tvalidation_0-auc:0.732868\n",
      "[251]\tvalidation_0-auc:0.732886\n",
      "[252]\tvalidation_0-auc:0.733227\n",
      "[253]\tvalidation_0-auc:0.733114\n",
      "[254]\tvalidation_0-auc:0.733062\n",
      "[255]\tvalidation_0-auc:0.733377\n",
      "[256]\tvalidation_0-auc:0.733277\n",
      "[257]\tvalidation_0-auc:0.733144\n",
      "[258]\tvalidation_0-auc:0.732947\n",
      "[259]\tvalidation_0-auc:0.732849\n",
      "[260]\tvalidation_0-auc:0.733428\n"
     ]
    },
    {
     "name": "stdout",
     "output_type": "stream",
     "text": [
      "[261]\tvalidation_0-auc:0.733545\n",
      "[262]\tvalidation_0-auc:0.733649\n",
      "[263]\tvalidation_0-auc:0.733677\n",
      "[264]\tvalidation_0-auc:0.733888\n",
      "[265]\tvalidation_0-auc:0.733608\n",
      "[266]\tvalidation_0-auc:0.733604\n",
      "[267]\tvalidation_0-auc:0.733081\n",
      "[268]\tvalidation_0-auc:0.732894\n",
      "[269]\tvalidation_0-auc:0.732832\n",
      "[270]\tvalidation_0-auc:0.733007\n",
      "[271]\tvalidation_0-auc:0.733182\n",
      "[272]\tvalidation_0-auc:0.733264\n",
      "[273]\tvalidation_0-auc:0.733117\n",
      "[274]\tvalidation_0-auc:0.733033\n",
      "[275]\tvalidation_0-auc:0.733043\n",
      "[276]\tvalidation_0-auc:0.733017\n",
      "[277]\tvalidation_0-auc:0.733398\n",
      "[278]\tvalidation_0-auc:0.733942\n",
      "[279]\tvalidation_0-auc:0.734117\n",
      "[280]\tvalidation_0-auc:0.733427\n",
      "[281]\tvalidation_0-auc:0.733\n",
      "[282]\tvalidation_0-auc:0.733081\n",
      "[283]\tvalidation_0-auc:0.732041\n",
      "[284]\tvalidation_0-auc:0.731733\n",
      "[285]\tvalidation_0-auc:0.731805\n",
      "[286]\tvalidation_0-auc:0.73186\n",
      "[287]\tvalidation_0-auc:0.731842\n",
      "[288]\tvalidation_0-auc:0.731806\n",
      "[289]\tvalidation_0-auc:0.731516\n",
      "[290]\tvalidation_0-auc:0.73161\n",
      "[291]\tvalidation_0-auc:0.731718\n",
      "[292]\tvalidation_0-auc:0.732636\n",
      "[293]\tvalidation_0-auc:0.732577\n",
      "[294]\tvalidation_0-auc:0.732616\n",
      "[295]\tvalidation_0-auc:0.732597\n",
      "[296]\tvalidation_0-auc:0.732555\n",
      "[297]\tvalidation_0-auc:0.732567\n",
      "[298]\tvalidation_0-auc:0.732692\n",
      "[299]\tvalidation_0-auc:0.732352\n",
      "[300]\tvalidation_0-auc:0.732218\n",
      "[301]\tvalidation_0-auc:0.732007\n",
      "[302]\tvalidation_0-auc:0.731635\n",
      "[303]\tvalidation_0-auc:0.73208\n",
      "[304]\tvalidation_0-auc:0.732305\n",
      "[305]\tvalidation_0-auc:0.732459\n",
      "[306]\tvalidation_0-auc:0.732269\n",
      "[307]\tvalidation_0-auc:0.731987\n",
      "[308]\tvalidation_0-auc:0.731843\n",
      "[309]\tvalidation_0-auc:0.732291\n",
      "[310]\tvalidation_0-auc:0.732375\n",
      "[311]\tvalidation_0-auc:0.732244\n",
      "[312]\tvalidation_0-auc:0.732627\n",
      "[313]\tvalidation_0-auc:0.732619\n",
      "[314]\tvalidation_0-auc:0.732623\n",
      "[315]\tvalidation_0-auc:0.73254\n",
      "[316]\tvalidation_0-auc:0.732607\n",
      "[317]\tvalidation_0-auc:0.733166\n",
      "[318]\tvalidation_0-auc:0.733158\n",
      "[319]\tvalidation_0-auc:0.733572\n",
      "[320]\tvalidation_0-auc:0.73405\n",
      "[321]\tvalidation_0-auc:0.733225\n",
      "[322]\tvalidation_0-auc:0.732833\n",
      "[323]\tvalidation_0-auc:0.733117\n",
      "[324]\tvalidation_0-auc:0.733273\n",
      "[325]\tvalidation_0-auc:0.732871\n",
      "[326]\tvalidation_0-auc:0.732748\n",
      "[327]\tvalidation_0-auc:0.732859\n",
      "[328]\tvalidation_0-auc:0.732805\n",
      "[329]\tvalidation_0-auc:0.732549\n",
      "[330]\tvalidation_0-auc:0.732399\n",
      "[331]\tvalidation_0-auc:0.732552\n",
      "[332]\tvalidation_0-auc:0.732671\n",
      "[333]\tvalidation_0-auc:0.732585\n",
      "[334]\tvalidation_0-auc:0.732684\n",
      "[335]\tvalidation_0-auc:0.732508\n",
      "[336]\tvalidation_0-auc:0.732321\n",
      "[337]\tvalidation_0-auc:0.731562\n",
      "[338]\tvalidation_0-auc:0.731849\n",
      "[339]\tvalidation_0-auc:0.731971\n",
      "[340]\tvalidation_0-auc:0.731664\n",
      "[341]\tvalidation_0-auc:0.732053\n",
      "[342]\tvalidation_0-auc:0.7322\n",
      "[343]\tvalidation_0-auc:0.732224\n",
      "[344]\tvalidation_0-auc:0.732217\n",
      "[345]\tvalidation_0-auc:0.732182\n",
      "[346]\tvalidation_0-auc:0.732529\n",
      "[347]\tvalidation_0-auc:0.732265\n",
      "[348]\tvalidation_0-auc:0.732813\n",
      "[349]\tvalidation_0-auc:0.732426\n",
      "[350]\tvalidation_0-auc:0.732703\n",
      "[351]\tvalidation_0-auc:0.732289\n",
      "[352]\tvalidation_0-auc:0.732016\n",
      "[353]\tvalidation_0-auc:0.732538\n",
      "[354]\tvalidation_0-auc:0.732607\n",
      "[355]\tvalidation_0-auc:0.732582\n",
      "[356]\tvalidation_0-auc:0.732601\n",
      "[357]\tvalidation_0-auc:0.732623\n",
      "[358]\tvalidation_0-auc:0.732329\n",
      "[359]\tvalidation_0-auc:0.732662\n",
      "[360]\tvalidation_0-auc:0.732221\n",
      "[361]\tvalidation_0-auc:0.732373\n",
      "[362]\tvalidation_0-auc:0.732121\n",
      "[363]\tvalidation_0-auc:0.731745\n",
      "[364]\tvalidation_0-auc:0.731691\n",
      "[365]\tvalidation_0-auc:0.731653\n",
      "[366]\tvalidation_0-auc:0.731864\n",
      "[367]\tvalidation_0-auc:0.731765\n",
      "[368]\tvalidation_0-auc:0.731849\n",
      "[369]\tvalidation_0-auc:0.732109\n",
      "[370]\tvalidation_0-auc:0.731936\n",
      "[371]\tvalidation_0-auc:0.732089\n",
      "[372]\tvalidation_0-auc:0.732648\n",
      "[373]\tvalidation_0-auc:0.732844\n",
      "[374]\tvalidation_0-auc:0.73276\n",
      "[375]\tvalidation_0-auc:0.732629\n",
      "[376]\tvalidation_0-auc:0.73223\n",
      "[377]\tvalidation_0-auc:0.731879\n",
      "[378]\tvalidation_0-auc:0.731573\n",
      "[379]\tvalidation_0-auc:0.731442\n",
      "[380]\tvalidation_0-auc:0.731134\n",
      "[381]\tvalidation_0-auc:0.73086\n",
      "[382]\tvalidation_0-auc:0.730637\n",
      "[383]\tvalidation_0-auc:0.730976\n",
      "[384]\tvalidation_0-auc:0.7309\n",
      "[385]\tvalidation_0-auc:0.73092\n",
      "[386]\tvalidation_0-auc:0.731093\n",
      "[387]\tvalidation_0-auc:0.731113\n"
     ]
    },
    {
     "data": {
      "text/plain": [
       "XGBClassifier(base_score=0.5, booster='gbtree', colsample_bylevel=1,\n",
       "              colsample_bynode=1, colsample_bytree=0.9, eval_metric='auc',\n",
       "              gamma=0, learning_rate=0.05, max_delta_step=0, max_depth=3,\n",
       "              min_child_weight=1, missing=None, n_estimators=388, n_jobs=-1,\n",
       "              nthread=None, objective='binary:logistic', random_state=42,\n",
       "              reg_alpha=0, reg_lambda=1, scale_pos_weight=136, seed=None,\n",
       "              silent=None, subsample=0.7, tree_method='auto', verbosity=1)"
      ]
     },
     "execution_count": 101,
     "metadata": {},
     "output_type": "execute_result"
    }
   ],
   "source": [
    "xgb_model = xgb.XGBClassifier(objective=\"binary:logistic\", \n",
    "                              random_state=42, \n",
    "                              eval_metric=\"auc\",\n",
    "                              learning_rate=0.05,\n",
    "                              max_depth=3,\n",
    "                              n_estimators=150, \n",
    "                              n_jobs=2,\n",
    "                              tree_method = 'auto',\n",
    "                              scale_pos_weight=136)  # sum(y == 0) / sum(y == 1)\n",
    "\n",
    "xgb_model.fit(X_train, y_train, eval_set=[(X_test, y_test)], verbose=1)"
   ]
  },
  {
   "cell_type": "code",
   "execution_count": 102,
   "metadata": {
    "ExecuteTime": {
     "end_time": "2019-11-09T05:39:04.577082Z",
     "start_time": "2019-11-09T05:39:00.341262Z"
    }
   },
   "outputs": [
    {
     "data": {
      "image/png": "[encoded data removed]",
      "text/plain": [
       "<Figure size 432x288 with 1 Axes>"
      ]
     },
     "metadata": {
      "needs_background": "light"
     },
     "output_type": "display_data"
    }
   ],
   "source": [
    "# training auc\n",
    "# roc_auc_score(y_train, xgb_model.predict_proba(X_train)[:,1])\n",
    "plotROC(y_train, xgb_model.predict_proba(X_train)[:,1])"
   ]
  },
  {
   "cell_type": "code",
   "execution_count": 105,
   "metadata": {
    "ExecuteTime": {
     "end_time": "2019-11-09T05:39:12.221762Z",
     "start_time": "2019-11-09T05:39:11.913153Z"
    }
   },
   "outputs": [
    {
     "data": {
      "text/plain": [
       "0.7311128611990793"
      ]
     },
     "execution_count": 105,
     "metadata": {},
     "output_type": "execute_result"
    }
   ],
   "source": [
    "# test auc\n",
    "y_pred = xgb_model.predict_proba(X_test)[:,1]\n",
    "roc_auc_score(y_test, y_pred)"
   ]
  },
  {
   "cell_type": "code",
   "execution_count": 104,
   "metadata": {
    "ExecuteTime": {
     "end_time": "2019-11-09T05:39:05.584773Z",
     "start_time": "2019-11-09T05:39:04.937386Z"
    }
   },
   "outputs": [
    {
     "data": {
      "image/png": "[encoded data removed]",
      "text/plain": [
       "<Figure size 432x288 with 1 Axes>"
      ]
     },
     "metadata": {
      "needs_background": "light"
     },
     "output_type": "display_data"
    }
   ],
   "source": [
    "plotROC(y_test, y_pred)"
   ]
  },
  {
   "cell_type": "code",
   "execution_count": 106,
   "metadata": {
    "ExecuteTime": {
     "end_time": "2019-11-09T05:39:15.353105Z",
     "start_time": "2019-11-09T05:39:14.840208Z"
    }
   },
   "outputs": [
    {
     "data": {
      "text/plain": [
       "array([[19850,  6359],\n",
       "       [   82,   110]])"
      ]
     },
     "execution_count": 106,
     "metadata": {},
     "output_type": "execute_result"
    }
   ],
   "source": [
    "# confusion matrix\n",
    "y_pred_class = xgb_model.predict(X_test)\n",
    "confusion_matrix(y_test, y_pred_class)"
   ]
  },
  {
   "cell_type": "code",
   "execution_count": 107,
   "metadata": {
    "ExecuteTime": {
     "end_time": "2019-11-09T05:41:04.834506Z",
     "start_time": "2019-11-09T05:39:39.676256Z"
    }
   },
   "outputs": [
    {
     "data": {
      "text/plain": [
       "XGBClassifier(base_score=0.5, booster='gbtree', colsample_bylevel=1,\n",
       "              colsample_bynode=1, colsample_bytree=0.9, eval_metric='auc',\n",
       "              gamma=0, learning_rate=0.05, max_delta_step=0, max_depth=3,\n",
       "              min_child_weight=1, missing=None, n_estimators=388, n_jobs=-1,\n",
       "              nthread=None, objective='binary:logistic', random_state=42,\n",
       "              reg_alpha=0, reg_lambda=1, scale_pos_weight=136, seed=None,\n",
       "              silent=None, subsample=0.7, tree_method='auto', verbosity=1)"
      ]
     },
     "execution_count": 107,
     "metadata": {},
     "output_type": "execute_result"
    }
   ],
   "source": [
    "# train with all data\n",
    "xgb_model = xgb.XGBClassifier(objective=\"binary:logistic\", \n",
    "                              random_state=42, \n",
    "                              eval_metric=\"auc\",\n",
    "                              learning_rate=0.05,\n",
    "                              max_depth=4,\n",
    "                              n_estimators=150, \n",
    "                              n_jobs=2,\n",
    "                              tree_method = 'auto',\n",
    "                              scale_pos_weight=136)  # sum(y == 0) / sum(y == 1)\n",
    "\n",
    "xgb_model.fit(X, y, verbose=1)"
   ]
  },
  {
   "cell_type": "code",
   "execution_count": 108,
   "metadata": {
    "ExecuteTime": {
     "end_time": "2019-11-09T05:41:06.303590Z",
     "start_time": "2019-11-09T05:41:04.856420Z"
    }
   },
   "outputs": [
    {
     "data": {
      "text/plain": [
       "0.8356969632625724"
      ]
     },
     "execution_count": 108,
     "metadata": {},
     "output_type": "execute_result"
    }
   ],
   "source": [
    "# train auc\n",
    "y_pred = xgb_model.predict_proba(X)[:,1]\n",
    "roc_auc_score(y, y_pred)"
   ]
  },
  {
   "cell_type": "code",
   "execution_count": 109,
   "metadata": {
    "ExecuteTime": {
     "end_time": "2019-11-09T05:41:06.903184Z",
     "start_time": "2019-11-09T05:41:06.307497Z"
    }
   },
   "outputs": [
    {
     "data": {
      "image/png": "[encoded data removed]",
      "text/plain": [
       "<Figure size 432x288 with 1 Axes>"
      ]
     },
     "metadata": {
      "needs_background": "light"
     },
     "output_type": "display_data"
    }
   ],
   "source": [
    "plotROC(y, y_pred)"
   ]
  },
  {
   "cell_type": "code",
   "execution_count": 110,
   "metadata": {
    "ExecuteTime": {
     "end_time": "2019-11-09T05:41:08.261251Z",
     "start_time": "2019-11-09T05:41:06.906310Z"
    }
   },
   "outputs": [],
   "source": [
    "# pridict[线上，0.774493]\n",
    "result = pd.DataFrame()\n",
    "result['id'] = ids\n",
    "result['target'] = xgb_model.predict_proba(testX)[:,1]\n",
    "\n",
    "result.to_csv('../submissions/xgb.csv', index=None)"
   ]
  },
  {
   "cell_type": "markdown",
   "metadata": {},
   "source": [
    "## Easy Ensemble Classifier[0.76]"
   ]
  },
  {
   "cell_type": "code",
   "execution_count": 24,
   "metadata": {
    "ExecuteTime": {
     "end_time": "2019-11-09T02:03:51.010726Z",
     "start_time": "2019-11-09T02:02:51.784487Z"
    },
    "scrolled": true
   },
   "outputs": [
    {
     "name": "stderr",
     "output_type": "stream",
     "text": [
      "/home/shensir/anaconda3/lib/python3.6/site-packages/sklearn/ensemble/bagging.py:623: DataConversionWarning: A column-vector y was passed when a 1d array was expected. Please change the shape of y to (n_samples, ), for example using ravel().\n",
      "  y = column_or_1d(y, warn=True)\n",
      "[Parallel(n_jobs=2)]: Done   2 out of   2 | elapsed:   58.6s remaining:    0.0s\n",
      "[Parallel(n_jobs=2)]: Done   2 out of   2 | elapsed:   58.6s finished\n"
     ]
    },
    {
     "data": {
      "text/plain": [
       "EasyEnsembleClassifier(base_estimator=None, n_estimators=150, n_jobs=2,\n",
       "                       random_state=0, replacement=False,\n",
       "                       sampling_strategy='auto', verbose=1, warm_start=True)"
      ]
     },
     "execution_count": 24,
     "metadata": {},
     "output_type": "execute_result"
    }
   ],
   "source": [
    "eec = EasyEnsembleClassifier(random_state=0,\n",
    "                            n_estimators=150,\n",
    "                            n_jobs=2,\n",
    "                            warm_start=True,\n",
    "                            verbose=1)\n",
    "eec.fit(X_train, y_train)"
   ]
  },
  {
   "cell_type": "code",
   "execution_count": 25,
   "metadata": {
    "ExecuteTime": {
     "end_time": "2019-11-09T02:05:33.242159Z",
     "start_time": "2019-11-09T02:03:51.015150Z"
    }
   },
   "outputs": [
    {
     "name": "stderr",
     "output_type": "stream",
     "text": [
      "[Parallel(n_jobs=2)]: Done   2 out of   2 | elapsed:  1.7min remaining:    0.0s\n",
      "[Parallel(n_jobs=2)]: Done   2 out of   2 | elapsed:  1.7min finished\n"
     ]
    },
    {
     "data": {
      "text/plain": [
       "0.6630566056513447"
      ]
     },
     "execution_count": 25,
     "metadata": {},
     "output_type": "execute_result"
    }
   ],
   "source": [
    "y_pred_class = eec.predict(X_test)\n",
    "balanced_accuracy_score(y_test, y_pred_class)"
   ]
  },
  {
   "cell_type": "code",
   "execution_count": 26,
   "metadata": {
    "ExecuteTime": {
     "end_time": "2019-11-09T02:05:33.298410Z",
     "start_time": "2019-11-09T02:05:33.245075Z"
    }
   },
   "outputs": [
    {
     "data": {
      "text/plain": [
       "array([[28609, 14636],\n",
       "       [  106,   210]])"
      ]
     },
     "execution_count": 26,
     "metadata": {},
     "output_type": "execute_result"
    }
   ],
   "source": [
    "confusion_matrix(y_test, y_pred_class)"
   ]
  },
  {
   "cell_type": "code",
   "execution_count": 27,
   "metadata": {
    "ExecuteTime": {
     "end_time": "2019-11-09T02:07:21.154710Z",
     "start_time": "2019-11-09T02:05:33.301730Z"
    }
   },
   "outputs": [
    {
     "name": "stderr",
     "output_type": "stream",
     "text": [
      "[Parallel(n_jobs=2)]: Done   2 out of   2 | elapsed:  1.8min remaining:    0.0s\n",
      "[Parallel(n_jobs=2)]: Done   2 out of   2 | elapsed:  1.8min finished\n"
     ]
    },
    {
     "data": {
      "image/png": "[encoded data removed]",
      "text/plain": [
       "<Figure size 432x288 with 1 Axes>"
      ]
     },
     "metadata": {
      "needs_background": "light"
     },
     "output_type": "display_data"
    }
   ],
   "source": [
    "y_pred = eec.predict_proba(X_test)[:, 1]\n",
    "plotROC(y_test, y_pred)"
   ]
  },
  {
   "cell_type": "code",
   "execution_count": 28,
   "metadata": {
    "ExecuteTime": {
     "end_time": "2019-11-09T02:08:53.468680Z",
     "start_time": "2019-11-09T02:07:21.159965Z"
    }
   },
   "outputs": [
    {
     "name": "stderr",
     "output_type": "stream",
     "text": [
      "/home/shensir/anaconda3/lib/python3.6/site-packages/sklearn/ensemble/bagging.py:623: DataConversionWarning: A column-vector y was passed when a 1d array was expected. Please change the shape of y to (n_samples, ), for example using ravel().\n",
      "  y = column_or_1d(y, warn=True)\n",
      "[Parallel(n_jobs=2)]: Done   2 out of   2 | elapsed:  1.5min remaining:    0.0s\n",
      "[Parallel(n_jobs=2)]: Done   2 out of   2 | elapsed:  1.5min finished\n"
     ]
    },
    {
     "data": {
      "text/plain": [
       "EasyEnsembleClassifier(base_estimator=None, n_estimators=150, n_jobs=2,\n",
       "                       random_state=0, replacement=False,\n",
       "                       sampling_strategy='auto', verbose=1, warm_start=True)"
      ]
     },
     "execution_count": 28,
     "metadata": {},
     "output_type": "execute_result"
    }
   ],
   "source": [
    "# fit all data\n",
    "eec = EasyEnsembleClassifier(random_state=0,\n",
    "                            n_estimators=150,\n",
    "                            n_jobs=2,\n",
    "                            warm_start=True,\n",
    "                            verbose=1)\n",
    "eec.fit(X, y)"
   ]
  },
  {
   "cell_type": "code",
   "execution_count": 29,
   "metadata": {
    "ExecuteTime": {
     "end_time": "2019-11-09T02:14:31.159180Z",
     "start_time": "2019-11-09T02:08:53.479072Z"
    }
   },
   "outputs": [
    {
     "name": "stderr",
     "output_type": "stream",
     "text": [
      "[Parallel(n_jobs=2)]: Done   2 out of   2 | elapsed:  5.6min remaining:    0.0s\n",
      "[Parallel(n_jobs=2)]: Done   2 out of   2 | elapsed:  5.6min finished\n"
     ]
    },
    {
     "data": {
      "image/png": "[encoded data removed]",
      "text/plain": [
       "<Figure size 432x288 with 1 Axes>"
      ]
     },
     "metadata": {
      "needs_background": "light"
     },
     "output_type": "display_data"
    }
   ],
   "source": [
    "y_pred = eec.predict_proba(X)[:, 1]\n",
    "plotROC(y, y_pred)"
   ]
  },
  {
   "cell_type": "code",
   "execution_count": 30,
   "metadata": {
    "ExecuteTime": {
     "end_time": "2019-11-09T02:14:31.244287Z",
     "start_time": "2019-11-09T02:14:31.161969Z"
    }
   },
   "outputs": [
    {
     "data": {
      "text/plain": [
       "0.74050192681142"
      ]
     },
     "execution_count": 30,
     "metadata": {},
     "output_type": "execute_result"
    }
   ],
   "source": [
    "roc_auc_score(y, y_pred)"
   ]
  },
  {
   "cell_type": "code",
   "execution_count": 31,
   "metadata": {
    "ExecuteTime": {
     "end_time": "2019-11-09T02:15:27.599934Z",
     "start_time": "2019-11-09T02:14:31.249076Z"
    }
   },
   "outputs": [
    {
     "name": "stderr",
     "output_type": "stream",
     "text": [
      "[Parallel(n_jobs=2)]: Done   2 out of   2 | elapsed:   55.7s remaining:    0.0s\n",
      "[Parallel(n_jobs=2)]: Done   2 out of   2 | elapsed:   55.7s finished\n"
     ]
    }
   ],
   "source": [
    "# pridict\n",
    "result = pd.DataFrame()\n",
    "result['id'] = ids\n",
    "result['target'] = eec.predict_proba(testX)[:, 1]\n",
    "result.to_csv('../submissions/EasyEnsemble.csv', index=None)"
   ]
  },
  {
   "cell_type": "markdown",
   "metadata": {},
   "source": [
    "## Balanced Bagging Classifier"
   ]
  },
  {
   "cell_type": "code",
   "execution_count": 48,
   "metadata": {
    "ExecuteTime": {
     "end_time": "2019-11-09T02:22:18.327963Z",
     "start_time": "2019-11-09T02:21:51.019203Z"
    }
   },
   "outputs": [
    {
     "name": "stderr",
     "output_type": "stream",
     "text": [
      "/home/shensir/anaconda3/lib/python3.6/site-packages/sklearn/ensemble/bagging.py:623: DataConversionWarning: A column-vector y was passed when a 1d array was expected. Please change the shape of y to (n_samples, ), for example using ravel().\n",
      "  y = column_or_1d(y, warn=True)\n",
      "[Parallel(n_jobs=2)]: Done   2 out of   2 | elapsed:   26.8s remaining:    0.0s\n",
      "[Parallel(n_jobs=2)]: Done   2 out of   2 | elapsed:   26.8s finished\n"
     ]
    },
    {
     "data": {
      "text/plain": [
       "BalancedBaggingClassifier(base_estimator=AdaBoostClassifier(algorithm='SAMME.R',\n",
       "                                                            base_estimator=None,\n",
       "                                                            learning_rate=1.0,\n",
       "                                                            n_estimators=50,\n",
       "                                                            random_state=None),\n",
       "                          bootstrap=True, bootstrap_features=False,\n",
       "                          max_features=1.0, max_samples=1.0, n_estimators=50,\n",
       "                          n_jobs=2, oob_score=False, random_state=42,\n",
       "                          ratio=None, replacement=False,\n",
       "                          sampling_strategy='auto', verbose=1,\n",
       "                          warm_start=False)"
      ]
     },
     "execution_count": 48,
     "metadata": {},
     "output_type": "execute_result"
    }
   ],
   "source": [
    "bc = BalancedBaggingClassifier(base_estimator=AdaBoostClassifier(),\n",
    "                              random_state=42,\n",
    "                              n_estimators=50,\n",
    "                              n_jobs=2,\n",
    "                              verbose=1)\n",
    "bc.fit(X_train, y_train)"
   ]
  },
  {
   "cell_type": "code",
   "execution_count": 49,
   "metadata": {
    "ExecuteTime": {
     "end_time": "2019-11-09T02:23:35.582380Z",
     "start_time": "2019-11-09T02:22:18.331138Z"
    }
   },
   "outputs": [
    {
     "name": "stderr",
     "output_type": "stream",
     "text": [
      "[Parallel(n_jobs=2)]: Done   2 out of   2 | elapsed:  1.3min remaining:    0.0s\n",
      "[Parallel(n_jobs=2)]: Done   2 out of   2 | elapsed:  1.3min finished\n"
     ]
    },
    {
     "data": {
      "image/png": "[encoded data removed]",
      "text/plain": [
       "<Figure size 432x288 with 1 Axes>"
      ]
     },
     "metadata": {
      "needs_background": "light"
     },
     "output_type": "display_data"
    }
   ],
   "source": [
    "# training data\n",
    "plotROC(y_train, bc.predict_proba(X_train)[:,1])"
   ]
  },
  {
   "cell_type": "code",
   "execution_count": 50,
   "metadata": {
    "ExecuteTime": {
     "end_time": "2019-11-09T02:24:51.340218Z",
     "start_time": "2019-11-09T02:23:35.585455Z"
    }
   },
   "outputs": [
    {
     "name": "stderr",
     "output_type": "stream",
     "text": [
      "[Parallel(n_jobs=2)]: Done   2 out of   2 | elapsed:  1.3min remaining:    0.0s\n",
      "[Parallel(n_jobs=2)]: Done   2 out of   2 | elapsed:  1.3min finished\n"
     ]
    },
    {
     "data": {
      "text/plain": [
       "array([[62048, 25749],\n",
       "       [  225,   418]])"
      ]
     },
     "execution_count": 50,
     "metadata": {},
     "output_type": "execute_result"
    }
   ],
   "source": [
    "confusion_matrix(y_train, bc.predict(X_train))"
   ]
  },
  {
   "cell_type": "code",
   "execution_count": 51,
   "metadata": {
    "ExecuteTime": {
     "end_time": "2019-11-09T02:25:33.125215Z",
     "start_time": "2019-11-09T02:24:51.344228Z"
    }
   },
   "outputs": [
    {
     "name": "stderr",
     "output_type": "stream",
     "text": [
      "[Parallel(n_jobs=2)]: Done   2 out of   2 | elapsed:   41.2s remaining:    0.0s\n",
      "[Parallel(n_jobs=2)]: Done   2 out of   2 | elapsed:   41.2s finished\n"
     ]
    },
    {
     "data": {
      "text/plain": [
       "array([[30346, 12899],\n",
       "       [  119,   197]])"
      ]
     },
     "execution_count": 51,
     "metadata": {},
     "output_type": "execute_result"
    }
   ],
   "source": [
    "# test data\n",
    "y_pred_class = bc.predict(X_test)\n",
    "# balanced_accuracy_score(y_test, y_pred_class)\n",
    "confusion_matrix(y_test, y_pred_class)"
   ]
  },
  {
   "cell_type": "code",
   "execution_count": 52,
   "metadata": {
    "ExecuteTime": {
     "end_time": "2019-11-09T02:26:12.852391Z",
     "start_time": "2019-11-09T02:25:33.128456Z"
    }
   },
   "outputs": [
    {
     "name": "stderr",
     "output_type": "stream",
     "text": [
      "[Parallel(n_jobs=2)]: Done   2 out of   2 | elapsed:   39.0s remaining:    0.0s\n",
      "[Parallel(n_jobs=2)]: Done   2 out of   2 | elapsed:   39.0s finished\n"
     ]
    },
    {
     "data": {
      "image/png": "[encoded data removed]",
      "text/plain": [
       "<Figure size 432x288 with 1 Axes>"
      ]
     },
     "metadata": {
      "needs_background": "light"
     },
     "output_type": "display_data"
    }
   ],
   "source": [
    "y_pred = bc.predict_proba(X_test)[:, 1]\n",
    "plotROC(y_test, y_pred)"
   ]
  },
  {
   "cell_type": "code",
   "execution_count": 53,
   "metadata": {
    "ExecuteTime": {
     "end_time": "2019-11-09T02:27:32.850158Z",
     "start_time": "2019-11-09T02:26:12.856093Z"
    }
   },
   "outputs": [
    {
     "name": "stderr",
     "output_type": "stream",
     "text": [
      "/home/shensir/anaconda3/lib/python3.6/site-packages/sklearn/ensemble/bagging.py:623: DataConversionWarning: A column-vector y was passed when a 1d array was expected. Please change the shape of y to (n_samples, ), for example using ravel().\n",
      "  y = column_or_1d(y, warn=True)\n",
      "[Parallel(n_jobs=2)]: Done   2 out of   2 | elapsed:  1.3min remaining:    0.0s\n",
      "[Parallel(n_jobs=2)]: Done   2 out of   2 | elapsed:  1.3min finished\n"
     ]
    },
    {
     "data": {
      "text/plain": [
       "BalancedBaggingClassifier(base_estimator=AdaBoostClassifier(algorithm='SAMME.R',\n",
       "                                                            base_estimator=None,\n",
       "                                                            learning_rate=1.0,\n",
       "                                                            n_estimators=50,\n",
       "                                                            random_state=None),\n",
       "                          bootstrap=True, bootstrap_features=False,\n",
       "                          max_features=1.0, max_samples=1.0, n_estimators=100,\n",
       "                          n_jobs=2, oob_score=False, random_state=0, ratio=None,\n",
       "                          replacement=False, sampling_strategy='auto',\n",
       "                          verbose=1, warm_start=False)"
      ]
     },
     "execution_count": 53,
     "metadata": {},
     "output_type": "execute_result"
    }
   ],
   "source": [
    "# fit all data\n",
    "bc = BalancedBaggingClassifier(base_estimator=AdaBoostClassifier(),\n",
    "                              random_state=0,\n",
    "                              n_estimators=100,\n",
    "                              n_jobs=2,\n",
    "                              verbose=1)\n",
    "bc.fit(X, y)"
   ]
  },
  {
   "cell_type": "code",
   "execution_count": 54,
   "metadata": {
    "ExecuteTime": {
     "end_time": "2019-11-09T02:31:14.182336Z",
     "start_time": "2019-11-09T02:27:32.890490Z"
    }
   },
   "outputs": [
    {
     "name": "stderr",
     "output_type": "stream",
     "text": [
      "[Parallel(n_jobs=2)]: Done   2 out of   2 | elapsed:  3.7min remaining:    0.0s\n",
      "[Parallel(n_jobs=2)]: Done   2 out of   2 | elapsed:  3.7min finished\n"
     ]
    },
    {
     "data": {
      "image/png": "[encoded data removed]",
      "text/plain": [
       "<Figure size 432x288 with 1 Axes>"
      ]
     },
     "metadata": {
      "needs_background": "light"
     },
     "output_type": "display_data"
    }
   ],
   "source": [
    "y_pred = bc.predict_proba(X)[:, 1]\n",
    "plotROC(y, y_pred)"
   ]
  },
  {
   "cell_type": "code",
   "execution_count": 55,
   "metadata": {
    "ExecuteTime": {
     "end_time": "2019-11-09T02:31:14.281758Z",
     "start_time": "2019-11-09T02:31:14.186422Z"
    }
   },
   "outputs": [
    {
     "data": {
      "text/plain": [
       "0.7387508027220464"
      ]
     },
     "execution_count": 55,
     "metadata": {},
     "output_type": "execute_result"
    }
   ],
   "source": [
    "roc_auc_score(y, y_pred)"
   ]
  },
  {
   "cell_type": "code",
   "execution_count": 56,
   "metadata": {
    "ExecuteTime": {
     "end_time": "2019-11-09T02:31:52.555886Z",
     "start_time": "2019-11-09T02:31:14.285589Z"
    }
   },
   "outputs": [
    {
     "name": "stderr",
     "output_type": "stream",
     "text": [
      "[Parallel(n_jobs=2)]: Done   2 out of   2 | elapsed:   37.7s remaining:    0.0s\n",
      "[Parallel(n_jobs=2)]: Done   2 out of   2 | elapsed:   37.7s finished\n"
     ]
    }
   ],
   "source": [
    "result = pd.DataFrame()\n",
    "result['id'] = ids\n",
    "result['target'] = bc.predict_proba(testX)[:, 1]\n",
    "result.to_csv('../submissions/BalancedBaggingClassifier.csv', index=None)"
   ]
  },
  {
   "cell_type": "code",
   "execution_count": 63,
   "metadata": {
    "ExecuteTime": {
     "end_time": "2019-11-09T02:34:45.685152Z",
     "start_time": "2019-11-09T02:34:43.680672Z"
    }
   },
   "outputs": [],
   "source": [
    "result = pd.DataFrame()\n",
    "result['id'] = ids\n",
    "result['target'] = rusboost.predict_proba(testX)[:, 1]\n",
    "result.to_csv('../submissions/RUSBoostClassifier[test].csv', index=None)"
   ]
  },
  {
   "cell_type": "code",
   "execution_count": null,
   "metadata": {},
   "outputs": [],
   "source": []
  }
 ],
 "metadata": {
  "file_extension": ".py",
  "kernelspec": {
   "display_name": "Python 3",
   "language": "python",
   "name": "python3"
  },
  "language_info": {
   "codemirror_mode": {
    "name": "ipython",
    "version": 3
   },
   "file_extension": ".py",
   "mimetype": "text/x-python",
   "name": "python",
   "nbconvert_exporter": "python",
   "pygments_lexer": "ipython3",
   "version": "3.6.8"
  },
  "mimetype": "text/x-python",
  "name": "python",
  "npconvert_exporter": "python",
  "pygments_lexer": "ipython3",
  "toc": {
   "nav_menu": {},
   "number_sections": false,
   "sideBar": true,
   "skip_h1_title": false,
   "title_cell": "Table of Contents",
   "title_sidebar": "Contents",
   "toc_cell": false,
   "toc_position": {},
   "toc_section_display": true,
   "toc_window_display": true
  },
  "version": 3
 },
 "nbformat": 4,
 "nbformat_minor": 1
}
