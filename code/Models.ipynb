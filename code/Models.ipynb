{
 "cells": [
  {
   "cell_type": "markdown",
   "metadata": {},
   "source": [
    "# 模型拟合"
   ]
  },
  {
   "cell_type": "code",
   "execution_count": 1,
   "metadata": {
    "ExecuteTime": {
     "end_time": "2019-11-15T02:59:50.743516Z",
     "start_time": "2019-11-15T02:59:11.204791Z"
    }
   },
   "outputs": [
    {
     "name": "stderr",
     "output_type": "stream",
     "text": [
      "Using TensorFlow backend.\n"
     ]
    }
   ],
   "source": [
    "# import lib\n",
    "import pandas as pd\n",
    "import numpy as np\n",
    "import xgboost as xgb\n",
    "from sklearn.model_selection import train_test_split, StratifiedKFold, RandomizedSearchCV\n",
    "from sklearn.decomposition import PCA\n",
    "from sklearn.metrics import roc_auc_score, confusion_matrix, roc_curve, auc\n",
    "from sklearn.preprocessing import StandardScaler\n",
    "from sklearn.metrics import balanced_accuracy_score\n",
    "from sklearn.naive_bayes import BernoulliNB\n",
    "from sklearn.tree import DecisionTreeClassifier\n",
    "from sklearn.ensemble import AdaBoostClassifier\n",
    "from sklearn import svm\n",
    "from imblearn.ensemble import EasyEnsembleClassifier, BalancedBaggingClassifier"
   ]
  },
  {
   "cell_type": "code",
   "execution_count": 17,
   "metadata": {
    "ExecuteTime": {
     "end_time": "2019-11-15T03:18:43.391476Z",
     "start_time": "2019-11-15T03:18:33.454943Z"
    }
   },
   "outputs": [],
   "source": [
    "# import data\n",
    "X = pd.read_csv('../data/features/trainX.csv')\n",
    "y = pd.read_csv('../data/features/trainY.csv', header=None)\n",
    "testX = pd.read_csv('../data/features/testX.csv')"
   ]
  },
  {
   "cell_type": "code",
   "execution_count": 18,
   "metadata": {
    "ExecuteTime": {
     "end_time": "2019-11-15T03:19:16.950291Z",
     "start_time": "2019-11-15T03:19:16.735174Z"
    }
   },
   "outputs": [],
   "source": [
    "ids = testX.id\n",
    "testX = testX.drop(['id'], axis=1)"
   ]
  },
  {
   "cell_type": "code",
   "execution_count": 19,
   "metadata": {
    "ExecuteTime": {
     "end_time": "2019-11-15T03:19:17.043975Z",
     "start_time": "2019-11-15T03:19:16.953538Z"
    }
   },
   "outputs": [],
   "source": [
    "# ROC\n",
    "import matplotlib.pyplot as plt\n",
    "def plotROC(y_test, y_score):\n",
    "    fpr = dict()\n",
    "    tpr = dict()\n",
    "    roc_auc = dict()\n",
    "    fpr[2], tpr[2], _ = roc_curve(y_test, y_score)\n",
    "    roc_auc[2] = auc(fpr[2], tpr[2])\n",
    "\n",
    "    # Compute micro-average ROC curve and ROC area\n",
    "    fpr[\"micro\"], tpr[\"micro\"], _ = roc_curve(y_test, y_score)\n",
    "    roc_auc[\"micro\"] = auc(fpr[\"micro\"], tpr[\"micro\"])\n",
    "    # plot it\n",
    "    plt.figure()\n",
    "    lw = 2\n",
    "    plt.plot(fpr[2], tpr[2], color='darkorange',\n",
    "             lw=lw, label='ROC curve (area = %0.2f)' % roc_auc[2])\n",
    "    plt.plot([0, 1], [0, 1], color='navy', lw=lw, linestyle='--')\n",
    "    plt.xlim([0.0, 1.0])\n",
    "    plt.ylim([0.0, 1.05])\n",
    "    plt.xlabel('False Positive Rate')\n",
    "    plt.ylabel('True Positive Rate')\n",
    "    plt.title('Receiver operating characteristic example')\n",
    "    plt.legend(loc=\"lower right\")\n",
    "    plt.show()"
   ]
  },
  {
   "cell_type": "code",
   "execution_count": 20,
   "metadata": {
    "ExecuteTime": {
     "end_time": "2019-11-15T03:19:18.856385Z",
     "start_time": "2019-11-15T03:19:17.142193Z"
    }
   },
   "outputs": [],
   "source": [
    "X_train, X_test, y_train, y_test = train_test_split(\n",
    "    X, y, test_size=0.33, stratify=y, random_state=42)"
   ]
  },
  {
   "cell_type": "markdown",
   "metadata": {},
   "source": [
    "注意这里一定要进行分层抽样，否则会仅有的极少数的正样本大部分出现在训练集或者测试集。"
   ]
  },
  {
   "cell_type": "code",
   "execution_count": 21,
   "metadata": {
    "ExecuteTime": {
     "end_time": "2019-11-15T03:19:19.098762Z",
     "start_time": "2019-11-15T03:19:19.014909Z"
    }
   },
   "outputs": [
    {
     "data": {
      "text/plain": [
       "0    136.542768\n",
       "dtype: float64"
      ]
     },
     "execution_count": 21,
     "metadata": {},
     "output_type": "execute_result"
    }
   ],
   "source": [
    "np.sum(y_train == 0) / np.sum(y_train == 1)"
   ]
  },
  {
   "cell_type": "markdown",
   "metadata": {},
   "source": [
    "## XGBoost[0.774493]"
   ]
  },
  {
   "cell_type": "code",
   "execution_count": 22,
   "metadata": {
    "ExecuteTime": {
     "end_time": "2019-11-15T03:19:45.816063Z",
     "start_time": "2019-11-15T03:19:20.188625Z"
    },
    "scrolled": true
   },
   "outputs": [
    {
     "name": "stderr",
     "output_type": "stream",
     "text": [
      "/home/shensir/anaconda3/lib/python3.6/site-packages/sklearn/preprocessing/label.py:219: DataConversionWarning: A column-vector y was passed when a 1d array was expected. Please change the shape of y to (n_samples, ), for example using ravel().\n",
      "  y = column_or_1d(y, warn=True)\n",
      "/home/shensir/anaconda3/lib/python3.6/site-packages/sklearn/preprocessing/label.py:252: DataConversionWarning: A column-vector y was passed when a 1d array was expected. Please change the shape of y to (n_samples, ), for example using ravel().\n",
      "  y = column_or_1d(y, warn=True)\n"
     ]
    },
    {
     "name": "stdout",
     "output_type": "stream",
     "text": [
      "[0]\tvalidation_0-auc:0.661829\n",
      "[1]\tvalidation_0-auc:0.661829\n",
      "[2]\tvalidation_0-auc:0.663365\n",
      "[3]\tvalidation_0-auc:0.684263\n",
      "[4]\tvalidation_0-auc:0.683451\n",
      "[5]\tvalidation_0-auc:0.686162\n",
      "[6]\tvalidation_0-auc:0.684383\n",
      "[7]\tvalidation_0-auc:0.685765\n",
      "[8]\tvalidation_0-auc:0.689191\n",
      "[9]\tvalidation_0-auc:0.691067\n",
      "[10]\tvalidation_0-auc:0.694509\n",
      "[11]\tvalidation_0-auc:0.694659\n",
      "[12]\tvalidation_0-auc:0.691843\n",
      "[13]\tvalidation_0-auc:0.692628\n",
      "[14]\tvalidation_0-auc:0.693706\n",
      "[15]\tvalidation_0-auc:0.694953\n",
      "[16]\tvalidation_0-auc:0.69553\n",
      "[17]\tvalidation_0-auc:0.693929\n",
      "[18]\tvalidation_0-auc:0.696068\n",
      "[19]\tvalidation_0-auc:0.696893\n",
      "[20]\tvalidation_0-auc:0.696204\n",
      "[21]\tvalidation_0-auc:0.695214\n",
      "[22]\tvalidation_0-auc:0.696823\n",
      "[23]\tvalidation_0-auc:0.696746\n",
      "[24]\tvalidation_0-auc:0.696965\n",
      "[25]\tvalidation_0-auc:0.696554\n",
      "[26]\tvalidation_0-auc:0.697187\n",
      "[27]\tvalidation_0-auc:0.696756\n",
      "[28]\tvalidation_0-auc:0.697022\n",
      "[29]\tvalidation_0-auc:0.696704\n",
      "[30]\tvalidation_0-auc:0.696536\n",
      "[31]\tvalidation_0-auc:0.697108\n",
      "[32]\tvalidation_0-auc:0.696025\n",
      "[33]\tvalidation_0-auc:0.696539\n",
      "[34]\tvalidation_0-auc:0.69673\n",
      "[35]\tvalidation_0-auc:0.696411\n",
      "[36]\tvalidation_0-auc:0.697344\n",
      "[37]\tvalidation_0-auc:0.695984\n",
      "[38]\tvalidation_0-auc:0.696234\n",
      "[39]\tvalidation_0-auc:0.697396\n",
      "[40]\tvalidation_0-auc:0.698246\n",
      "[41]\tvalidation_0-auc:0.697883\n",
      "[42]\tvalidation_0-auc:0.697522\n",
      "[43]\tvalidation_0-auc:0.697842\n",
      "[44]\tvalidation_0-auc:0.698383\n",
      "[45]\tvalidation_0-auc:0.698663\n",
      "[46]\tvalidation_0-auc:0.69938\n",
      "[47]\tvalidation_0-auc:0.69916\n",
      "[48]\tvalidation_0-auc:0.699858\n",
      "[49]\tvalidation_0-auc:0.699867\n",
      "[50]\tvalidation_0-auc:0.700372\n",
      "[51]\tvalidation_0-auc:0.700865\n",
      "[52]\tvalidation_0-auc:0.701287\n",
      "[53]\tvalidation_0-auc:0.701113\n",
      "[54]\tvalidation_0-auc:0.70146\n",
      "[55]\tvalidation_0-auc:0.701706\n",
      "[56]\tvalidation_0-auc:0.702049\n",
      "[57]\tvalidation_0-auc:0.702248\n",
      "[58]\tvalidation_0-auc:0.702743\n",
      "[59]\tvalidation_0-auc:0.702406\n",
      "[60]\tvalidation_0-auc:0.702566\n",
      "[61]\tvalidation_0-auc:0.702539\n",
      "[62]\tvalidation_0-auc:0.702886\n",
      "[63]\tvalidation_0-auc:0.702265\n",
      "[64]\tvalidation_0-auc:0.70259\n",
      "[65]\tvalidation_0-auc:0.703269\n",
      "[66]\tvalidation_0-auc:0.703149\n",
      "[67]\tvalidation_0-auc:0.703406\n",
      "[68]\tvalidation_0-auc:0.702938\n",
      "[69]\tvalidation_0-auc:0.703754\n",
      "[70]\tvalidation_0-auc:0.703861\n",
      "[71]\tvalidation_0-auc:0.704421\n",
      "[72]\tvalidation_0-auc:0.704917\n",
      "[73]\tvalidation_0-auc:0.705132\n",
      "[74]\tvalidation_0-auc:0.705275\n",
      "[75]\tvalidation_0-auc:0.705357\n",
      "[76]\tvalidation_0-auc:0.705755\n",
      "[77]\tvalidation_0-auc:0.70594\n",
      "[78]\tvalidation_0-auc:0.706039\n",
      "[79]\tvalidation_0-auc:0.706043\n",
      "[80]\tvalidation_0-auc:0.706162\n",
      "[81]\tvalidation_0-auc:0.705629\n",
      "[82]\tvalidation_0-auc:0.705911\n",
      "[83]\tvalidation_0-auc:0.706013\n",
      "[84]\tvalidation_0-auc:0.706123\n",
      "[85]\tvalidation_0-auc:0.705828\n",
      "[86]\tvalidation_0-auc:0.705891\n",
      "[87]\tvalidation_0-auc:0.706048\n",
      "[88]\tvalidation_0-auc:0.706205\n",
      "[89]\tvalidation_0-auc:0.706182\n",
      "[90]\tvalidation_0-auc:0.705923\n",
      "[91]\tvalidation_0-auc:0.706612\n",
      "[92]\tvalidation_0-auc:0.70674\n",
      "[93]\tvalidation_0-auc:0.706511\n",
      "[94]\tvalidation_0-auc:0.706746\n",
      "[95]\tvalidation_0-auc:0.706657\n",
      "[96]\tvalidation_0-auc:0.706646\n",
      "[97]\tvalidation_0-auc:0.707424\n",
      "[98]\tvalidation_0-auc:0.707459\n",
      "[99]\tvalidation_0-auc:0.707489\n",
      "[100]\tvalidation_0-auc:0.707536\n",
      "[101]\tvalidation_0-auc:0.707755\n",
      "[102]\tvalidation_0-auc:0.707837\n",
      "[103]\tvalidation_0-auc:0.707183\n",
      "[104]\tvalidation_0-auc:0.707234\n",
      "[105]\tvalidation_0-auc:0.707948\n",
      "[106]\tvalidation_0-auc:0.708575\n",
      "[107]\tvalidation_0-auc:0.708556\n",
      "[108]\tvalidation_0-auc:0.708632\n",
      "[109]\tvalidation_0-auc:0.708868\n",
      "[110]\tvalidation_0-auc:0.708501\n",
      "[111]\tvalidation_0-auc:0.70859\n",
      "[112]\tvalidation_0-auc:0.708905\n",
      "[113]\tvalidation_0-auc:0.708917\n",
      "[114]\tvalidation_0-auc:0.708896\n",
      "[115]\tvalidation_0-auc:0.709207\n",
      "[116]\tvalidation_0-auc:0.709144\n",
      "[117]\tvalidation_0-auc:0.709592\n",
      "[118]\tvalidation_0-auc:0.709704\n",
      "[119]\tvalidation_0-auc:0.70946\n",
      "[120]\tvalidation_0-auc:0.709487\n",
      "[121]\tvalidation_0-auc:0.7092\n",
      "[122]\tvalidation_0-auc:0.708994\n",
      "[123]\tvalidation_0-auc:0.709199\n",
      "[124]\tvalidation_0-auc:0.709143\n",
      "[125]\tvalidation_0-auc:0.70907\n",
      "[126]\tvalidation_0-auc:0.709107\n",
      "[127]\tvalidation_0-auc:0.709353\n",
      "[128]\tvalidation_0-auc:0.709367\n",
      "[129]\tvalidation_0-auc:0.709343\n",
      "[130]\tvalidation_0-auc:0.709396\n",
      "[131]\tvalidation_0-auc:0.709422\n",
      "[132]\tvalidation_0-auc:0.710254\n",
      "[133]\tvalidation_0-auc:0.710551\n",
      "[134]\tvalidation_0-auc:0.710759\n",
      "[135]\tvalidation_0-auc:0.710803\n",
      "[136]\tvalidation_0-auc:0.711011\n",
      "[137]\tvalidation_0-auc:0.711227\n",
      "[138]\tvalidation_0-auc:0.71102\n",
      "[139]\tvalidation_0-auc:0.711246\n",
      "[140]\tvalidation_0-auc:0.711184\n",
      "[141]\tvalidation_0-auc:0.71103\n",
      "[142]\tvalidation_0-auc:0.710838\n",
      "[143]\tvalidation_0-auc:0.710836\n",
      "[144]\tvalidation_0-auc:0.710849\n",
      "[145]\tvalidation_0-auc:0.710975\n",
      "[146]\tvalidation_0-auc:0.710851\n",
      "[147]\tvalidation_0-auc:0.710857\n",
      "[148]\tvalidation_0-auc:0.711052\n",
      "[149]\tvalidation_0-auc:0.711134\n"
     ]
    },
    {
     "data": {
      "text/plain": [
       "XGBClassifier(base_score=0.5, booster='gbtree', colsample_bylevel=1,\n",
       "              colsample_bynode=1, colsample_bytree=1, eval_metric='auc',\n",
       "              gamma=0, learning_rate=0.05, max_delta_step=0, max_depth=3,\n",
       "              min_child_weight=1, missing=None, n_estimators=150, n_jobs=-1,\n",
       "              nthread=None, objective='binary:logistic', random_state=42,\n",
       "              reg_alpha=0, reg_lambda=1, scale_pos_weight=136, seed=None,\n",
       "              silent=None, subsample=1, tree_method='auto', verbosity=1)"
      ]
     },
     "execution_count": 22,
     "metadata": {},
     "output_type": "execute_result"
    }
   ],
   "source": [
    "xgb_model = xgb.XGBClassifier(objective=\"binary:logistic\", \n",
    "                              random_state=42, \n",
    "                              eval_metric=\"auc\",\n",
    "                              learning_rate=0.05,\n",
    "                              max_depth=3,\n",
    "                              n_estimators=150, \n",
    "                              n_jobs=-1,\n",
    "                              tree_method = 'auto',\n",
    "                              scale_pos_weight=136)  # sum(y == 0) / sum(y == 1)\n",
    "\n",
    "xgb_model.fit(X_train, y_train, eval_set=[(X_test, y_test)], verbose=1)"
   ]
  },
  {
   "cell_type": "code",
   "execution_count": 23,
   "metadata": {
    "ExecuteTime": {
     "end_time": "2019-11-15T03:19:49.045024Z",
     "start_time": "2019-11-15T03:19:45.819347Z"
    }
   },
   "outputs": [
    {
     "data": {
      "image/png": "[encoded data removed]",
      "text/plain": [
       "<Figure size 432x288 with 1 Axes>"
      ]
     },
     "metadata": {
      "needs_background": "light"
     },
     "output_type": "display_data"
    }
   ],
   "source": [
    "# training auc\n",
    "# roc_auc_score(y_train, xgb_model.predict_proba(X_train)[:,1])\n",
    "plotROC(y_train, xgb_model.predict_proba(X_train)[:,1])"
   ]
  },
  {
   "cell_type": "code",
   "execution_count": 24,
   "metadata": {
    "ExecuteTime": {
     "end_time": "2019-11-15T03:19:49.424588Z",
     "start_time": "2019-11-15T03:19:49.048060Z"
    }
   },
   "outputs": [
    {
     "data": {
      "text/plain": [
       "0.71113438152651"
      ]
     },
     "execution_count": 24,
     "metadata": {},
     "output_type": "execute_result"
    }
   ],
   "source": [
    "# test auc\n",
    "y_pred = xgb_model.predict_proba(X_test)[:,1]\n",
    "roc_auc_score(y_test, y_pred)"
   ]
  },
  {
   "cell_type": "code",
   "execution_count": 25,
   "metadata": {
    "ExecuteTime": {
     "end_time": "2019-11-15T03:19:49.758785Z",
     "start_time": "2019-11-15T03:19:49.430246Z"
    }
   },
   "outputs": [
    {
     "data": {
      "image/png": "[encoded data removed]",
      "text/plain": [
       "<Figure size 432x288 with 1 Axes>"
      ]
     },
     "metadata": {
      "needs_background": "light"
     },
     "output_type": "display_data"
    }
   ],
   "source": [
    "plotROC(y_test, y_pred)"
   ]
  },
  {
   "cell_type": "code",
   "execution_count": 26,
   "metadata": {
    "ExecuteTime": {
     "end_time": "2019-11-15T03:19:50.205346Z",
     "start_time": "2019-11-15T03:19:49.761440Z"
    }
   },
   "outputs": [
    {
     "data": {
      "text/plain": [
       "array([[30793, 12452],\n",
       "       [  126,   190]])"
      ]
     },
     "execution_count": 26,
     "metadata": {},
     "output_type": "execute_result"
    }
   ],
   "source": [
    "# confusion matrix\n",
    "y_pred_class = xgb_model.predict(X_test)\n",
    "confusion_matrix(y_test, y_pred_class)"
   ]
  },
  {
   "cell_type": "code",
   "execution_count": 27,
   "metadata": {
    "ExecuteTime": {
     "end_time": "2019-11-15T03:20:30.858353Z",
     "start_time": "2019-11-15T03:19:50.215606Z"
    }
   },
   "outputs": [
    {
     "name": "stderr",
     "output_type": "stream",
     "text": [
      "/home/shensir/anaconda3/lib/python3.6/site-packages/sklearn/preprocessing/label.py:219: DataConversionWarning: A column-vector y was passed when a 1d array was expected. Please change the shape of y to (n_samples, ), for example using ravel().\n",
      "  y = column_or_1d(y, warn=True)\n",
      "/home/shensir/anaconda3/lib/python3.6/site-packages/sklearn/preprocessing/label.py:252: DataConversionWarning: A column-vector y was passed when a 1d array was expected. Please change the shape of y to (n_samples, ), for example using ravel().\n",
      "  y = column_or_1d(y, warn=True)\n"
     ]
    },
    {
     "data": {
      "text/plain": [
       "XGBClassifier(base_score=0.5, booster='gbtree', colsample_bylevel=1,\n",
       "              colsample_bynode=1, colsample_bytree=1, eval_metric='auc',\n",
       "              gamma=0, learning_rate=0.05, max_delta_step=0, max_depth=4,\n",
       "              min_child_weight=1, missing=None, n_estimators=150, n_jobs=-1,\n",
       "              nthread=None, objective='binary:logistic', random_state=42,\n",
       "              reg_alpha=0, reg_lambda=1, scale_pos_weight=136, seed=None,\n",
       "              silent=None, subsample=1, tree_method='auto', verbosity=1)"
      ]
     },
     "execution_count": 27,
     "metadata": {},
     "output_type": "execute_result"
    }
   ],
   "source": [
    "# train with all data\n",
    "xgb_model = xgb.XGBClassifier(objective=\"binary:logistic\", \n",
    "                              random_state=42, \n",
    "                              eval_metric=\"auc\",\n",
    "                              learning_rate=0.05,\n",
    "                              max_depth=4,\n",
    "                              n_estimators=150, \n",
    "                              n_jobs=-1,\n",
    "                              tree_method = 'auto',\n",
    "                              scale_pos_weight=136)  # sum(y == 0) / sum(y == 1)\n",
    "\n",
    "xgb_model.fit(X, y, verbose=1)"
   ]
  },
  {
   "cell_type": "code",
   "execution_count": 28,
   "metadata": {
    "ExecuteTime": {
     "end_time": "2019-11-15T03:20:36.755875Z",
     "start_time": "2019-11-15T03:20:30.925142Z"
    }
   },
   "outputs": [
    {
     "data": {
      "text/plain": [
       "0.8234856135641998"
      ]
     },
     "execution_count": 28,
     "metadata": {},
     "output_type": "execute_result"
    }
   ],
   "source": [
    "# train auc\n",
    "y_pred = xgb_model.predict_proba(X)[:,1]\n",
    "roc_auc_score(y, y_pred)"
   ]
  },
  {
   "cell_type": "code",
   "execution_count": 29,
   "metadata": {
    "ExecuteTime": {
     "end_time": "2019-11-15T03:20:39.760659Z",
     "start_time": "2019-11-15T03:20:37.497582Z"
    }
   },
   "outputs": [
    {
     "data": {
      "image/png": "[encoded data removed]",
      "text/plain": [
       "<Figure size 432x288 with 1 Axes>"
      ]
     },
     "metadata": {
      "needs_background": "light"
     },
     "output_type": "display_data"
    }
   ],
   "source": [
    "plotROC(y, y_pred)"
   ]
  },
  {
   "cell_type": "code",
   "execution_count": 30,
   "metadata": {
    "ExecuteTime": {
     "end_time": "2019-11-15T03:20:41.134143Z",
     "start_time": "2019-11-15T03:20:39.776580Z"
    }
   },
   "outputs": [],
   "source": [
    "# pridict[线上，0.774493]\n",
    "result = pd.DataFrame()\n",
    "result['id'] = ids\n",
    "result['target'] = xgb_model.predict_proba(testX)[:,1]\n",
    "\n",
    "result.to_csv('../submissions/xgb.csv', index=None)"
   ]
  },
  {
   "cell_type": "markdown",
   "metadata": {},
   "source": [
    "## Easy Ensemble Classifier[0.76]"
   ]
  },
  {
   "cell_type": "code",
   "execution_count": 31,
   "metadata": {
    "ExecuteTime": {
     "end_time": "2019-11-15T03:23:16.579223Z",
     "start_time": "2019-11-15T03:21:32.930862Z"
    },
    "scrolled": true
   },
   "outputs": [
    {
     "name": "stderr",
     "output_type": "stream",
     "text": [
      "/home/shensir/anaconda3/lib/python3.6/site-packages/sklearn/ensemble/bagging.py:623: DataConversionWarning: A column-vector y was passed when a 1d array was expected. Please change the shape of y to (n_samples, ), for example using ravel().\n",
      "  y = column_or_1d(y, warn=True)\n",
      "[Parallel(n_jobs=4)]: Done   2 out of   4 | elapsed:  1.6min remaining:  1.6min\n",
      "[Parallel(n_jobs=4)]: Done   4 out of   4 | elapsed:  1.6min finished\n"
     ]
    },
    {
     "data": {
      "text/plain": [
       "EasyEnsembleClassifier(base_estimator=None, n_estimators=150, n_jobs=-1,\n",
       "                       random_state=0, replacement=False,\n",
       "                       sampling_strategy='auto', verbose=1, warm_start=True)"
      ]
     },
     "execution_count": 31,
     "metadata": {},
     "output_type": "execute_result"
    }
   ],
   "source": [
    "eec = EasyEnsembleClassifier(random_state=0,\n",
    "                            n_estimators=150,\n",
    "                            n_jobs=-1,\n",
    "                            warm_start=True,\n",
    "                            verbose=1)\n",
    "eec.fit(X_train, y_train)"
   ]
  },
  {
   "cell_type": "code",
   "execution_count": 32,
   "metadata": {
    "ExecuteTime": {
     "end_time": "2019-11-15T03:25:12.901207Z",
     "start_time": "2019-11-15T03:23:16.764079Z"
    }
   },
   "outputs": [
    {
     "name": "stderr",
     "output_type": "stream",
     "text": [
      "[Parallel(n_jobs=4)]: Done   2 out of   4 | elapsed:  1.8min remaining:  1.8min\n",
      "[Parallel(n_jobs=4)]: Done   4 out of   4 | elapsed:  1.8min finished\n"
     ]
    },
    {
     "data": {
      "text/plain": [
       "0.6664755272798055"
      ]
     },
     "execution_count": 32,
     "metadata": {},
     "output_type": "execute_result"
    }
   ],
   "source": [
    "y_pred_class = eec.predict(X_test)\n",
    "balanced_accuracy_score(y_test, y_pred_class)"
   ]
  },
  {
   "cell_type": "code",
   "execution_count": 33,
   "metadata": {
    "ExecuteTime": {
     "end_time": "2019-11-15T03:25:12.971489Z",
     "start_time": "2019-11-15T03:25:12.904487Z"
    }
   },
   "outputs": [
    {
     "data": {
      "text/plain": [
       "array([[28631, 14614],\n",
       "       [  104,   212]])"
      ]
     },
     "execution_count": 33,
     "metadata": {},
     "output_type": "execute_result"
    }
   ],
   "source": [
    "confusion_matrix(y_test, y_pred_class)"
   ]
  },
  {
   "cell_type": "code",
   "execution_count": 34,
   "metadata": {
    "ExecuteTime": {
     "end_time": "2019-11-15T03:26:54.492037Z",
     "start_time": "2019-11-15T03:25:12.974563Z"
    }
   },
   "outputs": [
    {
     "name": "stderr",
     "output_type": "stream",
     "text": [
      "[Parallel(n_jobs=4)]: Done   2 out of   4 | elapsed:  1.6min remaining:  1.6min\n",
      "[Parallel(n_jobs=4)]: Done   4 out of   4 | elapsed:  1.7min finished\n"
     ]
    },
    {
     "data": {
      "image/png": "[encoded data removed]",
      "text/plain": [
       "<Figure size 432x288 with 1 Axes>"
      ]
     },
     "metadata": {
      "needs_background": "light"
     },
     "output_type": "display_data"
    }
   ],
   "source": [
    "y_pred = eec.predict_proba(X_test)[:, 1]\n",
    "plotROC(y_test, y_pred)"
   ]
  },
  {
   "cell_type": "code",
   "execution_count": 35,
   "metadata": {
    "ExecuteTime": {
     "end_time": "2019-11-15T03:28:22.210453Z",
     "start_time": "2019-11-15T03:26:54.496142Z"
    }
   },
   "outputs": [
    {
     "name": "stderr",
     "output_type": "stream",
     "text": [
      "/home/shensir/anaconda3/lib/python3.6/site-packages/sklearn/ensemble/bagging.py:623: DataConversionWarning: A column-vector y was passed when a 1d array was expected. Please change the shape of y to (n_samples, ), for example using ravel().\n",
      "  y = column_or_1d(y, warn=True)\n",
      "[Parallel(n_jobs=2)]: Done   2 out of   2 | elapsed:  1.5min remaining:    0.0s\n",
      "[Parallel(n_jobs=2)]: Done   2 out of   2 | elapsed:  1.5min finished\n"
     ]
    },
    {
     "data": {
      "text/plain": [
       "EasyEnsembleClassifier(base_estimator=None, n_estimators=150, n_jobs=2,\n",
       "                       random_state=0, replacement=False,\n",
       "                       sampling_strategy='auto', verbose=1, warm_start=True)"
      ]
     },
     "execution_count": 35,
     "metadata": {},
     "output_type": "execute_result"
    }
   ],
   "source": [
    "# fit all data\n",
    "eec = EasyEnsembleClassifier(random_state=0,\n",
    "                            n_estimators=150,\n",
    "                            n_jobs=-1,\n",
    "                            warm_start=True,\n",
    "                            verbose=1)\n",
    "eec.fit(X, y)"
   ]
  },
  {
   "cell_type": "code",
   "execution_count": 36,
   "metadata": {
    "ExecuteTime": {
     "end_time": "2019-11-15T03:34:06.510666Z",
     "start_time": "2019-11-15T03:28:22.214670Z"
    }
   },
   "outputs": [
    {
     "name": "stderr",
     "output_type": "stream",
     "text": [
      "[Parallel(n_jobs=2)]: Done   2 out of   2 | elapsed:  5.7min remaining:    0.0s\n",
      "[Parallel(n_jobs=2)]: Done   2 out of   2 | elapsed:  5.7min finished\n"
     ]
    },
    {
     "data": {
      "image/png": "[encoded data removed]",
      "text/plain": [
       "<Figure size 432x288 with 1 Axes>"
      ]
     },
     "metadata": {
      "needs_background": "light"
     },
     "output_type": "display_data"
    }
   ],
   "source": [
    "y_pred = eec.predict_proba(X)[:, 1]\n",
    "plotROC(y, y_pred)"
   ]
  },
  {
   "cell_type": "code",
   "execution_count": 37,
   "metadata": {
    "ExecuteTime": {
     "end_time": "2019-11-15T03:34:06.923445Z",
     "start_time": "2019-11-15T03:34:06.513717Z"
    }
   },
   "outputs": [
    {
     "data": {
      "text/plain": [
       "0.740596452698646"
      ]
     },
     "execution_count": 37,
     "metadata": {},
     "output_type": "execute_result"
    }
   ],
   "source": [
    "roc_auc_score(y, y_pred)"
   ]
  },
  {
   "cell_type": "code",
   "execution_count": 38,
   "metadata": {
    "ExecuteTime": {
     "end_time": "2019-11-15T03:35:07.988463Z",
     "start_time": "2019-11-15T03:34:07.059922Z"
    }
   },
   "outputs": [
    {
     "name": "stderr",
     "output_type": "stream",
     "text": [
      "[Parallel(n_jobs=2)]: Done   2 out of   2 | elapsed:   59.0s remaining:    0.0s\n",
      "[Parallel(n_jobs=2)]: Done   2 out of   2 | elapsed:   59.0s finished\n"
     ]
    }
   ],
   "source": [
    "# pridict\n",
    "result = pd.DataFrame()\n",
    "result['id'] = ids\n",
    "result['target'] = eec.predict_proba(testX)[:, 1]\n",
    "result.to_csv('../submissions/EasyEnsemble.csv', index=None)"
   ]
  },
  {
   "cell_type": "markdown",
   "metadata": {},
   "source": [
    "## Balanced Bagging Classifier"
   ]
  },
  {
   "cell_type": "code",
   "execution_count": 48,
   "metadata": {
    "ExecuteTime": {
     "end_time": "2019-11-09T02:22:18.327963Z",
     "start_time": "2019-11-09T02:21:51.019203Z"
    }
   },
   "outputs": [
    {
     "name": "stderr",
     "output_type": "stream",
     "text": [
      "/home/shensir/anaconda3/lib/python3.6/site-packages/sklearn/ensemble/bagging.py:623: DataConversionWarning: A column-vector y was passed when a 1d array was expected. Please change the shape of y to (n_samples, ), for example using ravel().\n",
      "  y = column_or_1d(y, warn=True)\n",
      "[Parallel(n_jobs=2)]: Done   2 out of   2 | elapsed:   26.8s remaining:    0.0s\n",
      "[Parallel(n_jobs=2)]: Done   2 out of   2 | elapsed:   26.8s finished\n"
     ]
    },
    {
     "data": {
      "text/plain": [
       "BalancedBaggingClassifier(base_estimator=AdaBoostClassifier(algorithm='SAMME.R',\n",
       "                                                            base_estimator=None,\n",
       "                                                            learning_rate=1.0,\n",
       "                                                            n_estimators=50,\n",
       "                                                            random_state=None),\n",
       "                          bootstrap=True, bootstrap_features=False,\n",
       "                          max_features=1.0, max_samples=1.0, n_estimators=50,\n",
       "                          n_jobs=2, oob_score=False, random_state=42,\n",
       "                          ratio=None, replacement=False,\n",
       "                          sampling_strategy='auto', verbose=1,\n",
       "                          warm_start=False)"
      ]
     },
     "execution_count": 48,
     "metadata": {},
     "output_type": "execute_result"
    }
   ],
   "source": [
    "bc = BalancedBaggingClassifier(base_estimator=AdaBoostClassifier(),\n",
    "                              random_state=42,\n",
    "                              n_estimators=50,\n",
    "                              n_jobs=2,\n",
    "                              verbose=1)\n",
    "bc.fit(X_train, y_train)"
   ]
  },
  {
   "cell_type": "code",
   "execution_count": 49,
   "metadata": {
    "ExecuteTime": {
     "end_time": "2019-11-09T02:23:35.582380Z",
     "start_time": "2019-11-09T02:22:18.331138Z"
    }
   },
   "outputs": [
    {
     "name": "stderr",
     "output_type": "stream",
     "text": [
      "[Parallel(n_jobs=2)]: Done   2 out of   2 | elapsed:  1.3min remaining:    0.0s\n",
      "[Parallel(n_jobs=2)]: Done   2 out of   2 | elapsed:  1.3min finished\n"
     ]
    },
    {
     "data": {
      "image/png": "[encoded data removed]",
      "text/plain": [
       "<Figure size 432x288 with 1 Axes>"
      ]
     },
     "metadata": {
      "needs_background": "light"
     },
     "output_type": "display_data"
    }
   ],
   "source": [
    "# training data\n",
    "plotROC(y_train, bc.predict_proba(X_train)[:,1])"
   ]
  },
  {
   "cell_type": "code",
   "execution_count": 50,
   "metadata": {
    "ExecuteTime": {
     "end_time": "2019-11-09T02:24:51.340218Z",
     "start_time": "2019-11-09T02:23:35.585455Z"
    }
   },
   "outputs": [
    {
     "name": "stderr",
     "output_type": "stream",
     "text": [
      "[Parallel(n_jobs=2)]: Done   2 out of   2 | elapsed:  1.3min remaining:    0.0s\n",
      "[Parallel(n_jobs=2)]: Done   2 out of   2 | elapsed:  1.3min finished\n"
     ]
    },
    {
     "data": {
      "text/plain": [
       "array([[62048, 25749],\n",
       "       [  225,   418]])"
      ]
     },
     "execution_count": 50,
     "metadata": {},
     "output_type": "execute_result"
    }
   ],
   "source": [
    "confusion_matrix(y_train, bc.predict(X_train))"
   ]
  },
  {
   "cell_type": "code",
   "execution_count": 51,
   "metadata": {
    "ExecuteTime": {
     "end_time": "2019-11-09T02:25:33.125215Z",
     "start_time": "2019-11-09T02:24:51.344228Z"
    }
   },
   "outputs": [
    {
     "name": "stderr",
     "output_type": "stream",
     "text": [
      "[Parallel(n_jobs=2)]: Done   2 out of   2 | elapsed:   41.2s remaining:    0.0s\n",
      "[Parallel(n_jobs=2)]: Done   2 out of   2 | elapsed:   41.2s finished\n"
     ]
    },
    {
     "data": {
      "text/plain": [
       "array([[30346, 12899],\n",
       "       [  119,   197]])"
      ]
     },
     "execution_count": 51,
     "metadata": {},
     "output_type": "execute_result"
    }
   ],
   "source": [
    "# test data\n",
    "y_pred_class = bc.predict(X_test)\n",
    "# balanced_accuracy_score(y_test, y_pred_class)\n",
    "confusion_matrix(y_test, y_pred_class)"
   ]
  },
  {
   "cell_type": "code",
   "execution_count": 52,
   "metadata": {
    "ExecuteTime": {
     "end_time": "2019-11-09T02:26:12.852391Z",
     "start_time": "2019-11-09T02:25:33.128456Z"
    }
   },
   "outputs": [
    {
     "name": "stderr",
     "output_type": "stream",
     "text": [
      "[Parallel(n_jobs=2)]: Done   2 out of   2 | elapsed:   39.0s remaining:    0.0s\n",
      "[Parallel(n_jobs=2)]: Done   2 out of   2 | elapsed:   39.0s finished\n"
     ]
    },
    {
     "data": {
      "image/png": "[encoded data removed]",
      "text/plain": [
       "<Figure size 432x288 with 1 Axes>"
      ]
     },
     "metadata": {
      "needs_background": "light"
     },
     "output_type": "display_data"
    }
   ],
   "source": [
    "y_pred = bc.predict_proba(X_test)[:, 1]\n",
    "plotROC(y_test, y_pred)"
   ]
  },
  {
   "cell_type": "code",
   "execution_count": 53,
   "metadata": {
    "ExecuteTime": {
     "end_time": "2019-11-09T02:27:32.850158Z",
     "start_time": "2019-11-09T02:26:12.856093Z"
    }
   },
   "outputs": [
    {
     "name": "stderr",
     "output_type": "stream",
     "text": [
      "/home/shensir/anaconda3/lib/python3.6/site-packages/sklearn/ensemble/bagging.py:623: DataConversionWarning: A column-vector y was passed when a 1d array was expected. Please change the shape of y to (n_samples, ), for example using ravel().\n",
      "  y = column_or_1d(y, warn=True)\n",
      "[Parallel(n_jobs=2)]: Done   2 out of   2 | elapsed:  1.3min remaining:    0.0s\n",
      "[Parallel(n_jobs=2)]: Done   2 out of   2 | elapsed:  1.3min finished\n"
     ]
    },
    {
     "data": {
      "text/plain": [
       "BalancedBaggingClassifier(base_estimator=AdaBoostClassifier(algorithm='SAMME.R',\n",
       "                                                            base_estimator=None,\n",
       "                                                            learning_rate=1.0,\n",
       "                                                            n_estimators=50,\n",
       "                                                            random_state=None),\n",
       "                          bootstrap=True, bootstrap_features=False,\n",
       "                          max_features=1.0, max_samples=1.0, n_estimators=100,\n",
       "                          n_jobs=2, oob_score=False, random_state=0, ratio=None,\n",
       "                          replacement=False, sampling_strategy='auto',\n",
       "                          verbose=1, warm_start=False)"
      ]
     },
     "execution_count": 53,
     "metadata": {},
     "output_type": "execute_result"
    }
   ],
   "source": [
    "# fit all data\n",
    "bc = BalancedBaggingClassifier(base_estimator=AdaBoostClassifier(),\n",
    "                              random_state=0,\n",
    "                              n_estimators=100,\n",
    "                              n_jobs=2,\n",
    "                              verbose=1)\n",
    "bc.fit(X, y)"
   ]
  },
  {
   "cell_type": "code",
   "execution_count": 54,
   "metadata": {
    "ExecuteTime": {
     "end_time": "2019-11-09T02:31:14.182336Z",
     "start_time": "2019-11-09T02:27:32.890490Z"
    }
   },
   "outputs": [
    {
     "name": "stderr",
     "output_type": "stream",
     "text": [
      "[Parallel(n_jobs=2)]: Done   2 out of   2 | elapsed:  3.7min remaining:    0.0s\n",
      "[Parallel(n_jobs=2)]: Done   2 out of   2 | elapsed:  3.7min finished\n"
     ]
    },
    {
     "data": {
      "image/png": "[encoded data removed]",
      "text/plain": [
       "<Figure size 432x288 with 1 Axes>"
      ]
     },
     "metadata": {
      "needs_background": "light"
     },
     "output_type": "display_data"
    }
   ],
   "source": [
    "y_pred = bc.predict_proba(X)[:, 1]\n",
    "plotROC(y, y_pred)"
   ]
  },
  {
   "cell_type": "code",
   "execution_count": 55,
   "metadata": {
    "ExecuteTime": {
     "end_time": "2019-11-09T02:31:14.281758Z",
     "start_time": "2019-11-09T02:31:14.186422Z"
    }
   },
   "outputs": [
    {
     "data": {
      "text/plain": [
       "0.7387508027220464"
      ]
     },
     "execution_count": 55,
     "metadata": {},
     "output_type": "execute_result"
    }
   ],
   "source": [
    "roc_auc_score(y, y_pred)"
   ]
  },
  {
   "cell_type": "code",
   "execution_count": 56,
   "metadata": {
    "ExecuteTime": {
     "end_time": "2019-11-09T02:31:52.555886Z",
     "start_time": "2019-11-09T02:31:14.285589Z"
    }
   },
   "outputs": [
    {
     "name": "stderr",
     "output_type": "stream",
     "text": [
      "[Parallel(n_jobs=2)]: Done   2 out of   2 | elapsed:   37.7s remaining:    0.0s\n",
      "[Parallel(n_jobs=2)]: Done   2 out of   2 | elapsed:   37.7s finished\n"
     ]
    }
   ],
   "source": [
    "result = pd.DataFrame()\n",
    "result['id'] = ids\n",
    "result['target'] = bc.predict_proba(testX)[:, 1]\n",
    "result.to_csv('../submissions/BalancedBaggingClassifier.csv', index=None)"
   ]
  },
  {
   "cell_type": "code",
   "execution_count": 63,
   "metadata": {
    "ExecuteTime": {
     "end_time": "2019-11-09T02:34:45.685152Z",
     "start_time": "2019-11-09T02:34:43.680672Z"
    }
   },
   "outputs": [],
   "source": [
    "result = pd.DataFrame()\n",
    "result['id'] = ids\n",
    "result['target'] = rusboost.predict_proba(testX)[:, 1]\n",
    "result.to_csv('../submissions/RUSBoostClassifier[test].csv', index=None)"
   ]
  },
  {
   "cell_type": "code",
   "execution_count": null,
   "metadata": {},
   "outputs": [],
   "source": []
  }
 ],
 "metadata": {
  "file_extension": ".py",
  "kernelspec": {
   "display_name": "Python 3",
   "language": "python",
   "name": "python3"
  },
  "language_info": {
   "codemirror_mode": {
    "name": "ipython",
    "version": 3
   },
   "file_extension": ".py",
   "mimetype": "text/x-python",
   "name": "python",
   "nbconvert_exporter": "python",
   "pygments_lexer": "ipython3",
   "version": "3.6.8"
  },
  "mimetype": "text/x-python",
  "name": "python",
  "npconvert_exporter": "python",
  "pygments_lexer": "ipython3",
  "toc": {
   "nav_menu": {},
   "number_sections": false,
   "sideBar": true,
   "skip_h1_title": false,
   "title_cell": "Table of Contents",
   "title_sidebar": "Contents",
   "toc_cell": false,
   "toc_position": {},
   "toc_section_display": true,
   "toc_window_display": false
  },
  "version": 3
 },
 "nbformat": 4,
 "nbformat_minor": 1
}
